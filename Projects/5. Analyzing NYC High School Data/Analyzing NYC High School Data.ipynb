{
 "cells": [
  {
   "cell_type": "markdown",
   "metadata": {},
   "source": [
    "# Analyzing NYC High School Data"
   ]
  },
  {
   "cell_type": "markdown",
   "metadata": {},
   "source": [
    "We will work with the fillowing interrelated data sets about New York City public schools:\n",
    "\n",
    "- [SAT scores by school](https://data.cityofnewyork.us/Education/2012-SAT-Results/f9bf-2cp4) - SAT scores for each high school in New York City\n",
    "\n",
    "- [SAT scores by school](https://data.cityofnewyork.us/Education/2010-2011-School-Attendance-and-Enrollment-Statist/7z8d-msnt) - Attendance information for each school in New York City\n",
    "\n",
    "- [Class size](https://data.cityofnewyork.us/Education/2010-2011-Class-Size-School-level-detail/urz7-pzb3) - Information on class size for each school\n",
    "\n",
    "- [AP test results](https://data.cityofnewyork.us/Education/2010-AP-College-Board-School-Level-Results/itfs-ms3e) - Advanced Placement (AP) exam results for each high school\n",
    "\n",
    "- [Graduation outcomes](https://data.cityofnewyork.us/Education/2005-2010-Graduation-Outcomes-School-Level/vh2h-md7a) - The percentage of students who graduated, and other outcome information\n",
    "\n",
    "- [Demographics](https://data.cityofnewyork.us/Education/2006-2012-School-Demographics-and-Accountability-S/ihfw-zy9j) - Demographic information for each school\n",
    "\n",
    "- [School survey](https://data.cityofnewyork.us/Education/2010-2011-NYC-School-Survey/mnz3-dyi8) - Surveys of parents, teachers, and students at each school"
   ]
  },
  {
   "cell_type": "markdown",
   "metadata": {},
   "source": [
    "### Reading in the data"
   ]
  },
  {
   "cell_type": "code",
   "execution_count": 1,
   "metadata": {},
   "outputs": [],
   "source": [
    "# reading in the CSV files\n",
    "\n",
    "import pandas as pd\n",
    "data_files = [\"ap_2010.csv\",\n",
    "\"class_size.csv\",\n",
    "\"demographics.csv\",\n",
    "\"graduation.csv\",\n",
    "\"hs_directory.csv\",\n",
    "\"sat_results.csv\"]\n",
    "\n",
    "data = {}\n",
    "for file in data_files:\n",
    "    data[file.replace(\".csv\",\"\")] = pd.read_csv(file)"
   ]
  },
  {
   "cell_type": "code",
   "execution_count": 2,
   "metadata": {},
   "outputs": [],
   "source": [
    "# Reading in the survey data\n",
    "\n",
    "all_survey = pd.read_csv(\"survey_all.txt\",delimiter=\"\\t\",encoding=\"windows-1252\")\n",
    "d75_survey = pd.read_csv(\"survey_d75.txt\",delimiter=\"\\t\",encoding=\"windows-1252\")\n",
    "survey = pd.concat([all_survey,d75_survey],axis=0,sort=True)"
   ]
  },
  {
   "cell_type": "markdown",
   "metadata": {},
   "source": [
    "### Cleaning the Data"
   ]
  },
  {
   "cell_type": "code",
   "execution_count": 3,
   "metadata": {},
   "outputs": [],
   "source": [
    "# Cleaning Up the Surveys\n",
    "\n",
    "survey[\"DBN\"]=survey[\"dbn\"]\n",
    "survey = survey.loc[:,[\"DBN\",\"rr_s\", \"rr_t\", \"rr_p\", \"N_s\", \"N_t\", \"N_p\", \"saf_p_11\", \"com_p_11\", \"eng_p_11\", \"aca_p_11\", \"saf_t_11\", \"com_t_11\", \"eng_t_11\", \"aca_t_11\", \"saf_s_11\", \"com_s_11\", \"eng_s_11\", \"aca_s_11\", \"saf_tot_11\", \"com_tot_11\", \"eng_tot_11\", \"aca_tot_11\"]]\n",
    "data[\"survey\"] = survey"
   ]
  },
  {
   "cell_type": "code",
   "execution_count": 4,
   "metadata": {},
   "outputs": [],
   "source": [
    "# Inserting DBN Fields\n",
    "\n",
    "data[\"hs_directory\"][\"DBN\"] = data[\"hs_directory\"][\"dbn\"]\n",
    "\n",
    "def pad(n):\n",
    "    if len(str(n)) > 1:\n",
    "        return str(n)\n",
    "    else:\n",
    "        return str(n).zfill(2)\n",
    "\n",
    "data[\"class_size\"][\"padded_csd\"] = data[\"class_size\"][\"CSD\"].apply(pad)\n",
    "data[\"class_size\"][\"DBN\"] = data[\"class_size\"][\"padded_csd\"] + data[\"class_size\"][\"SCHOOL CODE\"]"
   ]
  },
  {
   "cell_type": "code",
   "execution_count": 5,
   "metadata": {},
   "outputs": [],
   "source": [
    "# Combining the SAT Scores\n",
    "\n",
    "cols = [\"SAT Math Avg. Score\",\"SAT Critical Reading Avg. Score\",\"SAT Writing Avg. Score\"]\n",
    "for col in cols:\n",
    "    data[\"sat_results\"][col] = pd.to_numeric(data[\"sat_results\"][col],errors=\"coerce\")\n",
    "\n",
    "data[\"sat_results\"][\"sat_score\"] = data[\"sat_results\"][cols[0]] + data[\"sat_results\"][cols[1]] + data[\"sat_results\"][cols[2]]"
   ]
  },
  {
   "cell_type": "code",
   "execution_count": 6,
   "metadata": {},
   "outputs": [],
   "source": [
    "# Parsing Geographic Coordinates for Schools\n",
    "\n",
    "import re\n",
    "\n",
    "def get_lat(location):\n",
    "    return re.findall(\"\\(.+\\)\",location)[0].split(\",\")[0].replace('(',\"\")\n",
    "\n",
    "data[\"hs_directory\"][\"lat\"] = data[\"hs_directory\"][\"Location 1\"].apply(get_lat)\n",
    "\n",
    "def get_lon(location):\n",
    "    return re.findall(\"\\(.+\\)\",location)[0].split(\",\")[1].replace(')',\"\")\n",
    "\n",
    "data[\"hs_directory\"][\"lon\"] = data[\"hs_directory\"][\"Location 1\"].apply(get_lon)"
   ]
  },
  {
   "cell_type": "markdown",
   "metadata": {},
   "source": [
    "#### Condensing the Class Size Data Set"
   ]
  },
  {
   "cell_type": "code",
   "execution_count": 7,
   "metadata": {},
   "outputs": [],
   "source": [
    "class_size = data['class_size']"
   ]
  },
  {
   "cell_type": "code",
   "execution_count": 8,
   "metadata": {},
   "outputs": [],
   "source": [
    "class_size = class_size[class_size['GRADE '] == '09-12']\n",
    "class_size = class_size[class_size['PROGRAM TYPE'] == 'GEN ED']"
   ]
  },
  {
   "cell_type": "markdown",
   "metadata": {},
   "source": [
    "#### Computing Average Class Sizes"
   ]
  },
  {
   "cell_type": "code",
   "execution_count": 9,
   "metadata": {},
   "outputs": [],
   "source": [
    "import numpy as np"
   ]
  },
  {
   "cell_type": "code",
   "execution_count": 10,
   "metadata": {},
   "outputs": [
    {
     "data": {
      "text/html": [
       "<div>\n",
       "<style scoped>\n",
       "    .dataframe tbody tr th:only-of-type {\n",
       "        vertical-align: middle;\n",
       "    }\n",
       "\n",
       "    .dataframe tbody tr th {\n",
       "        vertical-align: top;\n",
       "    }\n",
       "\n",
       "    .dataframe thead th {\n",
       "        text-align: right;\n",
       "    }\n",
       "</style>\n",
       "<table border=\"1\" class=\"dataframe\">\n",
       "  <thead>\n",
       "    <tr style=\"text-align: right;\">\n",
       "      <th></th>\n",
       "      <th>DBN</th>\n",
       "      <th>CSD</th>\n",
       "      <th>NUMBER OF STUDENTS / SEATS FILLED</th>\n",
       "      <th>NUMBER OF SECTIONS</th>\n",
       "      <th>AVERAGE CLASS SIZE</th>\n",
       "      <th>SIZE OF SMALLEST CLASS</th>\n",
       "      <th>SIZE OF LARGEST CLASS</th>\n",
       "      <th>SCHOOLWIDE PUPIL-TEACHER RATIO</th>\n",
       "    </tr>\n",
       "  </thead>\n",
       "  <tbody>\n",
       "    <tr>\n",
       "      <th>0</th>\n",
       "      <td>01M292</td>\n",
       "      <td>1</td>\n",
       "      <td>88.0000</td>\n",
       "      <td>4.000000</td>\n",
       "      <td>22.564286</td>\n",
       "      <td>18.50</td>\n",
       "      <td>26.571429</td>\n",
       "      <td>NaN</td>\n",
       "    </tr>\n",
       "    <tr>\n",
       "      <th>1</th>\n",
       "      <td>01M332</td>\n",
       "      <td>1</td>\n",
       "      <td>46.0000</td>\n",
       "      <td>2.000000</td>\n",
       "      <td>22.000000</td>\n",
       "      <td>21.00</td>\n",
       "      <td>23.500000</td>\n",
       "      <td>NaN</td>\n",
       "    </tr>\n",
       "    <tr>\n",
       "      <th>2</th>\n",
       "      <td>01M378</td>\n",
       "      <td>1</td>\n",
       "      <td>33.0000</td>\n",
       "      <td>1.000000</td>\n",
       "      <td>33.000000</td>\n",
       "      <td>33.00</td>\n",
       "      <td>33.000000</td>\n",
       "      <td>NaN</td>\n",
       "    </tr>\n",
       "    <tr>\n",
       "      <th>3</th>\n",
       "      <td>01M448</td>\n",
       "      <td>1</td>\n",
       "      <td>105.6875</td>\n",
       "      <td>4.750000</td>\n",
       "      <td>22.231250</td>\n",
       "      <td>18.25</td>\n",
       "      <td>27.062500</td>\n",
       "      <td>NaN</td>\n",
       "    </tr>\n",
       "    <tr>\n",
       "      <th>4</th>\n",
       "      <td>01M450</td>\n",
       "      <td>1</td>\n",
       "      <td>57.6000</td>\n",
       "      <td>2.733333</td>\n",
       "      <td>21.200000</td>\n",
       "      <td>19.40</td>\n",
       "      <td>22.866667</td>\n",
       "      <td>NaN</td>\n",
       "    </tr>\n",
       "  </tbody>\n",
       "</table>\n",
       "</div>"
      ],
      "text/plain": [
       "      DBN  CSD  NUMBER OF STUDENTS / SEATS FILLED  NUMBER OF SECTIONS  \\\n",
       "0  01M292    1                            88.0000            4.000000   \n",
       "1  01M332    1                            46.0000            2.000000   \n",
       "2  01M378    1                            33.0000            1.000000   \n",
       "3  01M448    1                           105.6875            4.750000   \n",
       "4  01M450    1                            57.6000            2.733333   \n",
       "\n",
       "   AVERAGE CLASS SIZE  SIZE OF SMALLEST CLASS  SIZE OF LARGEST CLASS  \\\n",
       "0           22.564286                   18.50              26.571429   \n",
       "1           22.000000                   21.00              23.500000   \n",
       "2           33.000000                   33.00              33.000000   \n",
       "3           22.231250                   18.25              27.062500   \n",
       "4           21.200000                   19.40              22.866667   \n",
       "\n",
       "   SCHOOLWIDE PUPIL-TEACHER RATIO  \n",
       "0                             NaN  \n",
       "1                             NaN  \n",
       "2                             NaN  \n",
       "3                             NaN  \n",
       "4                             NaN  "
      ]
     },
     "execution_count": 10,
     "metadata": {},
     "output_type": "execute_result"
    }
   ],
   "source": [
    "class_size = class_size.groupby('DBN').agg(np.mean)\n",
    "class_size.reset_index(inplace=True)\n",
    "data[\"class_size\"] = class_size\n",
    "data[\"class_size\"].head()"
   ]
  },
  {
   "cell_type": "markdown",
   "metadata": {},
   "source": [
    "#### Condensing the Demographics Data Set"
   ]
  },
  {
   "cell_type": "code",
   "execution_count": 11,
   "metadata": {},
   "outputs": [],
   "source": [
    "demographics = data[\"demographics\"]"
   ]
  },
  {
   "cell_type": "code",
   "execution_count": 12,
   "metadata": {},
   "outputs": [
    {
     "data": {
      "text/html": [
       "<div>\n",
       "<style scoped>\n",
       "    .dataframe tbody tr th:only-of-type {\n",
       "        vertical-align: middle;\n",
       "    }\n",
       "\n",
       "    .dataframe tbody tr th {\n",
       "        vertical-align: top;\n",
       "    }\n",
       "\n",
       "    .dataframe thead th {\n",
       "        text-align: right;\n",
       "    }\n",
       "</style>\n",
       "<table border=\"1\" class=\"dataframe\">\n",
       "  <thead>\n",
       "    <tr style=\"text-align: right;\">\n",
       "      <th></th>\n",
       "      <th>DBN</th>\n",
       "      <th>Name</th>\n",
       "      <th>schoolyear</th>\n",
       "      <th>fl_percent</th>\n",
       "      <th>frl_percent</th>\n",
       "      <th>total_enrollment</th>\n",
       "      <th>prek</th>\n",
       "      <th>k</th>\n",
       "      <th>grade1</th>\n",
       "      <th>grade2</th>\n",
       "      <th>...</th>\n",
       "      <th>black_num</th>\n",
       "      <th>black_per</th>\n",
       "      <th>hispanic_num</th>\n",
       "      <th>hispanic_per</th>\n",
       "      <th>white_num</th>\n",
       "      <th>white_per</th>\n",
       "      <th>male_num</th>\n",
       "      <th>male_per</th>\n",
       "      <th>female_num</th>\n",
       "      <th>female_per</th>\n",
       "    </tr>\n",
       "  </thead>\n",
       "  <tbody>\n",
       "    <tr>\n",
       "      <th>6</th>\n",
       "      <td>01M015</td>\n",
       "      <td>P.S. 015 ROBERTO CLEMENTE</td>\n",
       "      <td>20112012</td>\n",
       "      <td>NaN</td>\n",
       "      <td>89.4</td>\n",
       "      <td>189</td>\n",
       "      <td>13</td>\n",
       "      <td>31</td>\n",
       "      <td>35</td>\n",
       "      <td>28</td>\n",
       "      <td>...</td>\n",
       "      <td>63</td>\n",
       "      <td>33.3</td>\n",
       "      <td>109</td>\n",
       "      <td>57.7</td>\n",
       "      <td>4</td>\n",
       "      <td>2.1</td>\n",
       "      <td>97.0</td>\n",
       "      <td>51.3</td>\n",
       "      <td>92.0</td>\n",
       "      <td>48.7</td>\n",
       "    </tr>\n",
       "    <tr>\n",
       "      <th>13</th>\n",
       "      <td>01M019</td>\n",
       "      <td>P.S. 019 ASHER LEVY</td>\n",
       "      <td>20112012</td>\n",
       "      <td>NaN</td>\n",
       "      <td>61.5</td>\n",
       "      <td>328</td>\n",
       "      <td>32</td>\n",
       "      <td>46</td>\n",
       "      <td>52</td>\n",
       "      <td>54</td>\n",
       "      <td>...</td>\n",
       "      <td>81</td>\n",
       "      <td>24.7</td>\n",
       "      <td>158</td>\n",
       "      <td>48.2</td>\n",
       "      <td>28</td>\n",
       "      <td>8.5</td>\n",
       "      <td>147.0</td>\n",
       "      <td>44.8</td>\n",
       "      <td>181.0</td>\n",
       "      <td>55.2</td>\n",
       "    </tr>\n",
       "    <tr>\n",
       "      <th>20</th>\n",
       "      <td>01M020</td>\n",
       "      <td>PS 020 ANNA SILVER</td>\n",
       "      <td>20112012</td>\n",
       "      <td>NaN</td>\n",
       "      <td>92.5</td>\n",
       "      <td>626</td>\n",
       "      <td>52</td>\n",
       "      <td>102</td>\n",
       "      <td>121</td>\n",
       "      <td>87</td>\n",
       "      <td>...</td>\n",
       "      <td>55</td>\n",
       "      <td>8.8</td>\n",
       "      <td>357</td>\n",
       "      <td>57.0</td>\n",
       "      <td>16</td>\n",
       "      <td>2.6</td>\n",
       "      <td>330.0</td>\n",
       "      <td>52.7</td>\n",
       "      <td>296.0</td>\n",
       "      <td>47.3</td>\n",
       "    </tr>\n",
       "    <tr>\n",
       "      <th>27</th>\n",
       "      <td>01M034</td>\n",
       "      <td>PS 034 FRANKLIN D ROOSEVELT</td>\n",
       "      <td>20112012</td>\n",
       "      <td>NaN</td>\n",
       "      <td>99.7</td>\n",
       "      <td>401</td>\n",
       "      <td>14</td>\n",
       "      <td>34</td>\n",
       "      <td>38</td>\n",
       "      <td>36</td>\n",
       "      <td>...</td>\n",
       "      <td>90</td>\n",
       "      <td>22.4</td>\n",
       "      <td>275</td>\n",
       "      <td>68.6</td>\n",
       "      <td>8</td>\n",
       "      <td>2.0</td>\n",
       "      <td>204.0</td>\n",
       "      <td>50.9</td>\n",
       "      <td>197.0</td>\n",
       "      <td>49.1</td>\n",
       "    </tr>\n",
       "    <tr>\n",
       "      <th>35</th>\n",
       "      <td>01M063</td>\n",
       "      <td>PS 063 WILLIAM MCKINLEY</td>\n",
       "      <td>20112012</td>\n",
       "      <td>NaN</td>\n",
       "      <td>78.9</td>\n",
       "      <td>176</td>\n",
       "      <td>18</td>\n",
       "      <td>20</td>\n",
       "      <td>30</td>\n",
       "      <td>21</td>\n",
       "      <td>...</td>\n",
       "      <td>41</td>\n",
       "      <td>23.3</td>\n",
       "      <td>110</td>\n",
       "      <td>62.5</td>\n",
       "      <td>15</td>\n",
       "      <td>8.5</td>\n",
       "      <td>97.0</td>\n",
       "      <td>55.1</td>\n",
       "      <td>79.0</td>\n",
       "      <td>44.9</td>\n",
       "    </tr>\n",
       "  </tbody>\n",
       "</table>\n",
       "<p>5 rows × 38 columns</p>\n",
       "</div>"
      ],
      "text/plain": [
       "       DBN                                              Name  schoolyear  \\\n",
       "6   01M015  P.S. 015 ROBERTO CLEMENTE                           20112012   \n",
       "13  01M019  P.S. 019 ASHER LEVY                                 20112012   \n",
       "20  01M020  PS 020 ANNA SILVER                                  20112012   \n",
       "27  01M034  PS 034 FRANKLIN D ROOSEVELT                         20112012   \n",
       "35  01M063  PS 063 WILLIAM MCKINLEY                             20112012   \n",
       "\n",
       "   fl_percent  frl_percent  total_enrollment prek    k grade1 grade2  \\\n",
       "6         NaN         89.4               189   13   31     35     28   \n",
       "13        NaN         61.5               328   32   46     52     54   \n",
       "20        NaN         92.5               626   52  102    121     87   \n",
       "27        NaN         99.7               401   14   34     38     36   \n",
       "35        NaN         78.9               176   18   20     30     21   \n",
       "\n",
       "      ...     black_num black_per hispanic_num hispanic_per white_num  \\\n",
       "6     ...            63      33.3          109         57.7         4   \n",
       "13    ...            81      24.7          158         48.2        28   \n",
       "20    ...            55       8.8          357         57.0        16   \n",
       "27    ...            90      22.4          275         68.6         8   \n",
       "35    ...            41      23.3          110         62.5        15   \n",
       "\n",
       "   white_per male_num male_per female_num female_per  \n",
       "6        2.1     97.0     51.3       92.0       48.7  \n",
       "13       8.5    147.0     44.8      181.0       55.2  \n",
       "20       2.6    330.0     52.7      296.0       47.3  \n",
       "27       2.0    204.0     50.9      197.0       49.1  \n",
       "35       8.5     97.0     55.1       79.0       44.9  \n",
       "\n",
       "[5 rows x 38 columns]"
      ]
     },
     "execution_count": 12,
     "metadata": {},
     "output_type": "execute_result"
    }
   ],
   "source": [
    "demographics = demographics[demographics['schoolyear'] == 20112012]\n",
    "demographics.head()"
   ]
  },
  {
   "cell_type": "code",
   "execution_count": 13,
   "metadata": {},
   "outputs": [],
   "source": [
    "data[\"demographics\"] = demographics"
   ]
  },
  {
   "cell_type": "markdown",
   "metadata": {},
   "source": [
    "#### Condensing the Graduation Data Set"
   ]
  },
  {
   "cell_type": "code",
   "execution_count": 14,
   "metadata": {},
   "outputs": [],
   "source": [
    "data[\"graduation\"] = data[\"graduation\"][data[\"graduation\"]['Cohort'] == '2006']"
   ]
  },
  {
   "cell_type": "code",
   "execution_count": 15,
   "metadata": {},
   "outputs": [],
   "source": [
    "data[\"graduation\"] = data[\"graduation\"][data[\"graduation\"]['Demographic'] == 'Total Cohort']"
   ]
  },
  {
   "cell_type": "markdown",
   "metadata": {},
   "source": [
    "#### Converting AP Test Scores"
   ]
  },
  {
   "cell_type": "code",
   "execution_count": 16,
   "metadata": {},
   "outputs": [],
   "source": [
    "cols = ['AP Test Takers ', 'Total Exams Taken','Number of Exams with scores 3 4 or 5']\n",
    "for col in cols:\n",
    "    data[\"ap_2010\"][col] = pd.to_numeric(data[\"ap_2010\"][col], errors=\"coerce\")"
   ]
  },
  {
   "cell_type": "markdown",
   "metadata": {},
   "source": [
    "#### Performing the Left Joins"
   ]
  },
  {
   "cell_type": "code",
   "execution_count": 17,
   "metadata": {},
   "outputs": [],
   "source": [
    "combined = data[\"sat_results\"]"
   ]
  },
  {
   "cell_type": "code",
   "execution_count": 18,
   "metadata": {},
   "outputs": [],
   "source": [
    "combined = combined.merge(data[\"ap_2010\"], on='DBN',how= 'left')"
   ]
  },
  {
   "cell_type": "code",
   "execution_count": 19,
   "metadata": {},
   "outputs": [],
   "source": [
    "combined = combined.merge(data[\"graduation\"], on='DBN',how= 'left')"
   ]
  },
  {
   "cell_type": "markdown",
   "metadata": {},
   "source": [
    "#### Performing the Inner Joins"
   ]
  },
  {
   "cell_type": "code",
   "execution_count": 20,
   "metadata": {},
   "outputs": [],
   "source": [
    "to_merge = ['class_size', 'demographics', 'survey', 'hs_directory']\n",
    "\n",
    "for i in to_merge:\n",
    "    combined = combined.merge(data[i], on='DBN',how= 'inner')"
   ]
  },
  {
   "cell_type": "markdown",
   "metadata": {},
   "source": [
    "#### Filling in Missing Values"
   ]
  },
  {
   "cell_type": "code",
   "execution_count": 21,
   "metadata": {},
   "outputs": [],
   "source": [
    "combined = combined.fillna(combined.mean())"
   ]
  },
  {
   "cell_type": "code",
   "execution_count": 22,
   "metadata": {},
   "outputs": [],
   "source": [
    "combined = combined.fillna(0)"
   ]
  },
  {
   "cell_type": "markdown",
   "metadata": {},
   "source": [
    "#### Adding a School District Column for Mapping"
   ]
  },
  {
   "cell_type": "code",
   "execution_count": 23,
   "metadata": {},
   "outputs": [],
   "source": [
    "def get_first_two(str):\n",
    "    return str[0:2]"
   ]
  },
  {
   "cell_type": "code",
   "execution_count": 24,
   "metadata": {},
   "outputs": [],
   "source": [
    "combined[\"school_dist\"] = combined[\"DBN\"].apply(get_first_two)"
   ]
  },
  {
   "cell_type": "code",
   "execution_count": 25,
   "metadata": {},
   "outputs": [
    {
     "data": {
      "text/html": [
       "<div>\n",
       "<style scoped>\n",
       "    .dataframe tbody tr th:only-of-type {\n",
       "        vertical-align: middle;\n",
       "    }\n",
       "\n",
       "    .dataframe tbody tr th {\n",
       "        vertical-align: top;\n",
       "    }\n",
       "\n",
       "    .dataframe thead th {\n",
       "        text-align: right;\n",
       "    }\n",
       "</style>\n",
       "<table border=\"1\" class=\"dataframe\">\n",
       "  <thead>\n",
       "    <tr style=\"text-align: right;\">\n",
       "      <th></th>\n",
       "      <th>DBN</th>\n",
       "      <th>SCHOOL NAME</th>\n",
       "      <th>Num of SAT Test Takers</th>\n",
       "      <th>SAT Critical Reading Avg. Score</th>\n",
       "      <th>SAT Math Avg. Score</th>\n",
       "      <th>SAT Writing Avg. Score</th>\n",
       "      <th>sat_score</th>\n",
       "      <th>SchoolName</th>\n",
       "      <th>AP Test Takers</th>\n",
       "      <th>Total Exams Taken</th>\n",
       "      <th>...</th>\n",
       "      <th>priority05</th>\n",
       "      <th>priority06</th>\n",
       "      <th>priority07</th>\n",
       "      <th>priority08</th>\n",
       "      <th>priority09</th>\n",
       "      <th>priority10</th>\n",
       "      <th>Location 1</th>\n",
       "      <th>lat</th>\n",
       "      <th>lon</th>\n",
       "      <th>school_dist</th>\n",
       "    </tr>\n",
       "  </thead>\n",
       "  <tbody>\n",
       "    <tr>\n",
       "      <th>0</th>\n",
       "      <td>01M292</td>\n",
       "      <td>HENRY STREET SCHOOL FOR INTERNATIONAL STUDIES</td>\n",
       "      <td>29</td>\n",
       "      <td>355.0</td>\n",
       "      <td>404.0</td>\n",
       "      <td>363.0</td>\n",
       "      <td>1122.0</td>\n",
       "      <td>0</td>\n",
       "      <td>129.028846</td>\n",
       "      <td>197.038462</td>\n",
       "      <td>...</td>\n",
       "      <td>Then to New York City residents</td>\n",
       "      <td>0</td>\n",
       "      <td>0</td>\n",
       "      <td>0</td>\n",
       "      <td>0</td>\n",
       "      <td>0</td>\n",
       "      <td>220 Henry Street\\nNew York, NY 10002\\n(40.7137...</td>\n",
       "      <td>40.71376394700047</td>\n",
       "      <td>-73.98526003999967</td>\n",
       "      <td>01</td>\n",
       "    </tr>\n",
       "    <tr>\n",
       "      <th>1</th>\n",
       "      <td>01M448</td>\n",
       "      <td>UNIVERSITY NEIGHBORHOOD HIGH SCHOOL</td>\n",
       "      <td>91</td>\n",
       "      <td>383.0</td>\n",
       "      <td>423.0</td>\n",
       "      <td>366.0</td>\n",
       "      <td>1172.0</td>\n",
       "      <td>UNIVERSITY NEIGHBORHOOD H.S.</td>\n",
       "      <td>39.000000</td>\n",
       "      <td>49.000000</td>\n",
       "      <td>...</td>\n",
       "      <td>0</td>\n",
       "      <td>0</td>\n",
       "      <td>0</td>\n",
       "      <td>0</td>\n",
       "      <td>0</td>\n",
       "      <td>0</td>\n",
       "      <td>200 Monroe Street\\nNew York, NY 10002\\n(40.712...</td>\n",
       "      <td>40.7123318510005</td>\n",
       "      <td>-73.98479662499966</td>\n",
       "      <td>01</td>\n",
       "    </tr>\n",
       "    <tr>\n",
       "      <th>2</th>\n",
       "      <td>01M450</td>\n",
       "      <td>EAST SIDE COMMUNITY SCHOOL</td>\n",
       "      <td>70</td>\n",
       "      <td>377.0</td>\n",
       "      <td>402.0</td>\n",
       "      <td>370.0</td>\n",
       "      <td>1149.0</td>\n",
       "      <td>EAST SIDE COMMUNITY HS</td>\n",
       "      <td>19.000000</td>\n",
       "      <td>21.000000</td>\n",
       "      <td>...</td>\n",
       "      <td>0</td>\n",
       "      <td>0</td>\n",
       "      <td>0</td>\n",
       "      <td>0</td>\n",
       "      <td>0</td>\n",
       "      <td>0</td>\n",
       "      <td>420 East 12 Street\\nNew York, NY 10009\\n(40.72...</td>\n",
       "      <td>40.729782687000466</td>\n",
       "      <td>-73.98304144099967</td>\n",
       "      <td>01</td>\n",
       "    </tr>\n",
       "    <tr>\n",
       "      <th>3</th>\n",
       "      <td>01M509</td>\n",
       "      <td>MARTA VALLE HIGH SCHOOL</td>\n",
       "      <td>44</td>\n",
       "      <td>390.0</td>\n",
       "      <td>433.0</td>\n",
       "      <td>384.0</td>\n",
       "      <td>1207.0</td>\n",
       "      <td>0</td>\n",
       "      <td>129.028846</td>\n",
       "      <td>197.038462</td>\n",
       "      <td>...</td>\n",
       "      <td>0</td>\n",
       "      <td>0</td>\n",
       "      <td>0</td>\n",
       "      <td>0</td>\n",
       "      <td>0</td>\n",
       "      <td>0</td>\n",
       "      <td>145 Stanton Street\\nNew York, NY 10002\\n(40.72...</td>\n",
       "      <td>40.720569079000484</td>\n",
       "      <td>-73.98567269099965</td>\n",
       "      <td>01</td>\n",
       "    </tr>\n",
       "    <tr>\n",
       "      <th>4</th>\n",
       "      <td>01M539</td>\n",
       "      <td>NEW EXPLORATIONS INTO SCIENCE, TECHNOLOGY AND ...</td>\n",
       "      <td>159</td>\n",
       "      <td>522.0</td>\n",
       "      <td>574.0</td>\n",
       "      <td>525.0</td>\n",
       "      <td>1621.0</td>\n",
       "      <td>NEW EXPLORATIONS SCI,TECH,MATH</td>\n",
       "      <td>255.000000</td>\n",
       "      <td>377.000000</td>\n",
       "      <td>...</td>\n",
       "      <td>0</td>\n",
       "      <td>0</td>\n",
       "      <td>0</td>\n",
       "      <td>0</td>\n",
       "      <td>0</td>\n",
       "      <td>0</td>\n",
       "      <td>111 Columbia Street\\nNew York, NY 10002\\n(40.7...</td>\n",
       "      <td>40.718725451000466</td>\n",
       "      <td>-73.97942638599966</td>\n",
       "      <td>01</td>\n",
       "    </tr>\n",
       "  </tbody>\n",
       "</table>\n",
       "<p>5 rows × 160 columns</p>\n",
       "</div>"
      ],
      "text/plain": [
       "      DBN                                        SCHOOL NAME  \\\n",
       "0  01M292      HENRY STREET SCHOOL FOR INTERNATIONAL STUDIES   \n",
       "1  01M448                UNIVERSITY NEIGHBORHOOD HIGH SCHOOL   \n",
       "2  01M450                         EAST SIDE COMMUNITY SCHOOL   \n",
       "3  01M509                            MARTA VALLE HIGH SCHOOL   \n",
       "4  01M539  NEW EXPLORATIONS INTO SCIENCE, TECHNOLOGY AND ...   \n",
       "\n",
       "  Num of SAT Test Takers  SAT Critical Reading Avg. Score  \\\n",
       "0                     29                            355.0   \n",
       "1                     91                            383.0   \n",
       "2                     70                            377.0   \n",
       "3                     44                            390.0   \n",
       "4                    159                            522.0   \n",
       "\n",
       "   SAT Math Avg. Score  SAT Writing Avg. Score  sat_score  \\\n",
       "0                404.0                   363.0     1122.0   \n",
       "1                423.0                   366.0     1172.0   \n",
       "2                402.0                   370.0     1149.0   \n",
       "3                433.0                   384.0     1207.0   \n",
       "4                574.0                   525.0     1621.0   \n",
       "\n",
       "                       SchoolName  AP Test Takers   Total Exams Taken  \\\n",
       "0                               0       129.028846         197.038462   \n",
       "1    UNIVERSITY NEIGHBORHOOD H.S.        39.000000          49.000000   \n",
       "2          EAST SIDE COMMUNITY HS        19.000000          21.000000   \n",
       "3                               0       129.028846         197.038462   \n",
       "4  NEW EXPLORATIONS SCI,TECH,MATH       255.000000         377.000000   \n",
       "\n",
       "      ...                           priority05 priority06 priority07  \\\n",
       "0     ...      Then to New York City residents          0          0   \n",
       "1     ...                                    0          0          0   \n",
       "2     ...                                    0          0          0   \n",
       "3     ...                                    0          0          0   \n",
       "4     ...                                    0          0          0   \n",
       "\n",
       "  priority08  priority09 priority10  \\\n",
       "0          0           0          0   \n",
       "1          0           0          0   \n",
       "2          0           0          0   \n",
       "3          0           0          0   \n",
       "4          0           0          0   \n",
       "\n",
       "                                          Location 1                 lat  \\\n",
       "0  220 Henry Street\\nNew York, NY 10002\\n(40.7137...   40.71376394700047   \n",
       "1  200 Monroe Street\\nNew York, NY 10002\\n(40.712...    40.7123318510005   \n",
       "2  420 East 12 Street\\nNew York, NY 10009\\n(40.72...  40.729782687000466   \n",
       "3  145 Stanton Street\\nNew York, NY 10002\\n(40.72...  40.720569079000484   \n",
       "4  111 Columbia Street\\nNew York, NY 10002\\n(40.7...  40.718725451000466   \n",
       "\n",
       "                   lon school_dist  \n",
       "0   -73.98526003999967          01  \n",
       "1   -73.98479662499966          01  \n",
       "2   -73.98304144099967          01  \n",
       "3   -73.98567269099965          01  \n",
       "4   -73.97942638599966          01  \n",
       "\n",
       "[5 rows x 160 columns]"
      ]
     },
     "execution_count": 25,
     "metadata": {},
     "output_type": "execute_result"
    }
   ],
   "source": [
    "combined.head()"
   ]
  },
  {
   "cell_type": "markdown",
   "metadata": {},
   "source": [
    "### Exploring the Data"
   ]
  },
  {
   "cell_type": "markdown",
   "metadata": {},
   "source": [
    "#### Finding correlations"
   ]
  },
  {
   "cell_type": "code",
   "execution_count": 26,
   "metadata": {},
   "outputs": [
    {
     "data": {
      "text/plain": [
       "SAT Critical Reading Avg. Score         0.986820\n",
       "SAT Math Avg. Score                     0.972643\n",
       "SAT Writing Avg. Score                  0.987771\n",
       "sat_score                               1.000000\n",
       "AP Test Takers                          0.523140\n",
       "Total Exams Taken                       0.514333\n",
       "Number of Exams with scores 3 4 or 5    0.463245\n",
       "Total Cohort                            0.325144\n",
       "CSD                                     0.042948\n",
       "NUMBER OF STUDENTS / SEATS FILLED       0.394626\n",
       "NUMBER OF SECTIONS                      0.362673\n",
       "AVERAGE CLASS SIZE                      0.381014\n",
       "SIZE OF SMALLEST CLASS                  0.249949\n",
       "SIZE OF LARGEST CLASS                   0.314434\n",
       "SCHOOLWIDE PUPIL-TEACHER RATIO               NaN\n",
       "schoolyear                                   NaN\n",
       "fl_percent                                   NaN\n",
       "frl_percent                            -0.722225\n",
       "total_enrollment                        0.367857\n",
       "ell_num                                -0.153778\n",
       "ell_percent                            -0.398750\n",
       "sped_num                                0.034933\n",
       "sped_percent                           -0.448170\n",
       "asian_num                               0.475445\n",
       "asian_per                               0.570730\n",
       "black_num                               0.027979\n",
       "black_per                              -0.284139\n",
       "hispanic_num                            0.025744\n",
       "hispanic_per                           -0.396985\n",
       "white_num                               0.449559\n",
       "                                          ...   \n",
       "rr_s                                    0.232199\n",
       "rr_t                                   -0.023386\n",
       "rr_p                                    0.047925\n",
       "N_s                                     0.423463\n",
       "N_t                                     0.291463\n",
       "N_p                                     0.421530\n",
       "saf_p_11                                0.122913\n",
       "com_p_11                               -0.115073\n",
       "eng_p_11                                0.020254\n",
       "aca_p_11                                0.035155\n",
       "saf_t_11                                0.313810\n",
       "com_t_11                                0.082419\n",
       "eng_t_11                                0.036906\n",
       "aca_t_11                                0.132348\n",
       "saf_s_11                                0.337639\n",
       "com_s_11                                0.187370\n",
       "eng_s_11                                0.213822\n",
       "aca_s_11                                0.339435\n",
       "saf_tot_11                              0.318753\n",
       "com_tot_11                              0.077310\n",
       "eng_tot_11                              0.100102\n",
       "aca_tot_11                              0.190966\n",
       "grade_span_max                               NaN\n",
       "expgrade_span_max                            NaN\n",
       "zip                                    -0.063977\n",
       "total_students                          0.407827\n",
       "number_programs                         0.117012\n",
       "priority08                                   NaN\n",
       "priority09                                   NaN\n",
       "priority10                                   NaN\n",
       "Name: sat_score, Length: 65, dtype: float64"
      ]
     },
     "execution_count": 26,
     "metadata": {},
     "output_type": "execute_result"
    }
   ],
   "source": [
    "correlations = combined.corr()\n",
    "correlations = correlations[\"sat_score\"]\n",
    "correlations"
   ]
  },
  {
   "cell_type": "markdown",
   "metadata": {},
   "source": [
    "#### Plotting survey correlations"
   ]
  },
  {
   "cell_type": "code",
   "execution_count": 27,
   "metadata": {},
   "outputs": [
    {
     "data": {
      "text/plain": [
       "<matplotlib.axes._subplots.AxesSubplot at 0x25743e103c8>"
      ]
     },
     "execution_count": 27,
     "metadata": {},
     "output_type": "execute_result"
    }
   ],
   "source": [
    "import warnings\n",
    "warnings.filterwarnings('ignore')\n",
    "survey_fields = [\"DBN\",\"rr_s\", \"rr_t\", \"rr_p\", \"N_s\", \"N_t\", \"N_p\", \"saf_p_11\", \"com_p_11\", \"eng_p_11\", \"aca_p_11\", \"saf_t_11\", \"com_t_11\", \"eng_t_11\", \"aca_t_11\", \"saf_s_11\", \"com_s_11\", \"eng_s_11\", \"aca_s_11\", \"saf_tot_11\", \"com_tot_11\", \"eng_tot_11\", \"aca_tot_11\"]\n",
    "combined.corr()[\"sat_score\"][survey_fields].plot.bar()"
   ]
  },
  {
   "cell_type": "markdown",
   "metadata": {},
   "source": [
    "#### Exploring Safety and SAT Scores"
   ]
  },
  {
   "cell_type": "code",
   "execution_count": 28,
   "metadata": {},
   "outputs": [
    {
     "data": {
      "text/plain": [
       "<matplotlib.axes._subplots.AxesSubplot at 0x25743de7cc0>"
      ]
     },
     "execution_count": 28,
     "metadata": {},
     "output_type": "execute_result"
    },
    {
     "data": {
      "image/png": "[encoded data removed]",
      "text/plain": [
       "<matplotlib.figure.Figure at 0x25743dde978>"
      ]
     },
     "metadata": {},
     "output_type": "display_data"
    }
   ],
   "source": [
    "combined.plot.scatter(\"saf_s_11\", \"sat_score\")"
   ]
  },
  {
   "cell_type": "markdown",
   "metadata": {},
   "source": [
    "#### Plotting safety"
   ]
  },
  {
   "cell_type": "code",
   "execution_count": 29,
   "metadata": {},
   "outputs": [
    {
     "data": {
      "text/plain": [
       "<matplotlib.collections.PathCollection at 0x2574438c7f0>"
      ]
     },
     "execution_count": 29,
     "metadata": {},
     "output_type": "execute_result"
    },
    {
     "data": {
      "image/png": "[encoded data removed]",
      "text/plain": [
       "<matplotlib.figure.Figure at 0x25743d9f240>"
      ]
     },
     "metadata": {},
     "output_type": "display_data"
    }
   ],
   "source": [
    "import matplotlib.pyplot as plt\n",
    "from mpl_toolkits.basemap import Basemap\n",
    "\n",
    "combined['lat'] = pd.to_numeric(combined['lat'])\n",
    "combined['lon'] = pd.to_numeric(combined['lon'])\n",
    "\n",
    "districts = combined.groupby(\"school_dist\").agg(np.mean)\n",
    "districts.reset_index(inplace=True)\n",
    "\n",
    "m = Basemap(\n",
    "projection='merc',\n",
    "llcrnrlat=40.496044,\n",
    "urcrnrlat=40.915256,\n",
    "llcrnrlon=-74.255735,\n",
    "urcrnrlon=-73.700272,\n",
    "resolution='i'\n",
    ")\n",
    "\n",
    "m.drawmapboundary(fill_color='#85A6D9')\n",
    "m.drawcoastlines(color='#6D5F47', linewidth=.4)\n",
    "m.drawrivers(color='#6D5F47', linewidth=.4)\n",
    "m.fillcontinents(color='white',lake_color='#85A6D9')\n",
    "\n",
    "longitudes = districts[\"lon\"].tolist()\n",
    "latitudes = districts[\"lat\"].tolist()\n",
    "m.scatter(longitudes, latitudes, s=50, zorder=2, latlon=True, c=districts[\"saf_s_11\"], cmap=\"summer\")"
   ]
  },
  {
   "cell_type": "markdown",
   "metadata": {},
   "source": [
    "#### Exploring Race and SAT Scores"
   ]
  },
  {
   "cell_type": "code",
   "execution_count": 32,
   "metadata": {},
   "outputs": [
    {
     "data": {
      "text/plain": [
       "<matplotlib.axes._subplots.AxesSubplot at 0x2574462e7b8>"
      ]
     },
     "execution_count": 32,
     "metadata": {},
     "output_type": "execute_result"
    },
    {
     "data": {
      "image/png": "[encoded data removed]",
      "text/plain": [
       "<matplotlib.figure.Figure at 0x25744561f98>"
      ]
     },
     "metadata": {},
     "output_type": "display_data"
    }
   ],
   "source": [
    "combined.corr()[\"sat_score\"][[\"white_per\", \"asian_per\", \"black_per\", \"hispanic_per\"]].plot.bar()"
   ]
  },
  {
   "cell_type": "code",
   "execution_count": 36,
   "metadata": {},
   "outputs": [
    {
     "data": {
      "text/plain": [
       "<matplotlib.axes._subplots.AxesSubplot at 0x25744643cc0>"
      ]
     },
     "execution_count": 36,
     "metadata": {},
     "output_type": "execute_result"
    },
    {
     "data": {
      "image/png": "[encoded data removed]",
      "text/plain": [
       "<matplotlib.figure.Figure at 0x257446430b8>"
      ]
     },
     "metadata": {},
     "output_type": "display_data"
    }
   ],
   "source": [
    "combined.plot.scatter(\"hispanic_per\", \"sat_score\")"
   ]
  },
  {
   "cell_type": "code",
   "execution_count": 37,
   "metadata": {},
   "outputs": [
    {
     "name": "stdout",
     "output_type": "stream",
     "text": [
      "44                         MANHATTAN BRIDGES HIGH SCHOOL\n",
      "82      WASHINGTON HEIGHTS EXPEDITIONARY LEARNING SCHOOL\n",
      "89     GREGORIO LUPERON HIGH SCHOOL FOR SCIENCE AND M...\n",
      "125                  ACADEMY FOR LANGUAGE AND TECHNOLOGY\n",
      "141                INTERNATIONAL SCHOOL FOR LIBERAL ARTS\n",
      "176     PAN AMERICAN INTERNATIONAL HIGH SCHOOL AT MONROE\n",
      "253                            MULTICULTURAL HIGH SCHOOL\n",
      "286               PAN AMERICAN INTERNATIONAL HIGH SCHOOL\n",
      "Name: SCHOOL NAME, dtype: object\n"
     ]
    }
   ],
   "source": [
    "print(combined[combined[\"hispanic_per\"] > 95][\"SCHOOL NAME\"])"
   ]
  },
  {
   "cell_type": "code",
   "execution_count": 38,
   "metadata": {},
   "outputs": [
    {
     "name": "stdout",
     "output_type": "stream",
     "text": [
      "37                                STUYVESANT HIGH SCHOOL\n",
      "151                         BRONX HIGH SCHOOL OF SCIENCE\n",
      "187                       BROOKLYN TECHNICAL HIGH SCHOOL\n",
      "327    QUEENS HIGH SCHOOL FOR THE SCIENCES AT YORK CO...\n",
      "356                  STATEN ISLAND TECHNICAL HIGH SCHOOL\n",
      "Name: SCHOOL NAME, dtype: object\n"
     ]
    }
   ],
   "source": [
    "print(combined[(combined[\"hispanic_per\"] < 10) & (combined[\"sat_score\"] > 1800)][\"SCHOOL NAME\"])"
   ]
  },
  {
   "cell_type": "markdown",
   "metadata": {},
   "source": [
    "#### Exploring Gender and SAT Scores"
   ]
  },
  {
   "cell_type": "code",
   "execution_count": 39,
   "metadata": {},
   "outputs": [
    {
     "data": {
      "text/plain": [
       "<matplotlib.axes._subplots.AxesSubplot at 0x25744715e80>"
      ]
     },
     "execution_count": 39,
     "metadata": {},
     "output_type": "execute_result"
    },
    {
     "data": {
      "image/png": "[encoded data removed]",
      "text/plain": [
       "<matplotlib.figure.Figure at 0x257447628d0>"
      ]
     },
     "metadata": {},
     "output_type": "display_data"
    }
   ],
   "source": [
    "combined.corr()[\"sat_score\"][[\"male_per\", \"female_per\"]].plot.bar()"
   ]
  },
  {
   "cell_type": "code",
   "execution_count": 42,
   "metadata": {},
   "outputs": [
    {
     "data": {
      "text/plain": [
       "<matplotlib.axes._subplots.AxesSubplot at 0x257448a4ef0>"
      ]
     },
     "execution_count": 42,
     "metadata": {},
     "output_type": "execute_result"
    },
    {
     "data": {
      "image/png": "[encoded data removed]",
      "text/plain": [
       "<matplotlib.figure.Figure at 0x25744672320>"
      ]
     },
     "metadata": {},
     "output_type": "display_data"
    }
   ],
   "source": [
    "combined.plot.scatter(\"male_per\", \"sat_score\")"
   ]
  },
  {
   "cell_type": "code",
   "execution_count": 43,
   "metadata": {},
   "outputs": [
    {
     "data": {
      "text/plain": [
       "<matplotlib.axes._subplots.AxesSubplot at 0x25744911550>"
      ]
     },
     "execution_count": 43,
     "metadata": {},
     "output_type": "execute_result"
    },
    {
     "data": {
      "image/png": "[encoded data removed]",
      "text/plain": [
       "<matplotlib.figure.Figure at 0x25744885f60>"
      ]
     },
     "metadata": {},
     "output_type": "display_data"
    }
   ],
   "source": [
    "combined.plot.scatter(\"female_per\", \"sat_score\")"
   ]
  },
  {
   "cell_type": "code",
   "execution_count": 44,
   "metadata": {},
   "outputs": [
    {
     "name": "stdout",
     "output_type": "stream",
     "text": [
      "5                         BARD HIGH SCHOOL EARLY COLLEGE\n",
      "26                         ELEANOR ROOSEVELT HIGH SCHOOL\n",
      "60                                    BEACON HIGH SCHOOL\n",
      "61     FIORELLO H. LAGUARDIA HIGH SCHOOL OF MUSIC & A...\n",
      "302                          TOWNSEND HARRIS HIGH SCHOOL\n",
      "Name: SCHOOL NAME, dtype: object\n"
     ]
    }
   ],
   "source": [
    "print(combined[(combined[\"female_per\"] > 60) & (combined[\"sat_score\"] > 1700)][\"SCHOOL NAME\"])"
   ]
  },
  {
   "cell_type": "markdown",
   "metadata": {},
   "source": [
    "### Exploring AP Scores vs. SAT Scores"
   ]
  },
  {
   "cell_type": "code",
   "execution_count": 45,
   "metadata": {},
   "outputs": [
    {
     "data": {
      "text/plain": [
       "<matplotlib.axes._subplots.AxesSubplot at 0x25744932ba8>"
      ]
     },
     "execution_count": 45,
     "metadata": {},
     "output_type": "execute_result"
    },
    {
     "data": {
      "image/png": "[encoded data removed]",
      "text/plain": [
       "<matplotlib.figure.Figure at 0x2574491bef0>"
      ]
     },
     "metadata": {},
     "output_type": "display_data"
    }
   ],
   "source": [
    "combined[\"ap_per\"] = combined[\"AP Test Takers \"] / combined[\"total_enrollment\"]\n",
    "\n",
    "combined.plot.scatter(x='ap_per', y='sat_score')"
   ]
  }
 ],
 "metadata": {
  "kernelspec": {
   "display_name": "Python 3",
   "language": "python",
   "name": "python3"
  },
  "language_info": {
   "codemirror_mode": {
    "name": "ipython",
    "version": 3
   },
   "file_extension": ".py",
   "mimetype": "text/x-python",
   "name": "python",
   "nbconvert_exporter": "python",
   "pygments_lexer": "ipython3",
   "version": "3.6.5"
  }
 },
 "nbformat": 4,
 "nbformat_minor": 2
}
