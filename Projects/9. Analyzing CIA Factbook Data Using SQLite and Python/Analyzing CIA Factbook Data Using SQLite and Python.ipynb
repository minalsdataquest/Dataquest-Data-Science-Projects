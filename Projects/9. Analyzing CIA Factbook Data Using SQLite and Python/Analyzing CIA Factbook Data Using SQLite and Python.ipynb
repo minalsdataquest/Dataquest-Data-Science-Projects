{
 "cells": [
  {
   "cell_type": "markdown",
   "metadata": {},
   "source": [
    "# Analyzing CIA Factbook Data Using SQLite and Python"
   ]
  },
  {
   "cell_type": "markdown",
   "metadata": {},
   "source": [
    "## Exploring the database"
   ]
  },
  {
   "cell_type": "markdown",
   "metadata": {},
   "source": [
    "We'll work with data from the CIA World Factbook, a compendium of statistics about all of the countries on Earth. The Factbook contains demographic information like:\n",
    "\n",
    "- `name` - The name of the country.\n",
    "- `area` - The total land and sea area of the country.\n",
    "- `population` - The country's population.\n",
    "- `population_growth` - The country's population growth as a percentage.\n",
    "- `birth_rate` - The country's birth rate, or the number of births a year per 1,000 people.\n",
    "- `death_rate` - The country's death rate, or the number of death a year per 1,000 people.\n",
    "- `area- The` country's total area (both land and water).\n",
    "- `area_land` - The country's land area in square kilometers.\n",
    "- `area_water` - The country's waterarea in square kilometers."
   ]
  },
  {
   "cell_type": "code",
   "execution_count": 1,
   "metadata": {},
   "outputs": [],
   "source": [
    "import sqlite3\n",
    "import pandas as pd"
   ]
  },
  {
   "cell_type": "code",
   "execution_count": 2,
   "metadata": {},
   "outputs": [],
   "source": [
    "conn = sqlite3.connect(\"factbook.db\")"
   ]
  },
  {
   "cell_type": "code",
   "execution_count": 3,
   "metadata": {},
   "outputs": [
    {
     "data": {
      "text/html": [
       "<div>\n",
       "<style scoped>\n",
       "    .dataframe tbody tr th:only-of-type {\n",
       "        vertical-align: middle;\n",
       "    }\n",
       "\n",
       "    .dataframe tbody tr th {\n",
       "        vertical-align: top;\n",
       "    }\n",
       "\n",
       "    .dataframe thead th {\n",
       "        text-align: right;\n",
       "    }\n",
       "</style>\n",
       "<table border=\"1\" class=\"dataframe\">\n",
       "  <thead>\n",
       "    <tr style=\"text-align: right;\">\n",
       "      <th></th>\n",
       "      <th>type</th>\n",
       "      <th>name</th>\n",
       "      <th>tbl_name</th>\n",
       "      <th>rootpage</th>\n",
       "      <th>sql</th>\n",
       "    </tr>\n",
       "  </thead>\n",
       "  <tbody>\n",
       "    <tr>\n",
       "      <th>0</th>\n",
       "      <td>table</td>\n",
       "      <td>sqlite_sequence</td>\n",
       "      <td>sqlite_sequence</td>\n",
       "      <td>3</td>\n",
       "      <td>CREATE TABLE sqlite_sequence(name,seq)</td>\n",
       "    </tr>\n",
       "    <tr>\n",
       "      <th>1</th>\n",
       "      <td>table</td>\n",
       "      <td>facts</td>\n",
       "      <td>facts</td>\n",
       "      <td>47</td>\n",
       "      <td>CREATE TABLE \"facts\" (\"id\" INTEGER PRIMARY KEY...</td>\n",
       "    </tr>\n",
       "  </tbody>\n",
       "</table>\n",
       "</div>"
      ],
      "text/plain": [
       "    type             name         tbl_name  rootpage  \\\n",
       "0  table  sqlite_sequence  sqlite_sequence         3   \n",
       "1  table            facts            facts        47   \n",
       "\n",
       "                                                 sql  \n",
       "0             CREATE TABLE sqlite_sequence(name,seq)  \n",
       "1  CREATE TABLE \"facts\" (\"id\" INTEGER PRIMARY KEY...  "
      ]
     },
     "execution_count": 3,
     "metadata": {},
     "output_type": "execute_result"
    }
   ],
   "source": [
    "q1 = \"select * FROM sqlite_master where type='table';\"\n",
    "pd.read_sql_query(q1, conn)"
   ]
  },
  {
   "cell_type": "code",
   "execution_count": 4,
   "metadata": {},
   "outputs": [
    {
     "data": {
      "text/plain": [
       "[('table',\n",
       "  'sqlite_sequence',\n",
       "  'sqlite_sequence',\n",
       "  3,\n",
       "  'CREATE TABLE sqlite_sequence(name,seq)'),\n",
       " ('table',\n",
       "  'facts',\n",
       "  'facts',\n",
       "  47,\n",
       "  'CREATE TABLE \"facts\" (\"id\" INTEGER PRIMARY KEY AUTOINCREMENT NOT NULL, \"code\" varchar(255) NOT NULL, \"name\" varchar(255) NOT NULL, \"area\" integer, \"area_land\" integer, \"area_water\" integer, \"population\" integer, \"population_growth\" float, \"birth_rate\" float, \"death_rate\" float, \"migration_rate\" float)')]"
      ]
     },
     "execution_count": 4,
     "metadata": {},
     "output_type": "execute_result"
    }
   ],
   "source": [
    "conn.execute(q1).fetchall()"
   ]
  },
  {
   "cell_type": "code",
   "execution_count": 5,
   "metadata": {},
   "outputs": [
    {
     "data": {
      "text/html": [
       "<div>\n",
       "<style scoped>\n",
       "    .dataframe tbody tr th:only-of-type {\n",
       "        vertical-align: middle;\n",
       "    }\n",
       "\n",
       "    .dataframe tbody tr th {\n",
       "        vertical-align: top;\n",
       "    }\n",
       "\n",
       "    .dataframe thead th {\n",
       "        text-align: right;\n",
       "    }\n",
       "</style>\n",
       "<table border=\"1\" class=\"dataframe\">\n",
       "  <thead>\n",
       "    <tr style=\"text-align: right;\">\n",
       "      <th></th>\n",
       "      <th>id</th>\n",
       "      <th>code</th>\n",
       "      <th>name</th>\n",
       "      <th>area</th>\n",
       "      <th>area_land</th>\n",
       "      <th>area_water</th>\n",
       "      <th>population</th>\n",
       "      <th>population_growth</th>\n",
       "      <th>birth_rate</th>\n",
       "      <th>death_rate</th>\n",
       "      <th>migration_rate</th>\n",
       "    </tr>\n",
       "  </thead>\n",
       "  <tbody>\n",
       "    <tr>\n",
       "      <th>0</th>\n",
       "      <td>1</td>\n",
       "      <td>af</td>\n",
       "      <td>Afghanistan</td>\n",
       "      <td>652230</td>\n",
       "      <td>652230</td>\n",
       "      <td>0</td>\n",
       "      <td>32564342</td>\n",
       "      <td>2.32</td>\n",
       "      <td>38.57</td>\n",
       "      <td>13.89</td>\n",
       "      <td>1.51</td>\n",
       "    </tr>\n",
       "    <tr>\n",
       "      <th>1</th>\n",
       "      <td>2</td>\n",
       "      <td>al</td>\n",
       "      <td>Albania</td>\n",
       "      <td>28748</td>\n",
       "      <td>27398</td>\n",
       "      <td>1350</td>\n",
       "      <td>3029278</td>\n",
       "      <td>0.30</td>\n",
       "      <td>12.92</td>\n",
       "      <td>6.58</td>\n",
       "      <td>3.30</td>\n",
       "    </tr>\n",
       "    <tr>\n",
       "      <th>2</th>\n",
       "      <td>3</td>\n",
       "      <td>ag</td>\n",
       "      <td>Algeria</td>\n",
       "      <td>2381741</td>\n",
       "      <td>2381741</td>\n",
       "      <td>0</td>\n",
       "      <td>39542166</td>\n",
       "      <td>1.84</td>\n",
       "      <td>23.67</td>\n",
       "      <td>4.31</td>\n",
       "      <td>0.92</td>\n",
       "    </tr>\n",
       "    <tr>\n",
       "      <th>3</th>\n",
       "      <td>4</td>\n",
       "      <td>an</td>\n",
       "      <td>Andorra</td>\n",
       "      <td>468</td>\n",
       "      <td>468</td>\n",
       "      <td>0</td>\n",
       "      <td>85580</td>\n",
       "      <td>0.12</td>\n",
       "      <td>8.13</td>\n",
       "      <td>6.96</td>\n",
       "      <td>0.00</td>\n",
       "    </tr>\n",
       "    <tr>\n",
       "      <th>4</th>\n",
       "      <td>5</td>\n",
       "      <td>ao</td>\n",
       "      <td>Angola</td>\n",
       "      <td>1246700</td>\n",
       "      <td>1246700</td>\n",
       "      <td>0</td>\n",
       "      <td>19625353</td>\n",
       "      <td>2.78</td>\n",
       "      <td>38.78</td>\n",
       "      <td>11.49</td>\n",
       "      <td>0.46</td>\n",
       "    </tr>\n",
       "  </tbody>\n",
       "</table>\n",
       "</div>"
      ],
      "text/plain": [
       "   id code         name     area  area_land  area_water  population  \\\n",
       "0   1   af  Afghanistan   652230     652230           0    32564342   \n",
       "1   2   al      Albania    28748      27398        1350     3029278   \n",
       "2   3   ag      Algeria  2381741    2381741           0    39542166   \n",
       "3   4   an      Andorra      468        468           0       85580   \n",
       "4   5   ao       Angola  1246700    1246700           0    19625353   \n",
       "\n",
       "   population_growth  birth_rate  death_rate  migration_rate  \n",
       "0               2.32       38.57       13.89            1.51  \n",
       "1               0.30       12.92        6.58            3.30  \n",
       "2               1.84       23.67        4.31            0.92  \n",
       "3               0.12        8.13        6.96            0.00  \n",
       "4               2.78       38.78       11.49            0.46  "
      ]
     },
     "execution_count": 5,
     "metadata": {},
     "output_type": "execute_result"
    }
   ],
   "source": [
    "# return the first 5 rows of the facts table in the database\n",
    "q2 = \"select * from facts limit 5;\"\n",
    "pd.read_sql_query(q2, conn)"
   ]
  },
  {
   "cell_type": "markdown",
   "metadata": {},
   "source": [
    "## Calculating summary statistics"
   ]
  },
  {
   "cell_type": "code",
   "execution_count": 7,
   "metadata": {},
   "outputs": [
    {
     "data": {
      "text/html": [
       "<div>\n",
       "<style scoped>\n",
       "    .dataframe tbody tr th:only-of-type {\n",
       "        vertical-align: middle;\n",
       "    }\n",
       "\n",
       "    .dataframe tbody tr th {\n",
       "        vertical-align: top;\n",
       "    }\n",
       "\n",
       "    .dataframe thead th {\n",
       "        text-align: right;\n",
       "    }\n",
       "</style>\n",
       "<table border=\"1\" class=\"dataframe\">\n",
       "  <thead>\n",
       "    <tr style=\"text-align: right;\">\n",
       "      <th></th>\n",
       "      <th>min(population)</th>\n",
       "      <th>max(population)</th>\n",
       "      <th>min(population_growth)</th>\n",
       "      <th>max(population_growth)</th>\n",
       "    </tr>\n",
       "  </thead>\n",
       "  <tbody>\n",
       "    <tr>\n",
       "      <th>0</th>\n",
       "      <td>0</td>\n",
       "      <td>7256490011</td>\n",
       "      <td>0.0</td>\n",
       "      <td>4.02</td>\n",
       "    </tr>\n",
       "  </tbody>\n",
       "</table>\n",
       "</div>"
      ],
      "text/plain": [
       "   min(population)  max(population)  min(population_growth)  \\\n",
       "0                0       7256490011                     0.0   \n",
       "\n",
       "   max(population_growth)  \n",
       "0                    4.02  "
      ]
     },
     "execution_count": 7,
     "metadata": {},
     "output_type": "execute_result"
    }
   ],
   "source": [
    "# returns the minimum population, maximum population, minimum population growth, maximum population growth\n",
    "q3 = \"select min(population), max(population), min(population_growth), max(population_growth) from facts\"\n",
    "pd.read_sql_query(q3, conn)"
   ]
  },
  {
   "cell_type": "code",
   "execution_count": 13,
   "metadata": {},
   "outputs": [
    {
     "data": {
      "text/html": [
       "<div>\n",
       "<style scoped>\n",
       "    .dataframe tbody tr th:only-of-type {\n",
       "        vertical-align: middle;\n",
       "    }\n",
       "\n",
       "    .dataframe tbody tr th {\n",
       "        vertical-align: top;\n",
       "    }\n",
       "\n",
       "    .dataframe thead th {\n",
       "        text-align: right;\n",
       "    }\n",
       "</style>\n",
       "<table border=\"1\" class=\"dataframe\">\n",
       "  <thead>\n",
       "    <tr style=\"text-align: right;\">\n",
       "      <th></th>\n",
       "      <th>name</th>\n",
       "      <th>population</th>\n",
       "    </tr>\n",
       "  </thead>\n",
       "  <tbody>\n",
       "    <tr>\n",
       "      <th>0</th>\n",
       "      <td>Antarctica</td>\n",
       "      <td>0</td>\n",
       "    </tr>\n",
       "  </tbody>\n",
       "</table>\n",
       "</div>"
      ],
      "text/plain": [
       "         name  population\n",
       "0  Antarctica           0"
      ]
     },
     "execution_count": 13,
     "metadata": {},
     "output_type": "execute_result"
    }
   ],
   "source": [
    "# return the countrie(s) with a population of 0\n",
    "q4 = '''select name, population\n",
    "from facts\n",
    "where population = (select min(population) from facts);\n",
    "'''\n",
    "pd.read_sql_query(q4, conn)"
   ]
  },
  {
   "cell_type": "code",
   "execution_count": 14,
   "metadata": {},
   "outputs": [
    {
     "data": {
      "text/html": [
       "<div>\n",
       "<style scoped>\n",
       "    .dataframe tbody tr th:only-of-type {\n",
       "        vertical-align: middle;\n",
       "    }\n",
       "\n",
       "    .dataframe tbody tr th {\n",
       "        vertical-align: top;\n",
       "    }\n",
       "\n",
       "    .dataframe thead th {\n",
       "        text-align: right;\n",
       "    }\n",
       "</style>\n",
       "<table border=\"1\" class=\"dataframe\">\n",
       "  <thead>\n",
       "    <tr style=\"text-align: right;\">\n",
       "      <th></th>\n",
       "      <th>name</th>\n",
       "      <th>population</th>\n",
       "    </tr>\n",
       "  </thead>\n",
       "  <tbody>\n",
       "    <tr>\n",
       "      <th>0</th>\n",
       "      <td>World</td>\n",
       "      <td>7256490011</td>\n",
       "    </tr>\n",
       "  </tbody>\n",
       "</table>\n",
       "</div>"
      ],
      "text/plain": [
       "    name  population\n",
       "0  World  7256490011"
      ]
     },
     "execution_count": 14,
     "metadata": {},
     "output_type": "execute_result"
    }
   ],
   "source": [
    "# return the countrie(s) with a population of 7256490011\n",
    "q5 = '''select name, population\n",
    "from facts\n",
    "where population = (select max(population) from facts);\n",
    "'''\n",
    "pd.read_sql_query(q5, conn)"
   ]
  },
  {
   "cell_type": "markdown",
   "metadata": {},
   "source": [
    "## Visualizing the data"
   ]
  },
  {
   "cell_type": "markdown",
   "metadata": {},
   "source": [
    "Using just the non-outlier rows, generate a 2 by 2 grid of histograms for the following columns:\n",
    "- `population`\n",
    "- `population_growth`\n",
    "- `birth_rate`\n",
    "- `death_rate`"
   ]
  },
  {
   "cell_type": "code",
   "execution_count": 15,
   "metadata": {},
   "outputs": [],
   "source": [
    "import matplotlib.pyplot as plt\n",
    "import seaborn as sns"
   ]
  },
  {
   "cell_type": "code",
   "execution_count": 25,
   "metadata": {},
   "outputs": [
    {
     "data": {
      "text/plain": [
       "array([[<matplotlib.axes._subplots.AxesSubplot object at 0x000002081DF50EB8>,\n",
       "        <matplotlib.axes._subplots.AxesSubplot object at 0x000002081E2C1128>],\n",
       "       [<matplotlib.axes._subplots.AxesSubplot object at 0x000002081E258B38>,\n",
       "        <matplotlib.axes._subplots.AxesSubplot object at 0x000002081E386470>]], dtype=object)"
      ]
     },
     "execution_count": 25,
     "metadata": {},
     "output_type": "execute_result"
    },
    {
     "data": {
      "text/plain": [
       "<matplotlib.figure.Figure at 0x2081e232da0>"
      ]
     },
     "metadata": {},
     "output_type": "display_data"
    },
    {
     "data": {
      "image/png": "[encoded data removed]",
      "text/plain": [
       "<matplotlib.figure.Figure at 0x2081df25f60>"
      ]
     },
     "metadata": {},
     "output_type": "display_data"
    }
   ],
   "source": [
    "fig = plt.figure(figsize=(10,10))\n",
    "ax = fig.add_subplot()\n",
    "\n",
    "import warnings\n",
    "warnings.filterwarnings('ignore')\n",
    "\n",
    "q6 = '''\n",
    "select population, population_growth, birth_rate, death_rate\n",
    "from facts\n",
    "where population != (select max(population) from facts) and population != (select min(population) from facts);\n",
    "'''\n",
    "pd.read_sql_query(q6, conn).hist(ax)"
   ]
  }
 ],
 "metadata": {
  "kernelspec": {
   "display_name": "Python 3",
   "language": "python",
   "name": "python3"
  },
  "language_info": {
   "codemirror_mode": {
    "name": "ipython",
    "version": 3
   },
   "file_extension": ".py",
   "mimetype": "text/x-python",
   "name": "python",
   "nbconvert_exporter": "python",
   "pygments_lexer": "ipython3",
   "version": "3.6.5"
  }
 },
 "nbformat": 4,
 "nbformat_minor": 2
}
