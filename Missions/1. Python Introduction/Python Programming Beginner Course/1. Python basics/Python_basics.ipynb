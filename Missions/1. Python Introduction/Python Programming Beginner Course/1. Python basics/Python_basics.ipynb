{
 "cells": [
  {
   "cell_type": "markdown",
   "metadata": {},
   "source": [
    "# Practice Python basics"
   ]
  },
  {
   "cell_type": "code",
   "execution_count": 1,
   "metadata": {},
   "outputs": [
    {
     "name": "stdout",
     "output_type": "stream",
     "text": [
      "639\n"
     ]
    }
   ],
   "source": [
    "print(639)"
   ]
  },
  {
   "cell_type": "code",
   "execution_count": 4,
   "metadata": {},
   "outputs": [
    {
     "name": "stdout",
     "output_type": "stream",
     "text": [
      "1927\n"
     ]
    }
   ],
   "source": [
    "print(1288+639)"
   ]
  },
  {
   "cell_type": "code",
   "execution_count": 8,
   "metadata": {},
   "outputs": [
    {
     "name": "stdout",
     "output_type": "stream",
     "text": [
      "766.0\n"
     ]
    }
   ],
   "source": [
    "%run script.py"
   ]
  },
  {
   "cell_type": "code",
   "execution_count": 14,
   "metadata": {},
   "outputs": [
    {
     "name": "stdout",
     "output_type": "stream",
     "text": [
      "Hello\n"
     ]
    }
   ],
   "source": [
    "print(\"Hello\")"
   ]
  },
  {
   "cell_type": "code",
   "execution_count": 15,
   "metadata": {},
   "outputs": [],
   "source": [
    "atlanta_string = \"Atlanta\""
   ]
  },
  {
   "cell_type": "code",
   "execution_count": 16,
   "metadata": {},
   "outputs": [],
   "source": [
    "atlanta_float = 1379.5"
   ]
  },
  {
   "cell_type": "code",
   "execution_count": 17,
   "metadata": {},
   "outputs": [
    {
     "name": "stdout",
     "output_type": "stream",
     "text": [
      "<class 'float'>\n"
     ]
    }
   ],
   "source": [
    "print(type(atlanta_float))"
   ]
  },
  {
   "cell_type": "code",
   "execution_count": 18,
   "metadata": {},
   "outputs": [
    {
     "name": "stdout",
     "output_type": "stream",
     "text": [
      "<class 'str'>\n"
     ]
    }
   ],
   "source": [
    "print(type(atlanta_string))"
   ]
  },
  {
   "cell_type": "code",
   "execution_count": 19,
   "metadata": {},
   "outputs": [],
   "source": [
    "cities = []\n",
    "crime_rates = []"
   ]
  },
  {
   "cell_type": "code",
   "execution_count": 20,
   "metadata": {},
   "outputs": [],
   "source": [
    "cities.append(\"Albuquerque\")"
   ]
  },
  {
   "cell_type": "code",
   "execution_count": 21,
   "metadata": {},
   "outputs": [
    {
     "data": {
      "text/plain": [
       "['Albuquerque']"
      ]
     },
     "execution_count": 21,
     "metadata": {},
     "output_type": "execute_result"
    }
   ],
   "source": [
    "cities"
   ]
  },
  {
   "cell_type": "code",
   "execution_count": 22,
   "metadata": {},
   "outputs": [],
   "source": [
    "crime_rates.append(749)"
   ]
  },
  {
   "cell_type": "code",
   "execution_count": 23,
   "metadata": {},
   "outputs": [],
   "source": [
    "#nothing happens"
   ]
  },
  {
   "cell_type": "code",
   "execution_count": 24,
   "metadata": {},
   "outputs": [],
   "source": [
    "cities = [\"Tehran\", \"Shiraz\", \"Babol\"]"
   ]
  },
  {
   "cell_type": "code",
   "execution_count": 25,
   "metadata": {},
   "outputs": [
    {
     "data": {
      "text/plain": [
       "'Shiraz'"
      ]
     },
     "execution_count": 25,
     "metadata": {},
     "output_type": "execute_result"
    }
   ],
   "source": [
    "cities[1]"
   ]
  },
  {
   "cell_type": "code",
   "execution_count": 26,
   "metadata": {},
   "outputs": [],
   "source": [
    "my_city = cities[0]"
   ]
  },
  {
   "cell_type": "code",
   "execution_count": 27,
   "metadata": {},
   "outputs": [
    {
     "data": {
      "text/plain": [
       "3"
      ]
     },
     "execution_count": 27,
     "metadata": {},
     "output_type": "execute_result"
    }
   ],
   "source": [
    "len(cities)"
   ]
  },
  {
   "cell_type": "code",
   "execution_count": 52,
   "metadata": {},
   "outputs": [],
   "source": [
    "f = open(\"crime_rates.csv\",\"r\")"
   ]
  },
  {
   "cell_type": "code",
   "execution_count": 29,
   "metadata": {},
   "outputs": [
    {
     "data": {
      "text/plain": [
       "<_io.TextIOWrapper name='crime_rates.csv' mode='r' encoding='cp1252'>"
      ]
     },
     "execution_count": 29,
     "metadata": {},
     "output_type": "execute_result"
    }
   ],
   "source": [
    "f"
   ]
  },
  {
   "cell_type": "code",
   "execution_count": 53,
   "metadata": {},
   "outputs": [],
   "source": [
    "data = f.read()"
   ]
  },
  {
   "cell_type": "code",
   "execution_count": 54,
   "metadata": {},
   "outputs": [
    {
     "name": "stdout",
     "output_type": "stream",
     "text": [
      "Albuquerque,749\n",
      "Anaheim,371\n",
      "Anchorage,828\n",
      "Arlington,503\n",
      "Atlanta,1379\n",
      "Aurora,425\n",
      "Austin,408\n",
      "Bakersfield,542\n",
      "Baltimore,1405\n",
      "Boston,835\n",
      "Buffalo,1288\n",
      "Charlotte-Mecklenburg,647\n",
      "Cincinnati,974\n",
      "Cleveland,1383\n",
      "Colorado Springs,455\n",
      "Corpus Christi,658\n",
      "Dallas,675\n",
      "Denver,615\n",
      "Detroit,2122\n",
      "El Paso,423\n",
      "Fort Wayne,362\n",
      "Fort Worth,587\n",
      "Fresno,543\n",
      "Greensboro,563\n",
      "Henderson,168\n",
      "Houston,992\n",
      "Indianapolis,1185\n",
      "Jacksonville,617\n",
      "Jersey City,734\n",
      "Kansas City,1263\n",
      "Las Vegas,784\n",
      "Lexington,352\n",
      "Lincoln,397\n",
      "Long Beach,575\n",
      "Los Angeles,481\n",
      "Louisville Metro,598\n",
      "Memphis,1750\n",
      "Mesa,399\n",
      "Miami,1172\n",
      "Milwaukee,1294\n",
      "Minneapolis,992\n",
      "Mobile,522\n",
      "Nashville,1216\n",
      "New Orleans,815\n",
      "New York,639\n",
      "Newark,1154\n",
      "Oakland,1993\n",
      "Oklahoma City,919\n",
      "Omaha,594\n",
      "Philadelphia,1160\n",
      "Phoenix,636\n",
      "Pittsburgh,752\n",
      "Plano,130\n",
      "Portland,517\n",
      "Raleigh,423\n",
      "Riverside,443\n",
      "Sacramento,738\n",
      "San Antonio,503\n",
      "San Diego,413\n",
      "San Francisco,704\n",
      "San Jose,363\n",
      "Santa Ana,401\n",
      "Seattle,597\n",
      "St. Louis,1776\n",
      "St. Paul,722\n",
      "Stockton,1548\n",
      "Tampa,616\n",
      "Toledo,1171\n",
      "Tucson,724\n",
      "Tulsa,990\n",
      "Virginia Beach,169\n",
      "Washington,1177\n",
      "Wichita,742\n"
     ]
    }
   ],
   "source": [
    "print(data)"
   ]
  },
  {
   "cell_type": "code",
   "execution_count": 55,
   "metadata": {},
   "outputs": [],
   "source": [
    "sample = \"john,plastic,joe\""
   ]
  },
  {
   "cell_type": "code",
   "execution_count": 56,
   "metadata": {},
   "outputs": [],
   "source": [
    "split_list = sample.split(\",\")"
   ]
  },
  {
   "cell_type": "code",
   "execution_count": 57,
   "metadata": {},
   "outputs": [
    {
     "name": "stdout",
     "output_type": "stream",
     "text": [
      "['john', 'plastic', 'joe']\n"
     ]
    }
   ],
   "source": [
    "print(split_list)"
   ]
  },
  {
   "cell_type": "code",
   "execution_count": 58,
   "metadata": {},
   "outputs": [],
   "source": [
    "rows = data.split(\"\\n\")"
   ]
  },
  {
   "cell_type": "code",
   "execution_count": 59,
   "metadata": {},
   "outputs": [
    {
     "name": "stdout",
     "output_type": "stream",
     "text": [
      "['Albuquerque,749', 'Anaheim,371', 'Anchorage,828', 'Arlington,503', 'Atlanta,1379', 'Aurora,425', 'Austin,408', 'Bakersfield,542', 'Baltimore,1405', 'Boston,835', 'Buffalo,1288', 'Charlotte-Mecklenburg,647', 'Cincinnati,974', 'Cleveland,1383', 'Colorado Springs,455', 'Corpus Christi,658', 'Dallas,675', 'Denver,615', 'Detroit,2122', 'El Paso,423', 'Fort Wayne,362', 'Fort Worth,587', 'Fresno,543', 'Greensboro,563', 'Henderson,168', 'Houston,992', 'Indianapolis,1185', 'Jacksonville,617', 'Jersey City,734', 'Kansas City,1263', 'Las Vegas,784', 'Lexington,352', 'Lincoln,397', 'Long Beach,575', 'Los Angeles,481', 'Louisville Metro,598', 'Memphis,1750', 'Mesa,399', 'Miami,1172', 'Milwaukee,1294', 'Minneapolis,992', 'Mobile,522', 'Nashville,1216', 'New Orleans,815', 'New York,639', 'Newark,1154', 'Oakland,1993', 'Oklahoma City,919', 'Omaha,594', 'Philadelphia,1160', 'Phoenix,636', 'Pittsburgh,752', 'Plano,130', 'Portland,517', 'Raleigh,423', 'Riverside,443', 'Sacramento,738', 'San Antonio,503', 'San Diego,413', 'San Francisco,704', 'San Jose,363', 'Santa Ana,401', 'Seattle,597', 'St. Louis,1776', 'St. Paul,722', 'Stockton,1548', 'Tampa,616', 'Toledo,1171', 'Tucson,724', 'Tulsa,990', 'Virginia Beach,169', 'Washington,1177', 'Wichita,742']\n"
     ]
    }
   ],
   "source": [
    "print(rows)"
   ]
  },
  {
   "cell_type": "code",
   "execution_count": 60,
   "metadata": {},
   "outputs": [],
   "source": [
    "ten_rows = rows[0:10]"
   ]
  },
  {
   "cell_type": "code",
   "execution_count": 61,
   "metadata": {},
   "outputs": [
    {
     "name": "stdout",
     "output_type": "stream",
     "text": [
      "Albuquerque,749\n",
      "Anaheim,371\n",
      "Anchorage,828\n",
      "Arlington,503\n",
      "Atlanta,1379\n",
      "Aurora,425\n",
      "Austin,408\n",
      "Bakersfield,542\n",
      "Baltimore,1405\n",
      "Boston,835\n"
     ]
    }
   ],
   "source": [
    "for row in ten_rows:\n",
    "    print(row)"
   ]
  },
  {
   "cell_type": "code",
   "execution_count": 62,
   "metadata": {},
   "outputs": [
    {
     "name": "stdout",
     "output_type": "stream",
     "text": [
      "[['Albuquerque', '749'], ['Anaheim', '371'], ['Anchorage', '828'], ['Arlington', '503'], ['Atlanta', '1379'], ['Aurora', '425'], ['Austin', '408'], ['Bakersfield', '542'], ['Baltimore', '1405'], ['Boston', '835'], ['Buffalo', '1288'], ['Charlotte-Mecklenburg', '647'], ['Cincinnati', '974'], ['Cleveland', '1383'], ['Colorado Springs', '455'], ['Corpus Christi', '658'], ['Dallas', '675'], ['Denver', '615'], ['Detroit', '2122'], ['El Paso', '423'], ['Fort Wayne', '362'], ['Fort Worth', '587'], ['Fresno', '543'], ['Greensboro', '563'], ['Henderson', '168'], ['Houston', '992'], ['Indianapolis', '1185'], ['Jacksonville', '617'], ['Jersey City', '734'], ['Kansas City', '1263'], ['Las Vegas', '784'], ['Lexington', '352'], ['Lincoln', '397'], ['Long Beach', '575'], ['Los Angeles', '481'], ['Louisville Metro', '598'], ['Memphis', '1750'], ['Mesa', '399'], ['Miami', '1172'], ['Milwaukee', '1294'], ['Minneapolis', '992'], ['Mobile', '522'], ['Nashville', '1216'], ['New Orleans', '815'], ['New York', '639'], ['Newark', '1154'], ['Oakland', '1993'], ['Oklahoma City', '919'], ['Omaha', '594'], ['Philadelphia', '1160'], ['Phoenix', '636'], ['Pittsburgh', '752'], ['Plano', '130'], ['Portland', '517'], ['Raleigh', '423'], ['Riverside', '443'], ['Sacramento', '738'], ['San Antonio', '503'], ['San Diego', '413'], ['San Francisco', '704'], ['San Jose', '363'], ['Santa Ana', '401'], ['Seattle', '597'], ['St. Louis', '1776'], ['St. Paul', '722'], ['Stockton', '1548'], ['Tampa', '616'], ['Toledo', '1171'], ['Tucson', '724'], ['Tulsa', '990'], ['Virginia Beach', '169'], ['Washington', '1177'], ['Wichita', '742']]\n"
     ]
    }
   ],
   "source": [
    "final_list=[]\n",
    "for row in rows:\n",
    "    split_row = row.split(\",\")\n",
    "    final_list.append(split_row)\n",
    "print(final_list)"
   ]
  },
  {
   "cell_type": "code",
   "execution_count": 63,
   "metadata": {},
   "outputs": [],
   "source": [
    "five_elements = final_list[0:5]"
   ]
  },
  {
   "cell_type": "code",
   "execution_count": 64,
   "metadata": {},
   "outputs": [
    {
     "name": "stdout",
     "output_type": "stream",
     "text": [
      "['Albuquerque', 'Anaheim', 'Anchorage', 'Arlington', 'Atlanta']\n"
     ]
    }
   ],
   "source": [
    "cities_list = []\n",
    "for element in five_elements:\n",
    "    cities_list.append(element[0])\n",
    "print(cities_list)"
   ]
  },
  {
   "cell_type": "code",
   "execution_count": 65,
   "metadata": {},
   "outputs": [
    {
     "name": "stdout",
     "output_type": "stream",
     "text": [
      "[749, 371, 828, 503, 1379]\n"
     ]
    }
   ],
   "source": [
    "crime_rate = []\n",
    "for element in five_elements:\n",
    "    crime_rate.append(int(element[1]))\n",
    "print(crime_rate)"
   ]
  },
  {
   "cell_type": "code",
   "execution_count": 66,
   "metadata": {},
   "outputs": [
    {
     "name": "stdout",
     "output_type": "stream",
     "text": [
      "['Albuquerque', 'Anaheim', 'Anchorage', 'Arlington', 'Atlanta', 'Aurora', 'Austin', 'Bakersfield', 'Baltimore', 'Boston', 'Buffalo', 'Charlotte-Mecklenburg', 'Cincinnati', 'Cleveland', 'Colorado Springs', 'Corpus Christi', 'Dallas', 'Denver', 'Detroit', 'El Paso', 'Fort Wayne', 'Fort Worth', 'Fresno', 'Greensboro', 'Henderson', 'Houston', 'Indianapolis', 'Jacksonville', 'Jersey City', 'Kansas City', 'Las Vegas', 'Lexington', 'Lincoln', 'Long Beach', 'Los Angeles', 'Louisville Metro', 'Memphis', 'Mesa', 'Miami', 'Milwaukee', 'Minneapolis', 'Mobile', 'Nashville', 'New Orleans', 'New York', 'Newark', 'Oakland', 'Oklahoma City', 'Omaha', 'Philadelphia', 'Phoenix', 'Pittsburgh', 'Plano', 'Portland', 'Raleigh', 'Riverside', 'Sacramento', 'San Antonio', 'San Diego', 'San Francisco', 'San Jose', 'Santa Ana', 'Seattle', 'St. Louis', 'St. Paul', 'Stockton', 'Tampa', 'Toledo', 'Tucson', 'Tulsa', 'Virginia Beach', 'Washington', 'Wichita']\n"
     ]
    }
   ],
   "source": [
    "cities = []\n",
    "for element in final_list:\n",
    "    cities.append(element[0])\n",
    "print(cities)"
   ]
  },
  {
   "cell_type": "code",
   "execution_count": 67,
   "metadata": {},
   "outputs": [],
   "source": [
    "first_alb = cities[0] == \"Albuquerque\""
   ]
  },
  {
   "cell_type": "code",
   "execution_count": 69,
   "metadata": {},
   "outputs": [
    {
     "data": {
      "text/plain": [
       "True"
      ]
     },
     "execution_count": 69,
     "metadata": {},
     "output_type": "execute_result"
    }
   ],
   "source": [
    "first_alb"
   ]
  },
  {
   "cell_type": "code",
   "execution_count": 70,
   "metadata": {},
   "outputs": [],
   "source": [
    "second_alb = cities[1] == \"Albuquerque\""
   ]
  },
  {
   "cell_type": "code",
   "execution_count": 71,
   "metadata": {},
   "outputs": [
    {
     "data": {
      "text/plain": [
       "False"
      ]
     },
     "execution_count": 71,
     "metadata": {},
     "output_type": "execute_result"
    }
   ],
   "source": [
    "second_alb"
   ]
  },
  {
   "cell_type": "code",
   "execution_count": 72,
   "metadata": {},
   "outputs": [],
   "source": [
    "first_last = cities[0] == cities[len(cities)-1]"
   ]
  },
  {
   "cell_type": "code",
   "execution_count": 73,
   "metadata": {},
   "outputs": [
    {
     "data": {
      "text/plain": [
       "False"
      ]
     },
     "execution_count": 73,
     "metadata": {},
     "output_type": "execute_result"
    }
   ],
   "source": [
    "first_last"
   ]
  },
  {
   "cell_type": "code",
   "execution_count": 74,
   "metadata": {},
   "outputs": [
    {
     "name": "stdout",
     "output_type": "stream",
     "text": [
      "[749, 371, 828, 503, 1379, 425, 408, 542, 1405, 835, 1288, 647, 974, 1383, 455, 658, 675, 615, 2122, 423, 362, 587, 543, 563, 168, 992, 1185, 617, 734, 1263, 784, 352, 397, 575, 481, 598, 1750, 399, 1172, 1294, 992, 522, 1216, 815, 639, 1154, 1993, 919, 594, 1160, 636, 752, 130, 517, 423, 443, 738, 503, 413, 704, 363, 401, 597, 1776, 722, 1548, 616, 1171, 724, 990, 169, 1177, 742]\n"
     ]
    }
   ],
   "source": [
    "crime_rates = []\n",
    "for element in final_list:\n",
    "    crime_rates.append(int(element[1]))\n",
    "print(crime_rates)"
   ]
  },
  {
   "cell_type": "code",
   "execution_count": 75,
   "metadata": {},
   "outputs": [],
   "source": [
    "second_500 = (crime_rates[1] < 500)"
   ]
  },
  {
   "cell_type": "code",
   "execution_count": 77,
   "metadata": {},
   "outputs": [],
   "source": [
    "second_371 = (crime_rates[1] <= 371)"
   ]
  },
  {
   "cell_type": "code",
   "execution_count": 78,
   "metadata": {},
   "outputs": [
    {
     "data": {
      "text/plain": [
       "True"
      ]
     },
     "execution_count": 78,
     "metadata": {},
     "output_type": "execute_result"
    }
   ],
   "source": [
    "second_500"
   ]
  },
  {
   "cell_type": "code",
   "execution_count": 79,
   "metadata": {},
   "outputs": [
    {
     "data": {
      "text/plain": [
       "True"
      ]
     },
     "execution_count": 79,
     "metadata": {},
     "output_type": "execute_result"
    }
   ],
   "source": [
    "second_371"
   ]
  },
  {
   "cell_type": "code",
   "execution_count": 80,
   "metadata": {},
   "outputs": [],
   "source": [
    "if cities[2] == \"Anchorage\":\n",
    "    result = 1"
   ]
  },
  {
   "cell_type": "code",
   "execution_count": 81,
   "metadata": {},
   "outputs": [
    {
     "data": {
      "text/plain": [
       "1"
      ]
     },
     "execution_count": 81,
     "metadata": {},
     "output_type": "execute_result"
    }
   ],
   "source": [
    "result"
   ]
  },
  {
   "cell_type": "code",
   "execution_count": 82,
   "metadata": {},
   "outputs": [],
   "source": [
    "both_conditions = False\n",
    "if crime_rates[0] > 500:\n",
    "    if crime_rates[1] > 300:\n",
    "        both_conditions = True"
   ]
  },
  {
   "cell_type": "code",
   "execution_count": 83,
   "metadata": {},
   "outputs": [
    {
     "data": {
      "text/plain": [
       "True"
      ]
     },
     "execution_count": 83,
     "metadata": {},
     "output_type": "execute_result"
    }
   ],
   "source": [
    "both_conditions"
   ]
  },
  {
   "cell_type": "code",
   "execution_count": 85,
   "metadata": {},
   "outputs": [],
   "source": [
    "highest = crime_rates[0]\n",
    "for value in crime_rates:\n",
    "    if value >= highest:\n",
    "        highest = value"
   ]
  }
 ],
 "metadata": {
  "kernelspec": {
   "display_name": "Python 3",
   "language": "python",
   "name": "python3"
  },
  "language_info": {
   "codemirror_mode": {
    "name": "ipython",
    "version": 3
   },
   "file_extension": ".py",
   "mimetype": "text/x-python",
   "name": "python",
   "nbconvert_exporter": "python",
   "pygments_lexer": "ipython3",
   "version": "3.6.4"
  }
 },
 "nbformat": 4,
 "nbformat_minor": 2
}
