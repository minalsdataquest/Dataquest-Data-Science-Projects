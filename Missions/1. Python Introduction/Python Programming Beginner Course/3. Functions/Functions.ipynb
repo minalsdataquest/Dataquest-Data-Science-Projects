{
 "cells": [
  {
   "cell_type": "markdown",
   "metadata": {},
   "source": [
    "## Functions"
   ]
  },
  {
   "cell_type": "code",
   "execution_count": 1,
   "metadata": {},
   "outputs": [],
   "source": [
    "# create a dictionary that stores useful statistics of the data set"
   ]
  },
  {
   "cell_type": "code",
   "execution_count": 7,
   "metadata": {},
   "outputs": [],
   "source": [
    "f = open(\"movie_metadata.csv\",\"r\",encoding=\"utf8\")"
   ]
  },
  {
   "cell_type": "code",
   "execution_count": 8,
   "metadata": {},
   "outputs": [],
   "source": [
    "movies = f.read() #read the data set"
   ]
  },
  {
   "cell_type": "code",
   "execution_count": 11,
   "metadata": {},
   "outputs": [],
   "source": [
    "split_movies = movies.split(\"\\n\")"
   ]
  },
  {
   "cell_type": "code",
   "execution_count": 12,
   "metadata": {},
   "outputs": [
    {
     "data": {
      "text/plain": [
       "['movie_title,director_name,color,duration,actor_1_name,language,country,title_year',\n",
       " 'Avatar,James Cameron,Color,178,CCH Pounder,English,USA,2009',\n",
       " \"Pirates of the Caribbean: At World's End,Gore Verbinski,Color,169,Johnny Depp,English,USA,2007\",\n",
       " 'Spectre,Sam Mendes,Color,148,Christoph Waltz,English,UK,2015',\n",
       " 'The Dark Knight Rises,Christopher Nolan,Color,164,Tom Hardy,English,USA,2012']"
      ]
     },
     "execution_count": 12,
     "metadata": {},
     "output_type": "execute_result"
    }
   ],
   "source": [
    "split_movies[0:5]"
   ]
  },
  {
   "cell_type": "code",
   "execution_count": 14,
   "metadata": {},
   "outputs": [],
   "source": [
    "movie_data= [] #create list of lists\n",
    "for row in split_movies:\n",
    "    movie_data.append(row.split(\",\"))"
   ]
  },
  {
   "cell_type": "code",
   "execution_count": 15,
   "metadata": {},
   "outputs": [
    {
     "data": {
      "text/plain": [
       "[['movie_title',\n",
       "  'director_name',\n",
       "  'color',\n",
       "  'duration',\n",
       "  'actor_1_name',\n",
       "  'language',\n",
       "  'country',\n",
       "  'title_year'],\n",
       " ['Avatar',\n",
       "  'James Cameron',\n",
       "  'Color',\n",
       "  '178',\n",
       "  'CCH Pounder',\n",
       "  'English',\n",
       "  'USA',\n",
       "  '2009'],\n",
       " [\"Pirates of the Caribbean: At World's End\",\n",
       "  'Gore Verbinski',\n",
       "  'Color',\n",
       "  '169',\n",
       "  'Johnny Depp',\n",
       "  'English',\n",
       "  'USA',\n",
       "  '2007'],\n",
       " ['Spectre',\n",
       "  'Sam Mendes',\n",
       "  'Color',\n",
       "  '148',\n",
       "  'Christoph Waltz',\n",
       "  'English',\n",
       "  'UK',\n",
       "  '2015'],\n",
       " ['The Dark Knight Rises',\n",
       "  'Christopher Nolan',\n",
       "  'Color',\n",
       "  '164',\n",
       "  'Tom Hardy',\n",
       "  'English',\n",
       "  'USA',\n",
       "  '2012']]"
      ]
     },
     "execution_count": 15,
     "metadata": {},
     "output_type": "execute_result"
    }
   ],
   "source": [
    "movie_data[0:5]"
   ]
  },
  {
   "cell_type": "code",
   "execution_count": 18,
   "metadata": {},
   "outputs": [
    {
     "data": {
      "text/plain": [
       "['Avatar',\n",
       " \"Pirates of the Caribbean: At World's End\",\n",
       " 'Spectre',\n",
       " 'The Dark Knight Rises',\n",
       " 'Star Wars: Episode VII - The Force Awakens']"
      ]
     },
     "execution_count": 18,
     "metadata": {},
     "output_type": "execute_result"
    }
   ],
   "source": [
    "def first_elts(input_lst):\n",
    "    elts = []\n",
    "    for row in input_lst:\n",
    "        elts.append(row[0])\n",
    "    return elts\n",
    "\n",
    "movie_names = first_elts(movie_data[1:])\n",
    "movie_names[0:5]"
   ]
  },
  {
   "cell_type": "code",
   "execution_count": 27,
   "metadata": {},
   "outputs": [
    {
     "data": {
      "text/plain": [
       "True"
      ]
     },
     "execution_count": 27,
     "metadata": {},
     "output_type": "execute_result"
    }
   ],
   "source": [
    "def is_usa(movie):\n",
    "    if movie[6] == 'USA':\n",
    "        return True\n",
    "    else:\n",
    "        return False\n",
    "\n",
    "wonder_woman = ['Wonder Woman','Patty Jenkins','Color',141,'Gal Gadot','English','USA',2017]\n",
    "wonder_woman_USA = is_usa(wonder_woman)\n",
    "wonder_woman_USA"
   ]
  },
  {
   "cell_type": "code",
   "execution_count": 30,
   "metadata": {},
   "outputs": [
    {
     "data": {
      "text/plain": [
       "True"
      ]
     },
     "execution_count": 30,
     "metadata": {},
     "output_type": "execute_result"
    }
   ],
   "source": [
    "def index_equals_str(input_list,index,input_string):\n",
    "    if input_list[index] == input_string:\n",
    "        return True\n",
    "    else:\n",
    "        return False\n",
    "\n",
    "wonder_woman_in_color = index_equals_str(index=2,input_string=\"Color\",input_list=wonder_woman)\n",
    "wonder_woman_in_color"
   ]
  },
  {
   "cell_type": "code",
   "execution_count": 31,
   "metadata": {},
   "outputs": [
    {
     "data": {
      "text/plain": [
       "3732"
      ]
     },
     "execution_count": 31,
     "metadata": {},
     "output_type": "execute_result"
    }
   ],
   "source": [
    "def feature_counter(input_list,index,input_string,header = False):\n",
    "    counter = 0\n",
    "    if header:\n",
    "        input_list = input_list[1:]\n",
    "    for row in input_list:\n",
    "        if row[index] == input_string:\n",
    "            counter += 1\n",
    "    return counter\n",
    "\n",
    "feature_counter(movie_data,6,'USA',header = True)"
   ]
  },
  {
   "cell_type": "code",
   "execution_count": 36,
   "metadata": {},
   "outputs": [
    {
     "name": "stdout",
     "output_type": "stream",
     "text": [
      "{'japan_films': 22, 'color_films': 4714, 'films_in_english': 4611}\n"
     ]
    }
   ],
   "source": [
    "def summary_statistics(input_list):\n",
    "    num_japan_films = feature_counter(input_list,6,'Japan',True)\n",
    "    num_color_films = feature_counter(input_list,2,\"Color\",True)\n",
    "    num_films_in_english = feature_counter(input_list,5,\"English\",True)\n",
    "    summary_dict = {\"japan_films\" : num_japan_films, \"color_films\" : num_color_films, \"films_in_english\" : num_films_in_english}\n",
    "    return summary_dict\n",
    "\n",
    "summary = summary_statistics(movie_data)\n",
    "print(summary)"
   ]
  }
 ],
 "metadata": {
  "kernelspec": {
   "display_name": "Python 3",
   "language": "python",
   "name": "python3"
  },
  "language_info": {
   "codemirror_mode": {
    "name": "ipython",
    "version": 3
   },
   "file_extension": ".py",
   "mimetype": "text/x-python",
   "name": "python",
   "nbconvert_exporter": "python",
   "pygments_lexer": "ipython3",
   "version": "3.6.5"
  }
 },
 "nbformat": 4,
 "nbformat_minor": 2
}
