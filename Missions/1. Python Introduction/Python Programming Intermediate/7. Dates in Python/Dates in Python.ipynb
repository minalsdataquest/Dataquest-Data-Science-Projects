{
 "cells": [
  {
   "cell_type": "markdown",
   "metadata": {},
   "source": [
    "# Dates in Python"
   ]
  },
  {
   "cell_type": "code",
   "execution_count": 1,
   "metadata": {},
   "outputs": [],
   "source": [
    "import time"
   ]
  },
  {
   "cell_type": "code",
   "execution_count": 2,
   "metadata": {},
   "outputs": [
    {
     "name": "stdout",
     "output_type": "stream",
     "text": [
      "1538085829.5391362\n"
     ]
    }
   ],
   "source": [
    "current_time = time.time()\n",
    "print(current_time)"
   ]
  },
  {
   "cell_type": "code",
   "execution_count": 4,
   "metadata": {},
   "outputs": [
    {
     "name": "stdout",
     "output_type": "stream",
     "text": [
      "22\n"
     ]
    }
   ],
   "source": [
    "current_struct_time = time.gmtime(current_time)\n",
    "current_hour = current_struct_time.tm_hour\n",
    "print(current_hour)"
   ]
  },
  {
   "cell_type": "code",
   "execution_count": 5,
   "metadata": {},
   "outputs": [],
   "source": [
    "import datetime"
   ]
  },
  {
   "cell_type": "code",
   "execution_count": 6,
   "metadata": {},
   "outputs": [],
   "source": [
    "current_datetime = datetime.datetime.utcnow()"
   ]
  },
  {
   "cell_type": "code",
   "execution_count": 7,
   "metadata": {},
   "outputs": [
    {
     "name": "stdout",
     "output_type": "stream",
     "text": [
      "2018\n"
     ]
    }
   ],
   "source": [
    "current_year = current_datetime.year\n",
    "print(current_year)"
   ]
  },
  {
   "cell_type": "code",
   "execution_count": 8,
   "metadata": {},
   "outputs": [
    {
     "name": "stdout",
     "output_type": "stream",
     "text": [
      "9\n"
     ]
    }
   ],
   "source": [
    "current_month = current_datetime.month\n",
    "print(current_month)"
   ]
  },
  {
   "cell_type": "code",
   "execution_count": 9,
   "metadata": {},
   "outputs": [
    {
     "name": "stdout",
     "output_type": "stream",
     "text": [
      "2018-09-27 18:14:41.087372\n"
     ]
    }
   ],
   "source": [
    "today = datetime.datetime.now()\n",
    "print(today)"
   ]
  },
  {
   "cell_type": "code",
   "execution_count": 11,
   "metadata": {},
   "outputs": [
    {
     "name": "stdout",
     "output_type": "stream",
     "text": [
      "2233-03-22 00:00:00\n"
     ]
    }
   ],
   "source": [
    "kirks_birthday = datetime.datetime(year=2233,month=3,day=22)\n",
    "print(kirks_birthday)"
   ]
  },
  {
   "cell_type": "code",
   "execution_count": 14,
   "metadata": {},
   "outputs": [
    {
     "name": "stdout",
     "output_type": "stream",
     "text": [
      "2232-12-07 00:00:00\n"
     ]
    }
   ],
   "source": [
    "diff = datetime.timedelta(weeks=15)\n",
    "before_kirk = kirks_birthday - diff\n",
    "print(before_kirk)"
   ]
  },
  {
   "cell_type": "code",
   "execution_count": 15,
   "metadata": {},
   "outputs": [
    {
     "name": "stdout",
     "output_type": "stream",
     "text": [
      "2015-12-31 00:00:00\n"
     ]
    }
   ],
   "source": [
    "mystery_date = datetime.datetime(2015, 12, 31, 0, 0)\n",
    "print(mystery_date)"
   ]
  },
  {
   "cell_type": "code",
   "execution_count": 16,
   "metadata": {},
   "outputs": [
    {
     "name": "stdout",
     "output_type": "stream",
     "text": [
      "12AM on Thursday December 31, 2015\n"
     ]
    }
   ],
   "source": [
    "mystery_date_formatted_string = mystery_date.strftime(\"%I%p on %A %B %d, %Y\")\n",
    "print(mystery_date_formatted_string)"
   ]
  },
  {
   "cell_type": "code",
   "execution_count": 17,
   "metadata": {},
   "outputs": [
    {
     "name": "stdout",
     "output_type": "stream",
     "text": [
      "2015-12-31 00:00:00\n"
     ]
    }
   ],
   "source": [
    "mystery_date_2 = datetime.datetime.strptime(mystery_date_formatted_string,\"%I%p on %A %B %d, %Y\")\n",
    "print(mystery_date_2)"
   ]
  },
  {
   "cell_type": "markdown",
   "metadata": {},
   "source": [
    "We'll be working with a data set of the top 1,000 posts on AskReddit from 2015 with the following columns:\n",
    "\n",
    "- `Title`: The title of the post\n",
    "- `Score`: The number of upvotes the post received\n",
    "- `Time`: When the post appeared (timestamp)\n",
    "- `Gold`: How much Reddit Gold users gave the post\n",
    "- `NumComs`: The number of comments the post received"
   ]
  },
  {
   "cell_type": "code",
   "execution_count": 21,
   "metadata": {},
   "outputs": [
    {
     "data": {
      "text/plain": [
       "[['Title', 'Score', 'Time', 'Gold', 'NumComs'],\n",
       " ['What\\'s your internet \"white whale\", something you\\'ve been searching for years to find with no luck?',\n",
       "  '11510',\n",
       "  '1433213314.0',\n",
       "  '1',\n",
       "  '26195'],\n",
       " [\"What's your favorite video that is 10 seconds or less?\",\n",
       "  '8656',\n",
       "  '1434205517.0',\n",
       "  '4',\n",
       "  '8479'],\n",
       " ['What are some interesting tests you can take to find out about yourself?',\n",
       "  '8480',\n",
       "  '1443409636.0',\n",
       "  '1',\n",
       "  '4055'],\n",
       " [\"PhD's of Reddit. What is a dumbed down summary of your thesis?\",\n",
       "  '7927',\n",
       "  '1440188623.0',\n",
       "  '0',\n",
       "  '13201']]"
      ]
     },
     "execution_count": 21,
     "metadata": {},
     "output_type": "execute_result"
    }
   ],
   "source": [
    "import csv\n",
    "f = open('askreddit_2015.csv', 'r', encoding=\"UTF-8\")\n",
    "csvreader = csv.reader(f)\n",
    "posts = list(csvreader)\n",
    "posts[0:5]"
   ]
  },
  {
   "cell_type": "code",
   "execution_count": 45,
   "metadata": {},
   "outputs": [
    {
     "data": {
      "text/plain": [
       "datetime.datetime"
      ]
     },
     "execution_count": 45,
     "metadata": {},
     "output_type": "execute_result"
    }
   ],
   "source": [
    "type(posts[1][2])"
   ]
  },
  {
   "cell_type": "code",
   "execution_count": 48,
   "metadata": {},
   "outputs": [],
   "source": [
    "for row in posts[1:]:\n",
    "    float_stamp = float(datetime.datetime.timestamp(row[2]))\n",
    "    day = datetime.datetime.fromtimestamp(float_stamp)\n",
    "    row[2] = day"
   ]
  },
  {
   "cell_type": "code",
   "execution_count": 49,
   "metadata": {},
   "outputs": [
    {
     "data": {
      "text/plain": [
       "[['Title', 'Score', 'Time', 'Gold', 'NumComs'],\n",
       " ['What\\'s your internet \"white whale\", something you\\'ve been searching for years to find with no luck?',\n",
       "  '11510',\n",
       "  datetime.datetime(2015, 6, 1, 22, 48, 34),\n",
       "  '1',\n",
       "  '26195'],\n",
       " [\"What's your favorite video that is 10 seconds or less?\",\n",
       "  '8656',\n",
       "  datetime.datetime(2015, 6, 13, 10, 25, 17),\n",
       "  '4',\n",
       "  '8479'],\n",
       " ['What are some interesting tests you can take to find out about yourself?',\n",
       "  '8480',\n",
       "  datetime.datetime(2015, 9, 27, 23, 7, 16),\n",
       "  '1',\n",
       "  '4055'],\n",
       " [\"PhD's of Reddit. What is a dumbed down summary of your thesis?\",\n",
       "  '7927',\n",
       "  datetime.datetime(2015, 8, 21, 16, 23, 43),\n",
       "  '0',\n",
       "  '13201']]"
      ]
     },
     "execution_count": 49,
     "metadata": {},
     "output_type": "execute_result"
    }
   ],
   "source": [
    "posts[0:5]"
   ]
  },
  {
   "cell_type": "code",
   "execution_count": 52,
   "metadata": {},
   "outputs": [
    {
     "name": "stdout",
     "output_type": "stream",
     "text": [
      "59\n"
     ]
    }
   ],
   "source": [
    "march_count = 0\n",
    "for row in posts[1:]:\n",
    "    if row[2].month == 3:\n",
    "        march_count += 1\n",
    "print(march_count)"
   ]
  },
  {
   "cell_type": "code",
   "execution_count": 54,
   "metadata": {},
   "outputs": [
    {
     "name": "stdout",
     "output_type": "stream",
     "text": [
      "46\n",
      "94\n"
     ]
    }
   ],
   "source": [
    "def count_posts_in_month(month):\n",
    "    month_count = 0\n",
    "    for row in posts[1:]:\n",
    "        if row[2].month == month:\n",
    "            month_count += 1\n",
    "    return month_count\n",
    "\n",
    "feb_count = count_posts_in_month(2)\n",
    "aug_count = count_posts_in_month(8)\n",
    "print(feb_count)\n",
    "print(aug_count)"
   ]
  }
 ],
 "metadata": {
  "kernelspec": {
   "display_name": "Python 3",
   "language": "python",
   "name": "python3"
  },
  "language_info": {
   "codemirror_mode": {
    "name": "ipython",
    "version": 3
   },
   "file_extension": ".py",
   "mimetype": "text/x-python",
   "name": "python",
   "nbconvert_exporter": "python",
   "pygments_lexer": "ipython3",
   "version": "3.6.5"
  }
 },
 "nbformat": 4,
 "nbformat_minor": 2
}
