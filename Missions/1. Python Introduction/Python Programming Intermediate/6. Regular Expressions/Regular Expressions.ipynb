{
 "cells": [
  {
   "cell_type": "markdown",
   "metadata": {},
   "source": [
    "## Regular Expressions"
   ]
  },
  {
   "cell_type": "code",
   "execution_count": 13,
   "metadata": {},
   "outputs": [],
   "source": [
    "strings = [\"data science\", \"big data\", \"metadata\"]\n",
    "regex = \"data\" #a regular expression that's four characters long and matches every string in the list strings"
   ]
  },
  {
   "cell_type": "code",
   "execution_count": 14,
   "metadata": {},
   "outputs": [],
   "source": [
    "strings = [\"bat\", \"robotics\", \"megabyte\"]\n",
    "regex = \"b.t\" #a regular expression that is three characters long and matches every string in strings"
   ]
  },
  {
   "cell_type": "code",
   "execution_count": 15,
   "metadata": {},
   "outputs": [],
   "source": [
    "strings = [\"better not put too much\", \"butter in the\", \"batter\"]\n",
    "bad_string = \"We also wouldn't want it to be bitter\"\n",
    "regex = \"^b.tter\" #a regular expression that's seven characters long and matches every string in strings (except for bad_string)"
   ]
  },
  {
   "cell_type": "markdown",
   "metadata": {},
   "source": [
    "We'll be working with a data set containing the top 1,000 questions users posted to AskReddit in 2015. has five columns that appear in the following order:\n",
    "\n",
    "- Title -- The title of the post\n",
    "- Score -- The number of upvotes the post received\n",
    "- Time -- When the post was posted\n",
    "- Gold -- How much Reddit Gold users gave the post\n",
    "- NumComs -- The number of comments the post received"
   ]
  },
  {
   "cell_type": "code",
   "execution_count": 28,
   "metadata": {},
   "outputs": [
    {
     "name": "stdout",
     "output_type": "stream",
     "text": [
      "['What\\'s your internet \"white whale\", something you\\'ve been searching for years to find with no luck?', '11510', '1433213314.0', '1', '26195']\n",
      "[\"What's your favorite video that is 10 seconds or less?\", '8656', '1434205517.0', '4', '8479']\n",
      "['What are some interesting tests you can take to find out about yourself?', '8480', '1443409636.0', '1', '4055']\n",
      "[\"PhD's of Reddit. What is a dumbed down summary of your thesis?\", '7927', '1440188623.0', '0', '13201']\n",
      "['What is cool to be good at, yet uncool to be REALLY good at?', '7711', '1440082910.0', '0', '20325']\n",
      "['[Serious] Redditors currently in a relationship, besides dinner and a movie, what are your favorite activities for date night?', '7598', '1439993280.0', '2', '5389']\n",
      "[\"Parents of Reddit, what's something that your kid has done that you pretended to be angry about but secretly impressed or amused you?\", '7553', '1439161809.0', '0', '11520']\n",
      "['What is a good subreddit to binge read the All Time Top Posts of?', '7498', '1438822288.0', '0', '2780']\n",
      "['What would the person who named Walkie Talkies have named other items?', '7501', '1447904351.0', '4', '6720']\n",
      "[\"People who grew up in a different socioeconomic class as your significant others, what are the notable differences you've noticed and how does it affect your relationship (if at all)?\", '7419', '1440358069.0', '0', '8603']\n"
     ]
    }
   ],
   "source": [
    "import csv\n",
    "f = open(\"askreddit_2015.csv\",'r', encoding=\"utf8\")\n",
    "csvreader = csv.reader(f)\n",
    "posts_with_header = list(csvreader)\n",
    "posts = posts_with_header[1:]\n",
    "for post in posts[0:10]:\n",
    "    print(post)"
   ]
  },
  {
   "cell_type": "code",
   "execution_count": 29,
   "metadata": {},
   "outputs": [
    {
     "name": "stdout",
     "output_type": "stream",
     "text": [
      "76\n"
     ]
    }
   ],
   "source": [
    "import re\n",
    "of_reddit_count = 0\n",
    "for row in posts:\n",
    "    if re.search(\"of Reddit\", row[0]) is not None:\n",
    "        of_reddit_count += 1\n",
    "print(of_reddit_count)"
   ]
  },
  {
   "cell_type": "code",
   "execution_count": 30,
   "metadata": {},
   "outputs": [
    {
     "name": "stdout",
     "output_type": "stream",
     "text": [
      "102\n"
     ]
    }
   ],
   "source": [
    "of_reddit_count = 0\n",
    "for row in posts:\n",
    "    if re.search(\"of [rR]eddit\", row[0]) is not None:\n",
    "        of_reddit_count += 1\n",
    "print(of_reddit_count)"
   ]
  },
  {
   "cell_type": "code",
   "execution_count": 31,
   "metadata": {},
   "outputs": [
    {
     "name": "stdout",
     "output_type": "stream",
     "text": [
      "69\n"
     ]
    }
   ],
   "source": [
    "serious_count = 0\n",
    "for row in posts:\n",
    "    if re.search(\"\\[Serious\\]\", row[0]) is not None:\n",
    "        serious_count += 1\n",
    "print(serious_count)"
   ]
  },
  {
   "cell_type": "code",
   "execution_count": 32,
   "metadata": {},
   "outputs": [
    {
     "name": "stdout",
     "output_type": "stream",
     "text": [
      "77\n"
     ]
    }
   ],
   "source": [
    "serious_count = 0\n",
    "for row in posts:\n",
    "    if re.search(\"\\[[Ss]erious\\]\", row[0]) is not None:\n",
    "        serious_count += 1\n",
    "print(serious_count)"
   ]
  },
  {
   "cell_type": "code",
   "execution_count": 33,
   "metadata": {},
   "outputs": [
    {
     "name": "stdout",
     "output_type": "stream",
     "text": [
      "80\n"
     ]
    }
   ],
   "source": [
    "serious_count = 0\n",
    "for row in posts:\n",
    "    if re.search(\"[\\[(][Ss]erious[\\])]\", row[0]) is not None:\n",
    "        serious_count += 1\n",
    "print(serious_count)"
   ]
  },
  {
   "cell_type": "code",
   "execution_count": 36,
   "metadata": {},
   "outputs": [
    {
     "name": "stdout",
     "output_type": "stream",
     "text": [
      "69\n",
      "11\n",
      "80\n"
     ]
    }
   ],
   "source": [
    "serious_start_count = 0\n",
    "serious_end_count = 0\n",
    "serious_count_final = 0\n",
    "for row in posts:\n",
    "    if re.search(\"^[\\[(][Ss]erious[\\])]\", row[0]) is not None:\n",
    "        serious_start_count += 1\n",
    "    if re.search(\"[\\[(][Ss]erious[\\])]$\", row[0]) is not None:\n",
    "        serious_end_count += 1\n",
    "    if re.search(\"^[\\[(][Ss]erious[\\])]|[\\[(][Ss]erious[\\])]$\", row[0]) is not None:\n",
    "        serious_count_final += 1\n",
    "print(serious_start_count)\n",
    "print(serious_end_count)\n",
    "print(serious_count_final)"
   ]
  },
  {
   "cell_type": "code",
   "execution_count": 38,
   "metadata": {},
   "outputs": [],
   "source": [
    "for row in posts:\n",
    "    row[0] = re.sub(\"^[\\[(][Ss]erious[\\])]|[\\[(][Ss]erious[\\])]$\",\"[Serious]\",row[0])"
   ]
  },
  {
   "cell_type": "code",
   "execution_count": 39,
   "metadata": {},
   "outputs": [
    {
     "name": "stdout",
     "output_type": "stream",
     "text": [
      "80\n"
     ]
    }
   ],
   "source": [
    "serious_count_new = 0\n",
    "for row in posts:\n",
    "    if re.search(\"\\[Serious\\]\", row[0]) is not None:\n",
    "        serious_count_new += 1\n",
    "print(serious_count_new)"
   ]
  },
  {
   "cell_type": "code",
   "execution_count": 43,
   "metadata": {},
   "outputs": [
    {
     "name": "stdout",
     "output_type": "stream",
     "text": [
      "['War of 1812', 'Happy New Year 2016!']\n"
     ]
    }
   ],
   "source": [
    "strings = ['War of 1812', 'There are 5280 feet to a mile', 'Happy New Year 2016!']\n",
    "year_strings = []\n",
    "for st in strings:\n",
    "    if re.search(\"[1-2][0-9][0-9][0-9]\",st) is not None:\n",
    "        year_strings.append(st)\n",
    "print(year_strings)"
   ]
  },
  {
   "cell_type": "code",
   "execution_count": 45,
   "metadata": {},
   "outputs": [
    {
     "name": "stdout",
     "output_type": "stream",
     "text": [
      "['War of 1812', 'Happy New Year 2016!']\n"
     ]
    }
   ],
   "source": [
    "strings = ['War of 1812', 'There are 5280 feet to a mile', 'Happy New Year 2016!']\n",
    "year_strings = []\n",
    "for st in strings:\n",
    "    if re.search(\"[1-2][0-9]{3}\",st) is not None:\n",
    "        year_strings.append(st)\n",
    "print(year_strings)"
   ]
  },
  {
   "cell_type": "code",
   "execution_count": 48,
   "metadata": {},
   "outputs": [
    {
     "name": "stdout",
     "output_type": "stream",
     "text": [
      "['2015', '2016']\n"
     ]
    }
   ],
   "source": [
    "years_string = '2015 was a good year, but 2016 will be better!'\n",
    "years = re.findall(\"[1-2][0-9]{3}\",years_string)\n",
    "print(years)"
   ]
  }
 ],
 "metadata": {
  "kernelspec": {
   "display_name": "Python 3",
   "language": "python",
   "name": "python3"
  },
  "language_info": {
   "codemirror_mode": {
    "name": "ipython",
    "version": 3
   },
   "file_extension": ".py",
   "mimetype": "text/x-python",
   "name": "python",
   "nbconvert_exporter": "python",
   "pygments_lexer": "ipython3",
   "version": "3.6.4"
  }
 },
 "nbformat": 4,
 "nbformat_minor": 2
}
