{
 "cells": [
  {
   "cell_type": "markdown",
   "metadata": {},
   "source": [
    "## Variable Scopes"
   ]
  },
  {
   "cell_type": "markdown",
   "metadata": {},
   "source": [
    "We'll be using a data set on student loan defaults in the United States. Each row of our dataset represents a single university, and contains information about the number of its students who later defaulted on their loans."
   ]
  },
  {
   "cell_type": "code",
   "execution_count": 3,
   "metadata": {},
   "outputs": [
    {
     "name": "stdout",
     "output_type": "stream",
     "text": [
      "[['serial', 'opeid', 'institution', 'address', 'city', 'state', 'zip', 'repayment_borrowers', 'default_borrowers', 'default_rate', 'borrower_default_count_240', 'principal_outstanding_240'], ['1', '100200', 'Alabama', '4900', 'Normal', 'AL', '35762-', '145', '54', '37.24%', '1606', '954821'], ['6', '100500', 'Alabama', '915 South', 'Montgomery', 'AL', '36104-', '164', '12', '7.32%', '1567', '1410608'], ['13', '100900', 'Auburn', '107', 'Auburn', 'AL', '36849-', '479', '29', '6.05%', '269', '147267'], ['14', '831000', 'Auburn', '7440 East', 'Mongomery', 'AL', '36117-', '88', '20', '22.73%', '184', '457312'], ['16', '101200', 'Birmingham', '900', 'Birmigham', 'AL', '35254-', '69', '12', '17.39%', '93', '240798']]\n"
     ]
    }
   ],
   "source": [
    "import csv\n",
    "f = open('student_loan_defaults.csv')\n",
    "csvread = csv.reader(f)\n",
    "student_loan_defaults = list(csvread)\n",
    "print(student_loan_defaults)"
   ]
  },
  {
   "cell_type": "code",
   "execution_count": 9,
   "metadata": {},
   "outputs": [
    {
     "name": "stdout",
     "output_type": "stream",
     "text": [
      "[1606, 1567, 269, 184, 93]\n"
     ]
    }
   ],
   "source": [
    "borrower_default_count_240 = []\n",
    "for row in student_loan_defaults[1:]:\n",
    "    borrower_default_count_240.append(int(row[-2]))\n",
    "print(borrower_default_count_240)"
   ]
  },
  {
   "cell_type": "code",
   "execution_count": 13,
   "metadata": {},
   "outputs": [
    {
     "name": "stdout",
     "output_type": "stream",
     "text": [
      "[954821, 1410608, 147267, 457312, 240798]\n"
     ]
    }
   ],
   "source": [
    "principal_outstanding_240 = []\n",
    "for row in student_loan_defaults[1:]:\n",
    "    principal_outstanding_240.append(int(row[-1]))\n",
    "print(principal_outstanding_240)"
   ]
  },
  {
   "cell_type": "code",
   "execution_count": 14,
   "metadata": {},
   "outputs": [],
   "source": [
    "def find_average(column):\n",
    "    length = len(column)\n",
    "    total = sum(column)\n",
    "    return total / length"
   ]
  },
  {
   "cell_type": "code",
   "execution_count": 16,
   "metadata": {},
   "outputs": [
    {
     "name": "stdout",
     "output_type": "stream",
     "text": [
      "642161.2\n"
     ]
    }
   ],
   "source": [
    "total = sum(borrower_default_count_240)\n",
    "average = find_average(principal_outstanding_240)\n",
    "print(average)"
   ]
  },
  {
   "cell_type": "code",
   "execution_count": 17,
   "metadata": {},
   "outputs": [],
   "source": [
    "def find_length(column):\n",
    "    length = len(column)\n",
    "    return length"
   ]
  },
  {
   "cell_type": "code",
   "execution_count": 19,
   "metadata": {},
   "outputs": [
    {
     "name": "stdout",
     "output_type": "stream",
     "text": [
      "5\n",
      "642161.2\n",
      "5\n"
     ]
    }
   ],
   "source": [
    "length = len(borrower_default_count_240)\n",
    "average = find_average(principal_outstanding_240)\n",
    "principal_length = find_length(principal_outstanding_240)\n",
    "print(length)\n",
    "print(average)\n",
    "print(principal_length)"
   ]
  },
  {
   "cell_type": "code",
   "execution_count": 21,
   "metadata": {},
   "outputs": [
    {
     "name": "stdout",
     "output_type": "stream",
     "text": [
      "321080.6\n"
     ]
    }
   ],
   "source": [
    "def find_average(column):\n",
    "    total = sum(column)\n",
    "    # In this function, we are going to pretend that we forgot to calculate the length\n",
    "    return total / length\n",
    "\n",
    "length = 10\n",
    "average = find_average(principal_outstanding_240)\n",
    "print(average)"
   ]
  },
  {
   "cell_type": "code",
   "execution_count": 22,
   "metadata": {},
   "outputs": [
    {
     "name": "stdout",
     "output_type": "stream",
     "text": [
      "20\n"
     ]
    }
   ],
   "source": [
    "# global variable example\n",
    "def new_function():\n",
    "    global b\n",
    "    b = 20\n",
    "    \n",
    "new_function()\n",
    "\n",
    "print(b)"
   ]
  }
 ],
 "metadata": {
  "kernelspec": {
   "display_name": "Python 3",
   "language": "python",
   "name": "python3"
  },
  "language_info": {
   "codemirror_mode": {
    "name": "ipython",
    "version": 3
   },
   "file_extension": ".py",
   "mimetype": "text/x-python",
   "name": "python",
   "nbconvert_exporter": "python",
   "pygments_lexer": "ipython3",
   "version": "3.6.5"
  }
 },
 "nbformat": 4,
 "nbformat_minor": 2
}
