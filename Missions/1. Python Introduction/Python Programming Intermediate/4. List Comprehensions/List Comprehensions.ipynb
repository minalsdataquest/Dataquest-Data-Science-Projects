{
 "cells": [
  {
   "cell_type": "markdown",
   "metadata": {},
   "source": [
    "## List Comprehensions"
   ]
  },
  {
   "cell_type": "markdown",
   "metadata": {},
   "source": [
    "We'll be working with legislators.csv, which records information on every historical member of the U.S. Congress. The file includes these columns:\n",
    "\n",
    "- `last_name` - the legislator's last name\n",
    "- `first_name` - the legislator's first name\n",
    "- `birthday` - the legislator's birthday\n",
    "- `gender` - the legislator's gender\n",
    "- `type` - the chamber in which the legislator served - either Senate (sen) or House of Representatives (rep)\n",
    "- `state` - the state the legislator represents\n",
    "- `party` - the legislator's party affiliation"
   ]
  },
  {
   "cell_type": "code",
   "execution_count": 1,
   "metadata": {},
   "outputs": [],
   "source": [
    "import csv\n",
    "f = open(\"legislators.csv\")\n",
    "csvread = csv.reader(f)\n",
    "legislators = list(csvread)"
   ]
  },
  {
   "cell_type": "markdown",
   "metadata": {},
   "source": [
    "__Preprocessing and handling erros__"
   ]
  },
  {
   "cell_type": "code",
   "execution_count": 2,
   "metadata": {},
   "outputs": [],
   "source": [
    "for row in legislators:\n",
    "    if row[3] == '':\n",
    "        row[3] = 'M'"
   ]
  },
  {
   "cell_type": "code",
   "execution_count": 3,
   "metadata": {},
   "outputs": [],
   "source": [
    "for row in legislators[1:]:\n",
    "    parts = row[2].split('/')\n",
    "    try:\n",
    "        birth_year = int(parts[2])\n",
    "    except Exception:\n",
    "        birth_year = 0\n",
    "    row.append(birth_year)"
   ]
  },
  {
   "cell_type": "code",
   "execution_count": 4,
   "metadata": {},
   "outputs": [],
   "source": [
    "legislators[0].append(\"birth_year\")"
   ]
  },
  {
   "cell_type": "code",
   "execution_count": 5,
   "metadata": {},
   "outputs": [],
   "source": [
    "last_value = 1\n",
    "for row in legislators[1:]:\n",
    "    if row[7] == 0:\n",
    "        row[7] = last_value\n",
    "        last_value = row[7]"
   ]
  },
  {
   "cell_type": "code",
   "execution_count": 8,
   "metadata": {},
   "outputs": [
    {
     "name": "stdout",
     "output_type": "stream",
     "text": [
      "Andrea Doria\n",
      "Ford Edsel\n",
      "Titanic\n",
      "Ford Pinto\n",
      "Lusitania\n",
      "Yugo\n"
     ]
    }
   ],
   "source": [
    "# enumerate() example 1\n",
    "ships = [\"Andrea Doria\", \"Titanic\", \"Lusitania\"]\n",
    "cars = [\"Ford Edsel\", \"Ford Pinto\", \"Yugo\"]\n",
    "for idx, ship in enumerate(ships):\n",
    "    print(ship)\n",
    "    print(cars[idx])"
   ]
  },
  {
   "cell_type": "code",
   "execution_count": 14,
   "metadata": {},
   "outputs": [
    {
     "name": "stdout",
     "output_type": "stream",
     "text": [
      "[['apple', 'monkey', 'cedar'], ['orange', 'dog', 'maple'], ['banana', 'cat', 'fig']]\n"
     ]
    }
   ],
   "source": [
    "# enumerate() example 2\n",
    "things = [[\"apple\", \"monkey\"], [\"orange\", \"dog\"], [\"banana\", \"cat\"]]\n",
    "trees = [\"cedar\", \"maple\", \"fig\"]\n",
    "for idx, thing in enumerate(things):\n",
    "    thing.append(trees[idx])\n",
    "    \n",
    "print(things)"
   ]
  },
  {
   "cell_type": "code",
   "execution_count": 19,
   "metadata": {},
   "outputs": [
    {
     "name": "stdout",
     "output_type": "stream",
     "text": [
      "[200, 202, 204, 210]\n",
      "[0, 1, 2, 5]\n"
     ]
    }
   ],
   "source": [
    "# List Comprehensions example\n",
    "apple_prices = [100, 101, 102, 105]\n",
    "apple_prices_doubled = [2*i for i in apple_prices]\n",
    "apple_prices_lowered = [i-100 for i in apple_prices]\n",
    "print(apple_prices_doubled)\n",
    "print(apple_prices_lowered)"
   ]
  },
  {
   "cell_type": "markdown",
   "metadata": {},
   "source": [
    "__Find the most common names among U.S. legislators of each gender__"
   ]
  },
  {
   "cell_type": "code",
   "execution_count": 20,
   "metadata": {},
   "outputs": [
    {
     "data": {
      "text/plain": [
       "[['last_name',\n",
       "  'first_name',\n",
       "  'birthday',\n",
       "  'gender',\n",
       "  'type',\n",
       "  'state',\n",
       "  'party',\n",
       "  'birth_year'],\n",
       " ['Abercrombie', 'Neil', '6/26/1938', 'M', 'Rep', 'HI', 'D', 1938],\n",
       " ['Ackerman', 'Gary', '11/19/1942', 'M', 'Rep', 'NY', 'D', 1942],\n",
       " ['Aderholt', 'Robert', '7/22/1965', 'M', 'Rep', 'AL', 'R', 1965],\n",
       " ['Akaka', 'Daniel', '9/11/1924', 'M', 'Sen', 'HI', 'D', 1924],\n",
       " ['Allard', 'Wayne', '12/2/1943', 'M', 'Sen', 'CO', 'R', 1943],\n",
       " ['Andrews', 'Robert', '8/4/1957', 'M', 'Rep', 'NJ', 'D', 1957],\n",
       " ['Allen', 'Thomas', '4/16/1945', 'M', 'Rep', 'ME', 'D', 1945],\n",
       " ['Akin', 'W.', '7/5/1947', 'M', 'Rep', 'MO', 'R', 1947],\n",
       " ['Alexander', 'Lamar', '7/3/1940', 'M', 'Sen', 'TN', 'R', 1940]]"
      ]
     },
     "execution_count": 20,
     "metadata": {},
     "output_type": "execute_result"
    }
   ],
   "source": [
    "legislators[0:10]"
   ]
  },
  {
   "cell_type": "code",
   "execution_count": 22,
   "metadata": {},
   "outputs": [
    {
     "name": "stdout",
     "output_type": "stream",
     "text": [
      "{'Sandy': 1, 'Kelly': 1, 'Barbara': 3, 'Corrine': 1, 'Mary': 3, 'Tammy': 2, 'Shelley': 1, 'Marsha': 1, 'Virginia': 2, 'Melissa': 1, 'Michele': 1, 'Nancy': 2, 'Karen': 1, 'Diane': 1, 'Ann Marie': 1, 'Joyce': 1, 'Susan': 3, 'Julia': 1, 'Cheri': 1, 'Maria': 1, 'Donna': 2, 'Hillary': 1, 'Kathy': 1, 'Yvette': 1, 'Judy': 1, 'Diana': 1, 'Rosa': 1, 'Jo Ann': 2, 'Thelma': 1, 'Kathleen': 2, 'Suzan': 1, 'Anna': 1, 'Renee': 1, 'Elizabeth': 2, 'Marcia': 1, 'Lois': 1, 'Deb': 1, 'Kay': 3, 'Gabrielle': 1, 'Kirsten': 1, 'Tulsi': 1, 'Jane': 1, 'Stephanie': 2, 'Mazie': 1, 'Deborah': 2, 'Colleen': 1, 'Vicky': 1, 'Nan': 1, 'Jaime': 1, 'Janice': 2, 'Heidi': 1, 'Sheila': 1, 'Lynn': 1, 'Marcy': 1, 'Carolyn': 3, 'Amy': 1, 'Ann': 3, 'Suzanne': 1, 'Mary Jo': 1, 'Blanche': 1, 'Zoe': 1, 'Cynthia': 1, 'Michelle': 1, 'Patty': 1, 'Sue': 1, 'Betty': 2, 'Candice': 1, 'Marilyn': 1, 'Lisa': 1, 'Cathy': 1, 'Gwen': 1, 'Doris': 1, 'Claire': 1, 'Betsy': 1, 'Grace': 1, 'Kristi': 1, 'Gloria': 1, 'Chellie': 1, 'Ileana': 1, 'Lucille': 1, 'Laura': 1, 'Martha': 1, 'Loretta': 1, 'Olympia': 1, 'Debbie': 2, 'Hilda': 1, 'Linda': 1, 'Allyson': 1, 'Jean': 1, 'Carol': 1, 'Jackie': 2, 'Jeanne': 1, 'Terri': 1, 'Kyrsten': 1, 'Ellen': 1, 'Niki': 1, 'Dina': 1, 'Nydia': 1, 'Heather': 1, 'Frederica': 1}\n"
     ]
    }
   ],
   "source": [
    "name_counts = dict()\n",
    "for row in legislators[1:]:\n",
    "    if (row[3] == 'F') and (row[-1] >= 1940):\n",
    "        if row[1] in name_counts:\n",
    "            name_counts[row[1]] += 1\n",
    "        else:\n",
    "            name_counts[row[1]] = 1\n",
    "\n",
    "print(name_counts)"
   ]
  },
  {
   "cell_type": "code",
   "execution_count": 28,
   "metadata": {},
   "outputs": [
    {
     "data": {
      "text/plain": [
       "3"
      ]
     },
     "execution_count": 28,
     "metadata": {},
     "output_type": "execute_result"
    }
   ],
   "source": [
    "max_value = None\n",
    "for k in name_counts:\n",
    "    if max_value is None or name_counts[k] > max_value:\n",
    "        max_value = name_counts[k]\n",
    "max_value"
   ]
  },
  {
   "cell_type": "code",
   "execution_count": 32,
   "metadata": {},
   "outputs": [
    {
     "name": "stdout",
     "output_type": "stream",
     "text": [
      "['Barbara', 'Mary', 'Susan', 'Kay', 'Carolyn', 'Ann']\n"
     ]
    }
   ],
   "source": [
    "top_female_names = []\n",
    "for k in name_counts:\n",
    "    if name_counts[k] == max_value:\n",
    "        top_female_names.append(k)\n",
    "        \n",
    "print(top_female_names)"
   ]
  },
  {
   "cell_type": "code",
   "execution_count": 33,
   "metadata": {},
   "outputs": [
    {
     "name": "stdout",
     "output_type": "stream",
     "text": [
      "orchid\n",
      "flower\n",
      "cedar\n",
      "tree\n",
      "maple\n",
      "tree\n"
     ]
    }
   ],
   "source": [
    "# item() example\n",
    "plant_types = {\"orchid\": \"flower\", \"cedar\": \"tree\", \"maple\": \"tree\"}\n",
    "for k,v in plant_types.items():\n",
    "    print(k)\n",
    "    print(v)"
   ]
  },
  {
   "cell_type": "code",
   "execution_count": 35,
   "metadata": {},
   "outputs": [
    {
     "data": {
      "text/plain": [
       "['Barbara', 'Mary', 'Susan', 'Kay', 'Carolyn', 'Ann']"
      ]
     },
     "execution_count": 35,
     "metadata": {},
     "output_type": "execute_result"
    }
   ],
   "source": [
    "top_female_names = []\n",
    "top_female_names = [k for k, v in name_counts.items() if v == max_value]\n",
    "top_female_names"
   ]
  },
  {
   "cell_type": "code",
   "execution_count": 37,
   "metadata": {},
   "outputs": [
    {
     "name": "stdout",
     "output_type": "stream",
     "text": [
      "{'Gary': 3, 'Robert': 16, 'Wayne': 2, 'Thomas': 11, 'W.': 1, 'Lamar': 2, 'Rodney': 3, 'Jason': 2, 'Michael': 17, 'John': 40, 'Steve': 13, 'Justin': 1, 'Mark': 12, 'Spencer': 1, 'Richard': 9, 'Joe': 9, 'Charles': 12, 'Max': 1, 'Xavier': 1, 'Howard': 1, 'Joseph': 5, 'Brian': 4, 'Jeff': 8, 'Sanford': 1, 'Earl': 2, 'Roy': 1, 'Frederick': 1, 'Allen': 2, 'Kevin': 4, 'Sherrod': 1, 'Samuel': 1, 'Stephen': 3, 'Evan': 1, 'James': 13, 'Timothy': 4, 'Jo': 1, 'Rob': 2, 'George': 5, 'Dan': 2, 'Gus': 1, 'Bruce': 1, 'Vern': 1, 'Paul': 6, 'Bobby': 3, 'Scott': 7, 'Lou': 1, 'Rick': 3, 'Mo': 1, 'Larry': 3, 'Suzanne': 1, 'Ron': 7, 'Kerry': 1, 'Garland': 1, 'Jim': 8, 'Ami': 1, 'Ken': 2, 'Dave': 1, 'Christopher': 8, 'Benjamin': 1, 'Saxby': 1, 'Daniel': 6, 'Kent': 1, 'Jerry': 3, 'Elijah': 1, 'Ander': 1, 'Eric': 4, 'Shelley': 1, 'Wm.': 1, 'Dennis': 5, 'Tom': 11, 'Norm': 1, 'Ben': 4, 'Russ': 1, 'Emanuel': 1, 'K.': 1, 'Henry': 2, 'Bob': 7, 'AndrÃ©': 1, 'Donald': 3, 'Travis': 1, 'Bill': 9, 'Mike': 12, 'Gerald': 2, 'Anh': 1, 'Francisco': 1, 'David': 16, 'Hansen': 1, 'Chip': 1, 'Chris': 4, 'Matthew': 1, 'Joaquin': 1, 'Doug': 3, 'Tony': 1, 'Ted': 3, 'William': 6, 'Danny': 1, 'Nathan': 1, 'Peter': 6, 'Lincoln': 2, 'Norman': 1, 'Lloyd': 1, 'Byron': 1, 'Mario': 1, 'Artur': 1, 'Geoff': 1, 'Theodore': 1, 'Sean': 2, 'Eliot': 1, 'Philip': 1, 'Rahm': 1, 'Keith': 2, 'Brad': 3, 'Eni': 1, 'Sam': 2, 'Chaka': 1, 'Russell': 1, 'Barney': 1, 'Vito': 1, 'J.': 2, 'Trent': 1, 'Luis': 2, 'Alan': 5, 'Blake': 1, 'Elton': 1, 'Virgil': 1, 'Barton': 1, 'Lindsey': 1, 'Gene': 2, 'Judd': 1, 'Phil': 2, 'RaÃºl': 2, 'Louie': 1, 'Al': 1, 'Parker': 1, 'Brett': 1, 'Carte': 1, 'Cory': 1, 'Trey': 2, 'Tim': 9, 'H.': 2, 'Frank': 5, 'Pete': 3, 'Doc': 1, 'Walter': 3, 'RubÃ©n': 1, 'Kenny': 2, 'Duncan': 2, 'Robin': 1, 'Baron': 1, 'Rush': 1, 'Jeb': 1, 'Dean': 1, 'Gregg': 1, 'Martin': 2, 'Andy': 1, 'Randy': 3, 'Denny': 1, 'Steven': 4, 'Jared': 2, 'Jay': 1, 'Darrell': 1, 'Jesse': 1, 'Hakeem': 1, 'Patrick': 8, 'Jack': 1, 'Jon': 4, 'Ric': 1, 'Adam': 4, 'Derek': 1, 'Angus': 1, 'Nicholas': 1, 'Ray': 1, 'Leonard': 1, 'Blaine': 1, 'Billy': 1, 'Edward': 2, 'Mitch': 1, 'Gregory': 1, 'Thaddeus': 1, 'Kendrick': 1, 'R.': 1, 'Connie': 1, 'Mel': 1, 'Harry': 2, 'Mick': 1, 'Luke': 1, 'Markwayne': 1, 'Jerrold': 1, 'Devin': 1, 'Glenn': 2, 'Barack': 1, 'Beto': 1, 'Ed': 3, 'Collin': 1, 'Todd': 4, 'Stevan': 1, 'Erik': 1, 'Pedro': 1, 'Rand': 1, 'Nick': 1, 'Silvestre': 1, 'Dana': 1, 'Ciro': 1, 'C.': 1, 'Reid': 1, 'Cedric': 1, 'E.': 1, 'Marco': 1, 'Raul': 1, 'Matt': 1, 'Bernard': 1, 'F.': 1, 'JosÃ©': 1, 'Victor': 1, 'Clifford': 1, 'Bart': 1, 'Jefferson': 1, 'Gordon': 1, 'Albio': 1, 'Heath': 1, 'Adrian': 1, 'Zachary': 1, 'Gregorio': 1, 'Aaron': 1, 'Kurt': 1, 'Marlin': 1, 'Austin': 1, 'Bradley': 1, 'Bennie': 1, 'Mac': 1, 'Lee': 1, 'Fred': 1, 'Juan': 1, 'Marc': 1, 'Filemon': 1, 'Zach': 1, 'Melvin': 1, 'Roger': 2, 'Albert': 1, 'Greg': 1, 'Anthony': 1, 'Lynn': 1, 'Sheldon': 1}\n"
     ]
    }
   ],
   "source": [
    "male_name_counts = {}\n",
    "for row in legislators[1:]:\n",
    "    if row[3] == \"M\" and row[-1] >= 1940:\n",
    "        if row[1] in male_name_counts:\n",
    "            male_name_counts[row[1]] += 1\n",
    "        else:\n",
    "            male_name_counts[row[1]] = 1\n",
    "print(male_name_counts)"
   ]
  },
  {
   "cell_type": "code",
   "execution_count": 38,
   "metadata": {},
   "outputs": [
    {
     "data": {
      "text/plain": [
       "40"
      ]
     },
     "execution_count": 38,
     "metadata": {},
     "output_type": "execute_result"
    }
   ],
   "source": [
    "max_value_m = None\n",
    "for k in male_name_counts:\n",
    "    if max_value_m is None or male_name_counts[k] > max_value_m:\n",
    "        max_value_m = male_name_counts[k]\n",
    "max_value_m"
   ]
  },
  {
   "cell_type": "code",
   "execution_count": 41,
   "metadata": {},
   "outputs": [
    {
     "data": {
      "text/plain": [
       "['John']"
      ]
     },
     "execution_count": 41,
     "metadata": {},
     "output_type": "execute_result"
    }
   ],
   "source": [
    "top_male_names = []\n",
    "top_male_names = [a for a,b in male_name_counts.items() if b == max_value_m]\n",
    "top_male_names"
   ]
  }
 ],
 "metadata": {
  "kernelspec": {
   "display_name": "Python 3",
   "language": "python",
   "name": "python3"
  },
  "language_info": {
   "codemirror_mode": {
    "name": "ipython",
    "version": 3
   },
   "file_extension": ".py",
   "mimetype": "text/x-python",
   "name": "python",
   "nbconvert_exporter": "python",
   "pygments_lexer": "ipython3",
   "version": "3.6.5"
  }
 },
 "nbformat": 4,
 "nbformat_minor": 2
}
