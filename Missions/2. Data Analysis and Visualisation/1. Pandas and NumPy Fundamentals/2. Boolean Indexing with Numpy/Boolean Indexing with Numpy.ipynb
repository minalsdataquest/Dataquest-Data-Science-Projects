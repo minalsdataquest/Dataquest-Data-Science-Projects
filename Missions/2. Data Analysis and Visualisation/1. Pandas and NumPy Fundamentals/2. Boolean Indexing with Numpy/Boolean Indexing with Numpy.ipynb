{
 "cells": [
  {
   "cell_type": "markdown",
   "metadata": {},
   "source": [
    "# Boolean Indexing with Numpy"
   ]
  },
  {
   "cell_type": "markdown",
   "metadata": {},
   "source": [
    "We'll be working with a subset of this data: Yellow taxi trips to and from New York City airports between January and June 2016. In our dataset, each row represents a unique taxi trip. Below is information about selected columns from the data set:\n",
    "\n",
    "- `pickup_year` - The year of the trip.\n",
    "- `pickup_month` - The month of the trip (January is 1, December is 12).\n",
    "- `pickup_day` - The day of the month of the trip.\n",
    "- `pickup_location_code` - The airport or borough where the the trip started, as one of eight categories:<br>\n",
    " * 0 - Bronx.<br>\n",
    " * 01 - Brooklyn.<br>\n",
    " * 02 - JFK Airport.<br>\n",
    " * 03 - LaGuardia Airport.<br>\n",
    " * 04 - Manhattan.<br>\n",
    " * 05 - Newark Airport.<br>\n",
    " * 06 - Queens.<br>\n",
    " * 07 - Staten Island.\n",
    "- `dropoff_location_code` - The airport or borough where the the trip finished, using the same eight category codes as pickup_location_code.\n",
    "- `trip_distance` - The distance of the trip in miles.\n",
    "- `trip_length` - The length of the trip in seconds.\n",
    "- `fare_amount` - The base fare of the trip, in dollars.\n",
    "- `total_amount` - The total amount charged to the passenger, including all fees, tolls and tips."
   ]
  },
  {
   "cell_type": "code",
   "execution_count": 1,
   "metadata": {},
   "outputs": [],
   "source": [
    "import numpy as np"
   ]
  },
  {
   "cell_type": "code",
   "execution_count": 3,
   "metadata": {},
   "outputs": [
    {
     "data": {
      "text/plain": [
       "array([[2.016e+03, 1.000e+00, 1.000e+00, ..., 1.165e+01, 6.999e+01,\n",
       "        1.000e+00],\n",
       "       [2.016e+03, 1.000e+00, 1.000e+00, ..., 8.000e+00, 5.430e+01,\n",
       "        1.000e+00],\n",
       "       [2.016e+03, 1.000e+00, 1.000e+00, ..., 0.000e+00, 3.780e+01,\n",
       "        2.000e+00],\n",
       "       ...,\n",
       "       [2.016e+03, 6.000e+00, 3.000e+01, ..., 5.000e+00, 6.334e+01,\n",
       "        1.000e+00],\n",
       "       [2.016e+03, 6.000e+00, 3.000e+01, ..., 8.950e+00, 4.475e+01,\n",
       "        1.000e+00],\n",
       "       [2.016e+03, 6.000e+00, 3.000e+01, ..., 0.000e+00, 5.484e+01,\n",
       "        2.000e+00]])"
      ]
     },
     "execution_count": 3,
     "metadata": {},
     "output_type": "execute_result"
    }
   ],
   "source": [
    "# The numpy.genfromtxt() function reads a text file into a NumPy ndarray.\n",
    "# np.genfromtxt(filename,delimiter)\n",
    "taxi = np.genfromtxt('nyc_taxis.csv',delimiter=',',skip_header=1)\n",
    "taxi"
   ]
  },
  {
   "cell_type": "code",
   "execution_count": 7,
   "metadata": {},
   "outputs": [
    {
     "name": "stdout",
     "output_type": "stream",
     "text": [
      "[ True  True False False False]\n",
      "[ True  True False  True]\n",
      "[False  True False  True]\n"
     ]
    }
   ],
   "source": [
    "# Boolean operation on narray\n",
    "a = np.array([1, 2, 3, 4, 5])\n",
    "b = np.array([\"blue\", \"blue\", \"red\", \"blue\"])\n",
    "c = np.array([80.0, 103.4, 96.9, 200.3])\n",
    "\n",
    "a_bool = a < 3\n",
    "print(a_bool)\n",
    "b_bool = b == 'blue'\n",
    "print(b_bool)\n",
    "c_bool = c > 100\n",
    "print(c_bool)"
   ]
  },
  {
   "cell_type": "code",
   "execution_count": 14,
   "metadata": {},
   "outputs": [
    {
     "name": "stdout",
     "output_type": "stream",
     "text": [
      "(89560, 15)\n",
      "(13333, 15)\n"
     ]
    }
   ],
   "source": [
    "#Boolean indexing\n",
    "print(taxi.shape)\n",
    "february = taxi[taxi[:,1] == 2]\n",
    "print(february.shape)\n",
    "february_rides = february.shape[0]"
   ]
  },
  {
   "cell_type": "code",
   "execution_count": 15,
   "metadata": {},
   "outputs": [
    {
     "name": "stdout",
     "output_type": "stream",
     "text": [
      "(15547, 15)\n"
     ]
    }
   ],
   "source": [
    "march = taxi[taxi[:,1] == 3]\n",
    "print(march.shape)\n",
    "february_rides = march.shape[0]"
   ]
  },
  {
   "cell_type": "code",
   "execution_count": 18,
   "metadata": {},
   "outputs": [
    {
     "data": {
      "text/plain": [
       "(89560,)"
      ]
     },
     "execution_count": 18,
     "metadata": {},
     "output_type": "execute_result"
    }
   ],
   "source": [
    "tip_bool = taxi[:,12] > 50\n",
    "tip_bool.shape"
   ]
  },
  {
   "cell_type": "code",
   "execution_count": 19,
   "metadata": {},
   "outputs": [],
   "source": [
    "top_tips = taxi[tip_bool,5:14]"
   ]
  },
  {
   "cell_type": "code",
   "execution_count": 21,
   "metadata": {},
   "outputs": [],
   "source": [
    "taxi_modified = taxi.copy()"
   ]
  },
  {
   "cell_type": "code",
   "execution_count": 23,
   "metadata": {},
   "outputs": [],
   "source": [
    "tax_modified[28214,5] = 1\n",
    "taxi_modified[:,0] = 16\n",
    "taxi_modified[1800:1802,7] = taxi_modified[:,7].mean()"
   ]
  },
  {
   "cell_type": "code",
   "execution_count": 27,
   "metadata": {},
   "outputs": [
    {
     "name": "stdout",
     "output_type": "stream",
     "text": [
      "(89560, 15)\n",
      "(89560, 1)\n",
      "(89560, 16)\n"
     ]
    }
   ],
   "source": [
    "taxi_modified = taxi.copy()\n",
    "print(taxi_modified.shape)\n",
    "zeros = np.zeros([taxi_modified.shape[0], 1])\n",
    "print(zeros.shape)\n",
    "taxi_modified = np.concatenate([taxi_modified,zeros],axis=1)\n",
    "print(taxi_modified.shape)"
   ]
  },
  {
   "cell_type": "code",
   "execution_count": 32,
   "metadata": {},
   "outputs": [],
   "source": [
    "taxi_modified[taxi_modified[:,5] == 2,15] = 1\n",
    "taxi_modified[taxi_modified[:,5] == 3,15] = 1\n",
    "taxi_modified[taxi_modified[:,5] == 5,15] = 1"
   ]
  },
  {
   "cell_type": "code",
   "execution_count": 39,
   "metadata": {},
   "outputs": [
    {
     "data": {
      "text/plain": [
       "11832"
      ]
     },
     "execution_count": 39,
     "metadata": {},
     "output_type": "execute_result"
    }
   ],
   "source": [
    "jfk_count = taxi[taxi[:,6] == 2].shape[0]\n",
    "jfk_count"
   ]
  },
  {
   "cell_type": "code",
   "execution_count": 40,
   "metadata": {},
   "outputs": [
    {
     "data": {
      "text/plain": [
       "16602"
      ]
     },
     "execution_count": 40,
     "metadata": {},
     "output_type": "execute_result"
    }
   ],
   "source": [
    "laguardia_count = taxi[taxi[:,6] == 3].shape[0]\n",
    "laguardia_count"
   ]
  },
  {
   "cell_type": "code",
   "execution_count": 42,
   "metadata": {},
   "outputs": [
    {
     "data": {
      "text/plain": [
       "9000"
      ]
     },
     "execution_count": 42,
     "metadata": {},
     "output_type": "execute_result"
    }
   ],
   "source": [
    "newark_count = taxi[taxi[:,6] == 6].shape[0]\n",
    "newark_count"
   ]
  },
  {
   "cell_type": "code",
   "execution_count": 47,
   "metadata": {},
   "outputs": [
    {
     "data": {
      "text/plain": [
       "23.353238774840836"
      ]
     },
     "execution_count": 47,
     "metadata": {},
     "output_type": "execute_result"
    }
   ],
   "source": [
    "trip_mph = taxi[:,7] / (taxi[:,8] / 3600)\n",
    "cleaned_taxi = taxi[trip_mph < 100]\n",
    "mean_distance = cleaned_taxi[:,7].mean()\n",
    "mean_length = cleaned_taxi[:,8].mean()\n",
    "mean_total_amount = cleaned_taxi[:,13].mean()\n",
    "mean_mph = trip_mph[trip_mph < 100].mean()\n",
    "mean_mph"
   ]
  }
 ],
 "metadata": {
  "kernelspec": {
   "display_name": "Python 3",
   "language": "python",
   "name": "python3"
  },
  "language_info": {
   "codemirror_mode": {
    "name": "ipython",
    "version": 3
   },
   "file_extension": ".py",
   "mimetype": "text/x-python",
   "name": "python",
   "nbconvert_exporter": "python",
   "pygments_lexer": "ipython3",
   "version": "3.6.5"
  }
 },
 "nbformat": 4,
 "nbformat_minor": 2
}
