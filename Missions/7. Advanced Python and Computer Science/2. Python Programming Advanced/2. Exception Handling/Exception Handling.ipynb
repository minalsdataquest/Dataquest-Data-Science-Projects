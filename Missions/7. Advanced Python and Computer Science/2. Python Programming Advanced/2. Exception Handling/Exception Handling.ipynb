{
 "cells": [
  {
   "cell_type": "markdown",
   "metadata": {},
   "source": [
    "# Exception Handling"
   ]
  },
  {
   "cell_type": "markdown",
   "metadata": {},
   "source": [
    "Each row of our data set represents a trial in which a participant used a chopstick of a certain length. It records the food pinching efficiency for a specific individual and chopstick length.\n",
    "The first column contains the \"Food pinching efficiency\" measurement, which is a decimal value. The higher the value, the better the chopstick.\n",
    "The second column, \"Individual,\" holds unique identifiers for the person who used the chopstick.\n",
    "The third column records the \"Chopstick length\" measurement in millimeters."
   ]
  },
  {
   "cell_type": "code",
   "execution_count": 8,
   "metadata": {},
   "outputs": [],
   "source": [
    "import csv"
   ]
  },
  {
   "cell_type": "markdown",
   "metadata": {},
   "source": [
    "### Exploring the Data"
   ]
  },
  {
   "cell_type": "code",
   "execution_count": 11,
   "metadata": {},
   "outputs": [
    {
     "data": {
      "text/plain": [
       "[['19.55', '1', '180'],\n",
       " ['27.24', '2', '180'],\n",
       " ['28.76', '3', '180'],\n",
       " ['31.19', '4', '180'],\n",
       " ['21.91', '5', '180']]"
      ]
     },
     "execution_count": 11,
     "metadata": {},
     "output_type": "execute_result"
    }
   ],
   "source": [
    "with open(\"chopsticks.csv\", \"r\") as f:\n",
    "    reader = csv.reader(f, delimiter=',')\n",
    "    chopsticks = list(reader)\n",
    "    \n",
    "chopsticks = chopsticks[1:]\n",
    "chopsticks[:5]"
   ]
  },
  {
   "cell_type": "markdown",
   "metadata": {},
   "source": [
    "### Creating the Trial class to store information about each row of data"
   ]
  },
  {
   "cell_type": "code",
   "execution_count": 12,
   "metadata": {},
   "outputs": [],
   "source": [
    "class Trial(object):\n",
    "    \n",
    "    def __init__(self,row):\n",
    "        self.efficiency = float(row[0])\n",
    "        self.individual = int(row[1])\n",
    "        self.chopstick_length = int(row[2])"
   ]
  },
  {
   "cell_type": "code",
   "execution_count": 15,
   "metadata": {},
   "outputs": [],
   "source": [
    "first_trial = Trial(chopsticks[0])"
   ]
  },
  {
   "cell_type": "code",
   "execution_count": 20,
   "metadata": {},
   "outputs": [
    {
     "data": {
      "text/plain": [
       "19.55"
      ]
     },
     "execution_count": 20,
     "metadata": {},
     "output_type": "execute_result"
    }
   ],
   "source": [
    "first_trial.efficiency"
   ]
  },
  {
   "cell_type": "code",
   "execution_count": 21,
   "metadata": {},
   "outputs": [
    {
     "data": {
      "text/plain": [
       "1"
      ]
     },
     "execution_count": 21,
     "metadata": {},
     "output_type": "execute_result"
    }
   ],
   "source": [
    "first_trial.individual"
   ]
  },
  {
   "cell_type": "code",
   "execution_count": 22,
   "metadata": {},
   "outputs": [
    {
     "data": {
      "text/plain": [
       "180"
      ]
     },
     "execution_count": 22,
     "metadata": {},
     "output_type": "execute_result"
    }
   ],
   "source": [
    "first_trial.chopstick_length"
   ]
  },
  {
   "cell_type": "markdown",
   "metadata": {},
   "source": [
    "### Creating the Chopstick class to store information about each chopstick"
   ]
  },
  {
   "cell_type": "code",
   "execution_count": 23,
   "metadata": {},
   "outputs": [],
   "source": [
    "class Chopstick(object):\n",
    "    def __init__(self,length):\n",
    "        self.length = length"
   ]
  },
  {
   "cell_type": "code",
   "execution_count": 24,
   "metadata": {},
   "outputs": [],
   "source": [
    "mini_chopstick = Chopstick(100)"
   ]
  },
  {
   "cell_type": "code",
   "execution_count": 25,
   "metadata": {},
   "outputs": [
    {
     "data": {
      "text/plain": [
       "100"
      ]
     },
     "execution_count": 25,
     "metadata": {},
     "output_type": "execute_result"
    }
   ],
   "source": [
    "mini_chopstick.length"
   ]
  },
  {
   "cell_type": "markdown",
   "metadata": {},
   "source": [
    "### Storing the trials in the Chopstick class"
   ]
  },
  {
   "cell_type": "code",
   "execution_count": 26,
   "metadata": {},
   "outputs": [],
   "source": [
    "class Chopstick(object):\n",
    "    def __init__(self, length):\n",
    "        self.length = length\n",
    "        self.trials = []\n",
    "        for row in chopsticks:\n",
    "            if int(row[2]) == self.length:\n",
    "                self.trials.append(Trial(row))"
   ]
  },
  {
   "cell_type": "code",
   "execution_count": 27,
   "metadata": {},
   "outputs": [],
   "source": [
    "medium_chopstick = Chopstick(240)"
   ]
  },
  {
   "cell_type": "code",
   "execution_count": 28,
   "metadata": {},
   "outputs": [
    {
     "data": {
      "text/plain": [
       "240"
      ]
     },
     "execution_count": 28,
     "metadata": {},
     "output_type": "execute_result"
    }
   ],
   "source": [
    "medium_chopstick.length"
   ]
  },
  {
   "cell_type": "code",
   "execution_count": 30,
   "metadata": {},
   "outputs": [
    {
     "data": {
      "text/plain": [
       "31"
      ]
     },
     "execution_count": 30,
     "metadata": {},
     "output_type": "execute_result"
    }
   ],
   "source": [
    "len(medium_chopstick.trials)"
   ]
  },
  {
   "cell_type": "markdown",
   "metadata": {},
   "source": [
    "### Adding new methds to calculate average food pinching efficiency"
   ]
  },
  {
   "cell_type": "code",
   "execution_count": 32,
   "metadata": {},
   "outputs": [],
   "source": [
    "class Chopstick(object):\n",
    "    def __init__(self, length):\n",
    "        self.length = length\n",
    "        self.trials = []\n",
    "        for row in chopsticks:\n",
    "            if int(row[2]) == self.length:\n",
    "                self.trials.append(Trial(row))\n",
    "                \n",
    "    def num_trials(self):\n",
    "        return len(self.trials)\n",
    "        \n",
    "    def avg_efficiency(self):\n",
    "        total_efficiency = 0\n",
    "        for trial in self.trials:\n",
    "            total_efficiency = total_efficiency + trial.efficiency\n",
    "        return total_efficiency / self.num_trials()"
   ]
  },
  {
   "cell_type": "code",
   "execution_count": 33,
   "metadata": {},
   "outputs": [
    {
     "data": {
      "text/plain": [
       "25.483870967741932"
      ]
     },
     "execution_count": 33,
     "metadata": {},
     "output_type": "execute_result"
    }
   ],
   "source": [
    "avg_eff_210 = Chopstick(210).avg_efficiency()\n",
    "avg_eff_210"
   ]
  },
  {
   "cell_type": "markdown",
   "metadata": {},
   "source": [
    "### Handling bad data with an exception in the Trial Class"
   ]
  },
  {
   "cell_type": "code",
   "execution_count": 34,
   "metadata": {},
   "outputs": [],
   "source": [
    "class Trial(object):\n",
    "    def __init__(self, row):\n",
    "        try:\n",
    "            self.efficiency = float(row[0])\n",
    "            self.individual = int(row[1])\n",
    "            self.chopstick_length = int(row[2])\n",
    "        except ValueError:\n",
    "            self.efficiency = -1.0\n",
    "            self.individual = -1\n",
    "            self.chopstick_length = -1"
   ]
  },
  {
   "cell_type": "code",
   "execution_count": 41,
   "metadata": {},
   "outputs": [],
   "source": [
    "bad_trial = Trial(['efficient', 'Joe', '40cm'])"
   ]
  },
  {
   "cell_type": "code",
   "execution_count": 42,
   "metadata": {},
   "outputs": [
    {
     "data": {
      "text/plain": [
       "-1.0"
      ]
     },
     "execution_count": 42,
     "metadata": {},
     "output_type": "execute_result"
    }
   ],
   "source": [
    "bad_trial.efficiency"
   ]
  },
  {
   "cell_type": "code",
   "execution_count": 43,
   "metadata": {},
   "outputs": [
    {
     "data": {
      "text/plain": [
       "-1"
      ]
     },
     "execution_count": 43,
     "metadata": {},
     "output_type": "execute_result"
    }
   ],
   "source": [
    "bad_trial.individual"
   ]
  },
  {
   "cell_type": "code",
   "execution_count": 44,
   "metadata": {},
   "outputs": [
    {
     "data": {
      "text/plain": [
       "-1"
      ]
     },
     "execution_count": 44,
     "metadata": {},
     "output_type": "execute_result"
    }
   ],
   "source": [
    "bad_trial.chopstick_length"
   ]
  },
  {
   "cell_type": "markdown",
   "metadata": {},
   "source": [
    "### Handling bad data with an exception in the Chopstick class"
   ]
  },
  {
   "cell_type": "code",
   "execution_count": 39,
   "metadata": {},
   "outputs": [],
   "source": [
    "class Chopstick(object):\n",
    "    def __init__(self, length):\n",
    "        self.length = length\n",
    "        self.trials = []\n",
    "        for row in chopsticks:\n",
    "            if int(row[2]) == self.length:\n",
    "                trial = Trial(row)\n",
    "                if (trial.efficiency != -1) and (trial.individual != -1) and (trial.chopstick_length != -1):\n",
    "                    self.trials.append(trial)\n",
    "    def num_trials(self):\n",
    "        return len(self.trials)\n",
    "    def avg_efficiency(self):\n",
    "        total_efficiency = 0\n",
    "        for trial in self.trials:\n",
    "            total_efficiency = total_efficiency + trial.efficiency\n",
    "        return total_efficiency / self.num_trials()"
   ]
  },
  {
   "cell_type": "code",
   "execution_count": 45,
   "metadata": {},
   "outputs": [],
   "source": [
    "bad_chopstick = Chopstick(400)"
   ]
  },
  {
   "cell_type": "code",
   "execution_count": 47,
   "metadata": {},
   "outputs": [
    {
     "data": {
      "text/plain": [
       "400"
      ]
     },
     "execution_count": 47,
     "metadata": {},
     "output_type": "execute_result"
    }
   ],
   "source": [
    "bad_chopstick.length"
   ]
  },
  {
   "cell_type": "code",
   "execution_count": 48,
   "metadata": {},
   "outputs": [
    {
     "data": {
      "text/plain": [
       "<bound method Chopstick.avg_efficiency of <__main__.Chopstick object at 0x000001AC09C69358>>"
      ]
     },
     "execution_count": 48,
     "metadata": {},
     "output_type": "execute_result"
    }
   ],
   "source": [
    "bad_chopstick.avg_efficiency"
   ]
  },
  {
   "cell_type": "markdown",
   "metadata": {},
   "source": [
    "### Handling lengths outside of the data set"
   ]
  },
  {
   "cell_type": "code",
   "execution_count": 49,
   "metadata": {},
   "outputs": [],
   "source": [
    "class Chopstick(object):\n",
    "    def __init__(self, length):\n",
    "        self.length = length\n",
    "        self.trials = []\n",
    "        for row in chopsticks:\n",
    "            if int(row[2]) == self.length:\n",
    "                trial = Trial(row)\n",
    "                if trial.individual >= 0:\n",
    "                    self.trials.append(trial)\n",
    "    def num_trials(self):\n",
    "        return len(self.trials)\n",
    "    def avg_efficiency(self):\n",
    "        total_efficiency = 0\n",
    "        for trial in self.trials:\n",
    "            total_efficiency = total_efficiency + trial.efficiency\n",
    "        try:\n",
    "            return total_efficiency / self.num_trials()\n",
    "        except ZeroDivisionError:\n",
    "            return -1.0"
   ]
  },
  {
   "cell_type": "code",
   "execution_count": 50,
   "metadata": {},
   "outputs": [
    {
     "data": {
      "text/plain": [
       "-1.0"
      ]
     },
     "execution_count": 50,
     "metadata": {},
     "output_type": "execute_result"
    }
   ],
   "source": [
    "bad_average = Chopstick(100).avg_efficiency()\n",
    "bad_average"
   ]
  },
  {
   "cell_type": "markdown",
   "metadata": {},
   "source": [
    "### Finding the most efficient chopsticks"
   ]
  },
  {
   "cell_type": "code",
   "execution_count": 51,
   "metadata": {},
   "outputs": [],
   "source": [
    "chopstick_lengths = [180, 195, 210, 225, 240, 255, 270, 285, 300, 315, 330]"
   ]
  },
  {
   "cell_type": "code",
   "execution_count": 52,
   "metadata": {},
   "outputs": [
    {
     "data": {
      "text/plain": [
       "[<__main__.Chopstick at 0x1ac09c692b0>,\n",
       " <__main__.Chopstick at 0x1ac09c69128>,\n",
       " <__main__.Chopstick at 0x1ac09c7b198>,\n",
       " <__main__.Chopstick at 0x1ac09c7b1d0>,\n",
       " <__main__.Chopstick at 0x1ac09c7b8d0>,\n",
       " <__main__.Chopstick at 0x1ac09c7b908>,\n",
       " <__main__.Chopstick at 0x1ac09c7c048>,\n",
       " <__main__.Chopstick at 0x1ac09c7c080>,\n",
       " <__main__.Chopstick at 0x1ac09c7c780>,\n",
       " <__main__.Chopstick at 0x1ac09c7c7b8>,\n",
       " <__main__.Chopstick at 0x1ac09c7ceb8>]"
      ]
     },
     "execution_count": 52,
     "metadata": {},
     "output_type": "execute_result"
    }
   ],
   "source": [
    "chopstick_list = [Chopstick(length) for length in chopstick_lengths]\n",
    "chopstick_list"
   ]
  },
  {
   "cell_type": "code",
   "execution_count": 54,
   "metadata": {},
   "outputs": [],
   "source": [
    "class Chopstick(object):\n",
    "    def __init__(self, length):\n",
    "        self.length = length\n",
    "        self.trials = []\n",
    "        for row in chopsticks:\n",
    "            if int(row[2]) == self.length:\n",
    "                trial = Trial(row)\n",
    "                if trial.individual >= 0:\n",
    "                    self.trials.append(trial)\n",
    "    def num_trials(self):\n",
    "        return len(self.trials)\n",
    "    def avg_efficiency(self):\n",
    "        total_efficiency = 0\n",
    "        for trial in self.trials:\n",
    "            total_efficiency = total_efficiency + trial.efficiency\n",
    "        try:\n",
    "            return total_efficiency / self.num_trials()\n",
    "        except ZeroDivisionError:\n",
    "            return -1.0\n",
    "    def __lt__(self, other):\n",
    "        return self.avg_efficiency() < other.avg_efficiency()\n",
    "    def __gt__(self, other):\n",
    "        return self.avg_efficiency() > other.avg_efficiency()\n",
    "    def __le__(self, other):\n",
    "        return self.avg_efficiency() <= other.avg_efficiency()\n",
    "    def __ge__(self, other):\n",
    "        return self.avg_efficiency() >= other.avg_efficiency()\n",
    "    def __eq__(self, other):\n",
    "        return self.avg_efficiency() == other.avg_efficiency()\n",
    "    def __ne__(self, other):\n",
    "        return self.avg_efficiency() != other.avg_efficiency()"
   ]
  },
  {
   "cell_type": "code",
   "execution_count": 56,
   "metadata": {},
   "outputs": [],
   "source": [
    "chopstick_list = [Chopstick(length) for length in chopstick_lengths]"
   ]
  },
  {
   "cell_type": "code",
   "execution_count": 59,
   "metadata": {},
   "outputs": [],
   "source": [
    "most_efficient = max(chopstick_list)"
   ]
  },
  {
   "cell_type": "code",
   "execution_count": 60,
   "metadata": {},
   "outputs": [
    {
     "data": {
      "text/plain": [
       "240"
      ]
     },
     "execution_count": 60,
     "metadata": {},
     "output_type": "execute_result"
    }
   ],
   "source": [
    "most_efficient.length"
   ]
  }
 ],
 "metadata": {
  "kernelspec": {
   "display_name": "Python 3",
   "language": "python",
   "name": "python3"
  },
  "language_info": {
   "codemirror_mode": {
    "name": "ipython",
    "version": 3
   },
   "file_extension": ".py",
   "mimetype": "text/x-python",
   "name": "python",
   "nbconvert_exporter": "python",
   "pygments_lexer": "ipython3",
   "version": "3.6.5"
  }
 },
 "nbformat": 4,
 "nbformat_minor": 2
}
