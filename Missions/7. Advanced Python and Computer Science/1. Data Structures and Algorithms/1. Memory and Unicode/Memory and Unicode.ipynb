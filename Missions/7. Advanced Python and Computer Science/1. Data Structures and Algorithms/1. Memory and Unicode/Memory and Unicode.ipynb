{
 "cells": [
  {
   "cell_type": "markdown",
   "metadata": {},
   "source": [
    "# Memory and Unicode"
   ]
  },
  {
   "cell_type": "code",
   "execution_count": 68,
   "metadata": {},
   "outputs": [],
   "source": [
    "import csv\n",
    "import pandas as pd\n",
    "from collections import Counter"
   ]
  },
  {
   "cell_type": "markdown",
   "metadata": {},
   "source": [
    "### Exploring binary numbers"
   ]
  },
  {
   "cell_type": "code",
   "execution_count": 2,
   "metadata": {},
   "outputs": [
    {
     "name": "stdout",
     "output_type": "stream",
     "text": [
      "2\n"
     ]
    }
   ],
   "source": [
    "# Let's say b is a binary number\n",
    "\n",
    "b = \"10\"\n",
    "print(int(b, 2))"
   ]
  },
  {
   "cell_type": "code",
   "execution_count": 3,
   "metadata": {},
   "outputs": [
    {
     "data": {
      "text/plain": [
       "4"
      ]
     },
     "execution_count": 3,
     "metadata": {},
     "output_type": "execute_result"
    }
   ],
   "source": [
    "base_10_100 = int(\"100\", 2)\n",
    "base_10_100"
   ]
  },
  {
   "cell_type": "markdown",
   "metadata": {},
   "source": [
    "### Adding binary numbers"
   ]
  },
  {
   "cell_type": "code",
   "execution_count": 4,
   "metadata": {},
   "outputs": [
    {
     "name": "stdout",
     "output_type": "stream",
     "text": [
      "10\n"
     ]
    }
   ],
   "source": [
    "a = 9\n",
    "a += 1\n",
    "print(a)"
   ]
  },
  {
   "cell_type": "code",
   "execution_count": 5,
   "metadata": {},
   "outputs": [
    {
     "data": {
      "text/plain": [
       "20"
      ]
     },
     "execution_count": 5,
     "metadata": {},
     "output_type": "execute_result"
    }
   ],
   "source": [
    "a = 19\n",
    "a += 1\n",
    "a"
   ]
  },
  {
   "cell_type": "code",
   "execution_count": 6,
   "metadata": {},
   "outputs": [
    {
     "data": {
      "text/plain": [
       "100"
      ]
     },
     "execution_count": 6,
     "metadata": {},
     "output_type": "execute_result"
    }
   ],
   "source": [
    "a = 99\n",
    "a += 1\n",
    "a"
   ]
  },
  {
   "cell_type": "code",
   "execution_count": 7,
   "metadata": {},
   "outputs": [],
   "source": [
    "def binary_add(a, b):\n",
    "    return bin(int(a, 2) + int(b, 2))[2:]"
   ]
  },
  {
   "cell_type": "code",
   "execution_count": 8,
   "metadata": {},
   "outputs": [
    {
     "data": {
      "text/plain": [
       "'10'"
      ]
     },
     "execution_count": 8,
     "metadata": {},
     "output_type": "execute_result"
    }
   ],
   "source": [
    "b = \"1\"\n",
    "c = binary_add(b, \"1\")\n",
    "c"
   ]
  },
  {
   "cell_type": "code",
   "execution_count": 9,
   "metadata": {},
   "outputs": [
    {
     "data": {
      "text/plain": [
       "'0b101'"
      ]
     },
     "execution_count": 9,
     "metadata": {},
     "output_type": "execute_result"
    }
   ],
   "source": [
    "bin(5)"
   ]
  },
  {
   "cell_type": "code",
   "execution_count": 10,
   "metadata": {},
   "outputs": [
    {
     "data": {
      "text/plain": [
       "'0b1000'"
      ]
     },
     "execution_count": 10,
     "metadata": {},
     "output_type": "execute_result"
    }
   ],
   "source": [
    "bin(8)"
   ]
  },
  {
   "cell_type": "markdown",
   "metadata": {},
   "source": [
    "### Converting binary values to other bases"
   ]
  },
  {
   "cell_type": "code",
   "execution_count": 11,
   "metadata": {},
   "outputs": [
    {
     "name": "stdout",
     "output_type": "stream",
     "text": [
      "True\n",
      "True\n",
      "True\n",
      "True\n",
      "True\n",
      "True\n",
      "True\n",
      "True\n",
      "True\n",
      "True\n"
     ]
    }
   ],
   "source": [
    "a = 0\n",
    "b = \"0\"\n",
    "\n",
    "for i in range(0, 10):\n",
    "    a += 1\n",
    "    b = binary_add(b, \"1\")\n",
    "    print(int(b, 2) == a)"
   ]
  },
  {
   "cell_type": "code",
   "execution_count": 12,
   "metadata": {},
   "outputs": [
    {
     "data": {
      "text/plain": [
       "9"
      ]
     },
     "execution_count": 12,
     "metadata": {},
     "output_type": "execute_result"
    }
   ],
   "source": [
    "base_10_1001 = int(\"1001\",2)\n",
    "base_10_1001"
   ]
  },
  {
   "cell_type": "markdown",
   "metadata": {},
   "source": [
    "### Converting characters to binary"
   ]
  },
  {
   "cell_type": "code",
   "execution_count": 13,
   "metadata": {},
   "outputs": [
    {
     "data": {
      "text/plain": [
       "97"
      ]
     },
     "execution_count": 13,
     "metadata": {},
     "output_type": "execute_result"
    }
   ],
   "source": [
    "ord('a')"
   ]
  },
  {
   "cell_type": "code",
   "execution_count": 14,
   "metadata": {},
   "outputs": [
    {
     "data": {
      "text/plain": [
       "'0b1100001'"
      ]
     },
     "execution_count": 14,
     "metadata": {},
     "output_type": "execute_result"
    }
   ],
   "source": [
    "bin(ord('a'))"
   ]
  },
  {
   "cell_type": "code",
   "execution_count": 15,
   "metadata": {},
   "outputs": [
    {
     "data": {
      "text/plain": [
       "'0b11111111'"
      ]
     },
     "execution_count": 15,
     "metadata": {},
     "output_type": "execute_result"
    }
   ],
   "source": [
    "bin(ord('ÿ'))"
   ]
  },
  {
   "cell_type": "code",
   "execution_count": 16,
   "metadata": {},
   "outputs": [
    {
     "data": {
      "text/plain": [
       "'0b1110111'"
      ]
     },
     "execution_count": 16,
     "metadata": {},
     "output_type": "execute_result"
    }
   ],
   "source": [
    "binary_w = bin(ord('w'))\n",
    "binary_w"
   ]
  },
  {
   "cell_type": "code",
   "execution_count": 17,
   "metadata": {},
   "outputs": [
    {
     "data": {
      "text/plain": [
       "'0b1111101'"
      ]
     },
     "execution_count": 17,
     "metadata": {},
     "output_type": "execute_result"
    }
   ],
   "source": [
    "binary_bracket = bin(ord('}'))\n",
    "binary_bracket"
   ]
  },
  {
   "cell_type": "code",
   "execution_count": 18,
   "metadata": {},
   "outputs": [
    {
     "data": {
      "text/plain": [
       "'0b1000000011001'"
      ]
     },
     "execution_count": 18,
     "metadata": {},
     "output_type": "execute_result"
    }
   ],
   "source": [
    "code_point = \"မ\"\n",
    "binary_1019 = bin(ord(code_point))\n",
    "binary_1019 "
   ]
  },
  {
   "cell_type": "markdown",
   "metadata": {},
   "source": [
    "### Exploring the Unicode"
   ]
  },
  {
   "cell_type": "code",
   "execution_count": 19,
   "metadata": {},
   "outputs": [
    {
     "data": {
      "text/plain": [
       "'⟶'"
      ]
     },
     "execution_count": 19,
     "metadata": {},
     "output_type": "execute_result"
    }
   ],
   "source": [
    "code_point = \"⟶\"\n",
    "code_point"
   ]
  },
  {
   "cell_type": "code",
   "execution_count": 20,
   "metadata": {},
   "outputs": [
    {
     "data": {
      "text/plain": [
       "10230"
      ]
     },
     "execution_count": 20,
     "metadata": {},
     "output_type": "execute_result"
    }
   ],
   "source": [
    "ord(code_point)"
   ]
  },
  {
   "cell_type": "code",
   "execution_count": 21,
   "metadata": {},
   "outputs": [
    {
     "data": {
      "text/plain": [
       "'0b10011111110110'"
      ]
     },
     "execution_count": 21,
     "metadata": {},
     "output_type": "execute_result"
    }
   ],
   "source": [
    "bin(ord(code_point))"
   ]
  },
  {
   "cell_type": "markdown",
   "metadata": {},
   "source": [
    "### Making Unicode strings"
   ]
  },
  {
   "cell_type": "code",
   "execution_count": 22,
   "metadata": {},
   "outputs": [
    {
     "data": {
      "text/plain": [
       "True"
      ]
     },
     "execution_count": 22,
     "metadata": {},
     "output_type": "execute_result"
    }
   ],
   "source": [
    "a =\"\\u1019\"\n",
    "b = \"မ\"\n",
    "a == b"
   ]
  },
  {
   "cell_type": "code",
   "execution_count": 23,
   "metadata": {},
   "outputs": [
    {
     "data": {
      "text/plain": [
       "'hello မ'"
      ]
     },
     "execution_count": 23,
     "metadata": {},
     "output_type": "execute_result"
    }
   ],
   "source": [
    "s3 = \"hello မ\"\n",
    "s3"
   ]
  },
  {
   "cell_type": "markdown",
   "metadata": {},
   "source": [
    "### The Bytes data type"
   ]
  },
  {
   "cell_type": "code",
   "execution_count": 24,
   "metadata": {},
   "outputs": [
    {
     "data": {
      "text/plain": [
       "'Clark Kent␦'"
      ]
     },
     "execution_count": 24,
     "metadata": {},
     "output_type": "execute_result"
    }
   ],
   "source": [
    "superman = \"Clark Kent␦\"\n",
    "superman"
   ]
  },
  {
   "cell_type": "code",
   "execution_count": 25,
   "metadata": {},
   "outputs": [
    {
     "data": {
      "text/plain": [
       "b'Clark Kent\\xe2\\x90\\xa6'"
      ]
     },
     "execution_count": 25,
     "metadata": {},
     "output_type": "execute_result"
    }
   ],
   "source": [
    "superman_bytes = \"Clark Kent␦\".encode(\"utf-8\")\n",
    "superman_bytes"
   ]
  },
  {
   "cell_type": "code",
   "execution_count": 26,
   "metadata": {},
   "outputs": [
    {
     "data": {
      "text/plain": [
       "b'Bruce Wayne\\xe2\\x90\\xa6'"
      ]
     },
     "execution_count": 26,
     "metadata": {},
     "output_type": "execute_result"
    }
   ],
   "source": [
    "batman = \"Bruce Wayne␦\"\n",
    "batman_bytes = batman.encode(\"utf-8\")\n",
    "batman_bytes"
   ]
  },
  {
   "cell_type": "markdown",
   "metadata": {},
   "source": [
    "### Hexadecimal conversions"
   ]
  },
  {
   "cell_type": "code",
   "execution_count": 27,
   "metadata": {},
   "outputs": [
    {
     "data": {
      "text/plain": [
       "15"
      ]
     },
     "execution_count": 27,
     "metadata": {},
     "output_type": "execute_result"
    }
   ],
   "source": [
    "int(\"F\", 16)"
   ]
  },
  {
   "cell_type": "code",
   "execution_count": 28,
   "metadata": {},
   "outputs": [
    {
     "data": {
      "text/plain": [
       "10"
      ]
     },
     "execution_count": 28,
     "metadata": {},
     "output_type": "execute_result"
    }
   ],
   "source": [
    "int(\"A\", 16)"
   ]
  },
  {
   "cell_type": "code",
   "execution_count": 29,
   "metadata": {},
   "outputs": [],
   "source": [
    "def hexadecimal_add(a, b):\n",
    "    return hex(int(a, 16) + int(b, 16))[2:]"
   ]
  },
  {
   "cell_type": "code",
   "execution_count": 30,
   "metadata": {},
   "outputs": [
    {
     "data": {
      "text/plain": [
       "'a'"
      ]
     },
     "execution_count": 30,
     "metadata": {},
     "output_type": "execute_result"
    }
   ],
   "source": [
    "value = \"9\"\n",
    "value = hexadecimal_add(value, \"1\")\n",
    "value"
   ]
  },
  {
   "cell_type": "code",
   "execution_count": 31,
   "metadata": {},
   "outputs": [
    {
     "data": {
      "text/plain": [
       "'ec'"
      ]
     },
     "execution_count": 31,
     "metadata": {},
     "output_type": "execute_result"
    }
   ],
   "source": [
    "hex_ea = hexadecimal_add(\"ea\",\"2\")\n",
    "hex_ea"
   ]
  },
  {
   "cell_type": "code",
   "execution_count": 32,
   "metadata": {},
   "outputs": [
    {
     "data": {
      "text/plain": [
       "'1d'"
      ]
     },
     "execution_count": 32,
     "metadata": {},
     "output_type": "execute_result"
    }
   ],
   "source": [
    "hex_ef = hexadecimal_add(\"f\",\"e\")\n",
    "hex_ef"
   ]
  },
  {
   "cell_type": "markdown",
   "metadata": {},
   "source": [
    "### Hex to binary conversion"
   ]
  },
  {
   "cell_type": "code",
   "execution_count": 33,
   "metadata": {},
   "outputs": [
    {
     "data": {
      "text/plain": [
       "226"
      ]
     },
     "execution_count": 33,
     "metadata": {},
     "output_type": "execute_result"
    }
   ],
   "source": [
    "hex_byte = \"â\"\n",
    "ord(hex_byte)"
   ]
  },
  {
   "cell_type": "code",
   "execution_count": 34,
   "metadata": {},
   "outputs": [
    {
     "data": {
      "text/plain": [
       "226"
      ]
     },
     "execution_count": 34,
     "metadata": {},
     "output_type": "execute_result"
    }
   ],
   "source": [
    "int(\"e2\", 16)"
   ]
  },
  {
   "cell_type": "code",
   "execution_count": 35,
   "metadata": {},
   "outputs": [
    {
     "data": {
      "text/plain": [
       "'0b11100010'"
      ]
     },
     "execution_count": 35,
     "metadata": {},
     "output_type": "execute_result"
    }
   ],
   "source": [
    "bin(ord(\"â\"))"
   ]
  },
  {
   "cell_type": "code",
   "execution_count": 36,
   "metadata": {},
   "outputs": [
    {
     "data": {
      "text/plain": [
       "'0b10101010'"
      ]
     },
     "execution_count": 36,
     "metadata": {},
     "output_type": "execute_result"
    }
   ],
   "source": [
    "binary_aa = bin(ord(\"\\xaa\"))\n",
    "binary_aa"
   ]
  },
  {
   "cell_type": "code",
   "execution_count": 37,
   "metadata": {},
   "outputs": [
    {
     "data": {
      "text/plain": [
       "'0b10101011'"
      ]
     },
     "execution_count": 37,
     "metadata": {},
     "output_type": "execute_result"
    }
   ],
   "source": [
    "binary_ab = bin(ord(\"\\xab\"))\n",
    "binary_ab"
   ]
  },
  {
   "cell_type": "markdown",
   "metadata": {},
   "source": [
    "### String and Byte data types"
   ]
  },
  {
   "cell_type": "code",
   "execution_count": 38,
   "metadata": {},
   "outputs": [
    {
     "data": {
      "text/plain": [
       "b'Bruce Banner\\xe2\\x90\\xa6'"
      ]
     },
     "execution_count": 38,
     "metadata": {},
     "output_type": "execute_result"
    }
   ],
   "source": [
    "hulk_bytes = \"Bruce Banner␦\".encode(\"utf-8\")\n",
    "hulk_bytes"
   ]
  },
  {
   "cell_type": "code",
   "execution_count": 39,
   "metadata": {},
   "outputs": [
    {
     "name": "stdout",
     "output_type": "stream",
     "text": [
      "TypeError with replacement\n"
     ]
    }
   ],
   "source": [
    "try:\n",
    "    hulk_bytes.replace(\"Banner\", \"\")\n",
    "except Exception:\n",
    "    print(\"TypeError with replacement\")"
   ]
  },
  {
   "cell_type": "code",
   "execution_count": 40,
   "metadata": {},
   "outputs": [
    {
     "data": {
      "text/plain": [
       "b'Bruce Banner'"
      ]
     },
     "execution_count": 40,
     "metadata": {},
     "output_type": "execute_result"
    }
   ],
   "source": [
    "hulk_bytes = b\"Bruce Banner\"\n",
    "hulk_bytes"
   ]
  },
  {
   "cell_type": "code",
   "execution_count": 41,
   "metadata": {},
   "outputs": [
    {
     "data": {
      "text/plain": [
       "b'Bruce '"
      ]
     },
     "execution_count": 41,
     "metadata": {},
     "output_type": "execute_result"
    }
   ],
   "source": [
    "hulk_bytes.replace(b\"Banner\", b\"\")"
   ]
  },
  {
   "cell_type": "code",
   "execution_count": 42,
   "metadata": {},
   "outputs": [
    {
     "data": {
      "text/plain": [
       "b'Thor'"
      ]
     },
     "execution_count": 42,
     "metadata": {},
     "output_type": "execute_result"
    }
   ],
   "source": [
    "thor_bytes = b\"Thor\"\n",
    "thor_bytes"
   ]
  },
  {
   "cell_type": "markdown",
   "metadata": {},
   "source": [
    "### Decoding Bytes to Strings"
   ]
  },
  {
   "cell_type": "code",
   "execution_count": 43,
   "metadata": {},
   "outputs": [
    {
     "data": {
      "text/plain": [
       "'Who knows?'"
      ]
     },
     "execution_count": 43,
     "metadata": {},
     "output_type": "execute_result"
    }
   ],
   "source": [
    "aquaman_bytes = b\"Who knows?\"\n",
    "aquaman = aquaman_bytes.decode(\"utf-8\")\n",
    "aquaman"
   ]
  },
  {
   "cell_type": "code",
   "execution_count": 44,
   "metadata": {},
   "outputs": [
    {
     "data": {
      "text/plain": [
       "str"
      ]
     },
     "execution_count": 44,
     "metadata": {},
     "output_type": "execute_result"
    }
   ],
   "source": [
    "type(aquaman)"
   ]
  },
  {
   "cell_type": "code",
   "execution_count": 45,
   "metadata": {},
   "outputs": [
    {
     "data": {
      "text/plain": [
       "'Morgan Freeman'"
      ]
     },
     "execution_count": 45,
     "metadata": {},
     "output_type": "execute_result"
    }
   ],
   "source": [
    "morgan_freeman_bytes = b\"Morgan Freeman\"\n",
    "morgan_freeman = morgan_freeman_bytes.decode(\"utf-8\")\n",
    "morgan_freeman"
   ]
  },
  {
   "cell_type": "markdown",
   "metadata": {},
   "source": [
    "### Reading in file data"
   ]
  },
  {
   "cell_type": "code",
   "execution_count": 46,
   "metadata": {},
   "outputs": [
    {
     "data": {
      "text/plain": [
       "[['last_name', 'first_name', 'birthday', 'gender', 'type', 'state', 'party'],\n",
       " ['Bassett', 'Richard', '1745-04-02', 'M', 'sen', 'DE', 'Anti-Administration'],\n",
       " ['Bland', 'Theodorick', '1742-03-21', '', 'rep', 'VA', ''],\n",
       " ['Burke', 'Aedanus', '1743-06-16', '', 'rep', 'SC', ''],\n",
       " ['Carroll', 'Daniel', '1730-07-22', 'M', 'rep', 'MD', '']]"
      ]
     },
     "execution_count": 46,
     "metadata": {},
     "output_type": "execute_result"
    }
   ],
   "source": [
    "f = open(\"legislators.csv\", 'r', encoding=\"utf-8\")\n",
    "csvreader = csv.reader(f)\n",
    "legislators = list(csvreader)\n",
    "legislators[0:5]"
   ]
  },
  {
   "cell_type": "code",
   "execution_count": 47,
   "metadata": {},
   "outputs": [],
   "source": [
    "legislators_df = pd.DataFrame(legislators)"
   ]
  },
  {
   "cell_type": "code",
   "execution_count": 48,
   "metadata": {},
   "outputs": [
    {
     "data": {
      "text/html": [
       "<div>\n",
       "<style scoped>\n",
       "    .dataframe tbody tr th:only-of-type {\n",
       "        vertical-align: middle;\n",
       "    }\n",
       "\n",
       "    .dataframe tbody tr th {\n",
       "        vertical-align: top;\n",
       "    }\n",
       "\n",
       "    .dataframe thead th {\n",
       "        text-align: right;\n",
       "    }\n",
       "</style>\n",
       "<table border=\"1\" class=\"dataframe\">\n",
       "  <thead>\n",
       "    <tr style=\"text-align: right;\">\n",
       "      <th></th>\n",
       "      <th>0</th>\n",
       "      <th>1</th>\n",
       "      <th>2</th>\n",
       "      <th>3</th>\n",
       "      <th>4</th>\n",
       "      <th>5</th>\n",
       "      <th>6</th>\n",
       "    </tr>\n",
       "  </thead>\n",
       "  <tbody>\n",
       "    <tr>\n",
       "      <th>0</th>\n",
       "      <td>last_name</td>\n",
       "      <td>first_name</td>\n",
       "      <td>birthday</td>\n",
       "      <td>gender</td>\n",
       "      <td>type</td>\n",
       "      <td>state</td>\n",
       "      <td>party</td>\n",
       "    </tr>\n",
       "    <tr>\n",
       "      <th>1</th>\n",
       "      <td>Bassett</td>\n",
       "      <td>Richard</td>\n",
       "      <td>1745-04-02</td>\n",
       "      <td>M</td>\n",
       "      <td>sen</td>\n",
       "      <td>DE</td>\n",
       "      <td>Anti-Administration</td>\n",
       "    </tr>\n",
       "    <tr>\n",
       "      <th>2</th>\n",
       "      <td>Bland</td>\n",
       "      <td>Theodorick</td>\n",
       "      <td>1742-03-21</td>\n",
       "      <td></td>\n",
       "      <td>rep</td>\n",
       "      <td>VA</td>\n",
       "      <td></td>\n",
       "    </tr>\n",
       "    <tr>\n",
       "      <th>3</th>\n",
       "      <td>Burke</td>\n",
       "      <td>Aedanus</td>\n",
       "      <td>1743-06-16</td>\n",
       "      <td></td>\n",
       "      <td>rep</td>\n",
       "      <td>SC</td>\n",
       "      <td></td>\n",
       "    </tr>\n",
       "    <tr>\n",
       "      <th>4</th>\n",
       "      <td>Carroll</td>\n",
       "      <td>Daniel</td>\n",
       "      <td>1730-07-22</td>\n",
       "      <td>M</td>\n",
       "      <td>rep</td>\n",
       "      <td>MD</td>\n",
       "      <td></td>\n",
       "    </tr>\n",
       "  </tbody>\n",
       "</table>\n",
       "</div>"
      ],
      "text/plain": [
       "           0           1           2       3     4      5                    6\n",
       "0  last_name  first_name    birthday  gender  type  state                party\n",
       "1    Bassett     Richard  1745-04-02       M   sen     DE  Anti-Administration\n",
       "2      Bland  Theodorick  1742-03-21           rep     VA                     \n",
       "3      Burke     Aedanus  1743-06-16           rep     SC                     \n",
       "4    Carroll      Daniel  1730-07-22       M   rep     MD                     "
      ]
     },
     "execution_count": 48,
     "metadata": {},
     "output_type": "execute_result"
    }
   ],
   "source": [
    "legislators_df.head()"
   ]
  },
  {
   "cell_type": "code",
   "execution_count": 49,
   "metadata": {},
   "outputs": [
    {
     "data": {
      "text/plain": [
       "0     last_name\n",
       "1    first_name\n",
       "2      birthday\n",
       "3        gender\n",
       "4          type\n",
       "5         state\n",
       "6         party\n",
       "Name: 0, dtype: object"
      ]
     },
     "execution_count": 49,
     "metadata": {},
     "output_type": "execute_result"
    }
   ],
   "source": [
    "legislators_df.iloc[0,:]"
   ]
  },
  {
   "cell_type": "code",
   "execution_count": 50,
   "metadata": {},
   "outputs": [
    {
     "data": {
      "text/html": [
       "<div>\n",
       "<style scoped>\n",
       "    .dataframe tbody tr th:only-of-type {\n",
       "        vertical-align: middle;\n",
       "    }\n",
       "\n",
       "    .dataframe tbody tr th {\n",
       "        vertical-align: top;\n",
       "    }\n",
       "\n",
       "    .dataframe thead th {\n",
       "        text-align: right;\n",
       "    }\n",
       "</style>\n",
       "<table border=\"1\" class=\"dataframe\">\n",
       "  <thead>\n",
       "    <tr style=\"text-align: right;\">\n",
       "      <th></th>\n",
       "      <th>last_name</th>\n",
       "      <th>first_name</th>\n",
       "      <th>birthday</th>\n",
       "      <th>gender</th>\n",
       "      <th>type</th>\n",
       "      <th>state</th>\n",
       "      <th>party</th>\n",
       "    </tr>\n",
       "  </thead>\n",
       "  <tbody>\n",
       "    <tr>\n",
       "      <th>0</th>\n",
       "      <td>Bassett</td>\n",
       "      <td>Richard</td>\n",
       "      <td>1745-04-02</td>\n",
       "      <td>M</td>\n",
       "      <td>sen</td>\n",
       "      <td>DE</td>\n",
       "      <td>Anti-Administration</td>\n",
       "    </tr>\n",
       "    <tr>\n",
       "      <th>1</th>\n",
       "      <td>Bland</td>\n",
       "      <td>Theodorick</td>\n",
       "      <td>1742-03-21</td>\n",
       "      <td></td>\n",
       "      <td>rep</td>\n",
       "      <td>VA</td>\n",
       "      <td></td>\n",
       "    </tr>\n",
       "    <tr>\n",
       "      <th>2</th>\n",
       "      <td>Burke</td>\n",
       "      <td>Aedanus</td>\n",
       "      <td>1743-06-16</td>\n",
       "      <td></td>\n",
       "      <td>rep</td>\n",
       "      <td>SC</td>\n",
       "      <td></td>\n",
       "    </tr>\n",
       "    <tr>\n",
       "      <th>3</th>\n",
       "      <td>Carroll</td>\n",
       "      <td>Daniel</td>\n",
       "      <td>1730-07-22</td>\n",
       "      <td>M</td>\n",
       "      <td>rep</td>\n",
       "      <td>MD</td>\n",
       "      <td></td>\n",
       "    </tr>\n",
       "    <tr>\n",
       "      <th>4</th>\n",
       "      <td>Clymer</td>\n",
       "      <td>George</td>\n",
       "      <td>1739-03-16</td>\n",
       "      <td>M</td>\n",
       "      <td>rep</td>\n",
       "      <td>PA</td>\n",
       "      <td></td>\n",
       "    </tr>\n",
       "  </tbody>\n",
       "</table>\n",
       "</div>"
      ],
      "text/plain": [
       "  last_name  first_name    birthday gender type state                party\n",
       "0   Bassett     Richard  1745-04-02      M  sen    DE  Anti-Administration\n",
       "1     Bland  Theodorick  1742-03-21         rep    VA                     \n",
       "2     Burke     Aedanus  1743-06-16         rep    SC                     \n",
       "3   Carroll      Daniel  1730-07-22      M  rep    MD                     \n",
       "4    Clymer      George  1739-03-16      M  rep    PA                     "
      ]
     },
     "execution_count": 50,
     "metadata": {},
     "output_type": "execute_result"
    }
   ],
   "source": [
    "legislators_df = pd.DataFrame(legislators[1:], columns=legislators[0])\n",
    "legislators_df.head()"
   ]
  },
  {
   "cell_type": "markdown",
   "metadata": {},
   "source": [
    "### Reading in another file data"
   ]
  },
  {
   "cell_type": "markdown",
   "metadata": {},
   "source": [
    "The data set contains excerpts from CIA memos that detail covert activities. It includes the year the statement was made, then an excerpt from the memo. The file, sentences_cia.csv, is in CSV format. "
   ]
  },
  {
   "cell_type": "code",
   "execution_count": 51,
   "metadata": {},
   "outputs": [],
   "source": [
    "f = open(\"sentences_cia.csv\", 'r', encoding=\"utf-8\")\n",
    "csvreader = csv.reader(f)\n",
    "sentences_cia = list(csvreader)"
   ]
  },
  {
   "cell_type": "code",
   "execution_count": 52,
   "metadata": {},
   "outputs": [
    {
     "data": {
      "text/plain": [
       "'1997'"
      ]
     },
     "execution_count": 52,
     "metadata": {},
     "output_type": "execute_result"
    }
   ],
   "source": [
    "sentences_cia[1][0]"
   ]
  },
  {
   "cell_type": "code",
   "execution_count": 53,
   "metadata": {},
   "outputs": [
    {
     "data": {
      "text/plain": [
       "'The FBI information included that al-Mairi\\'s brother \"traveled to Afghanistan in 1997-1998 to train in Bin - Ladencamps.\"'"
      ]
     },
     "execution_count": 53,
     "metadata": {},
     "output_type": "execute_result"
    }
   ],
   "source": [
    "sentences_cia[1][1]"
   ]
  },
  {
   "cell_type": "code",
   "execution_count": 54,
   "metadata": {},
   "outputs": [
    {
     "data": {
      "text/plain": [
       "'\\'^^^ Prior to Abu Zubaydah\\'s capture, the CIA considered Hassan Ghul a \"First Priority Raid Target,\" based on reporting that: 97470(281317ZMAR02)(\"InNovember1998, [Muhammad] Atta, [Ramzi] Binalshibh, and [Said] Bahaji moved into the 54 Marienstrasse apartment in Hamburg that became the hub of the Hamburg cell.\").'"
      ]
     },
     "execution_count": 54,
     "metadata": {},
     "output_type": "execute_result"
    }
   ],
   "source": [
    "sentences_cia[9][1]"
   ]
  },
  {
   "cell_type": "code",
   "execution_count": 55,
   "metadata": {},
   "outputs": [],
   "source": [
    "# Converting sentences_cia to a dataframe\n",
    "\n",
    "sentences_cia = pd.DataFrame(sentences_cia[1:], columns=sentences_cia[0])"
   ]
  },
  {
   "cell_type": "code",
   "execution_count": 56,
   "metadata": {},
   "outputs": [
    {
     "data": {
      "text/html": [
       "<div>\n",
       "<style scoped>\n",
       "    .dataframe tbody tr th:only-of-type {\n",
       "        vertical-align: middle;\n",
       "    }\n",
       "\n",
       "    .dataframe tbody tr th {\n",
       "        vertical-align: top;\n",
       "    }\n",
       "\n",
       "    .dataframe thead th {\n",
       "        text-align: right;\n",
       "    }\n",
       "</style>\n",
       "<table border=\"1\" class=\"dataframe\">\n",
       "  <thead>\n",
       "    <tr style=\"text-align: right;\">\n",
       "      <th></th>\n",
       "      <th>year</th>\n",
       "      <th>statement</th>\n",
       "      <th></th>\n",
       "      <th></th>\n",
       "      <th></th>\n",
       "    </tr>\n",
       "  </thead>\n",
       "  <tbody>\n",
       "    <tr>\n",
       "      <th>0</th>\n",
       "      <td>1997</td>\n",
       "      <td>The FBI information included that al-Mairi's b...</td>\n",
       "      <td></td>\n",
       "      <td></td>\n",
       "      <td></td>\n",
       "    </tr>\n",
       "    <tr>\n",
       "      <th>1</th>\n",
       "      <td>1997</td>\n",
       "      <td>The FBI information included that al-Mairi's b...</td>\n",
       "      <td></td>\n",
       "      <td></td>\n",
       "      <td></td>\n",
       "    </tr>\n",
       "    <tr>\n",
       "      <th>2</th>\n",
       "      <td>1997</td>\n",
       "      <td>For example, on October 12, 2004, another CIA ...</td>\n",
       "      <td></td>\n",
       "      <td></td>\n",
       "      <td></td>\n",
       "    </tr>\n",
       "    <tr>\n",
       "      <th>3</th>\n",
       "      <td>1997</td>\n",
       "      <td>On October 16, 2001, an email from a CTC offic...</td>\n",
       "      <td></td>\n",
       "      <td></td>\n",
       "      <td></td>\n",
       "    </tr>\n",
       "    <tr>\n",
       "      <th>4</th>\n",
       "      <td>1997</td>\n",
       "      <td>For example, on October 12, 2004, another CIA ...</td>\n",
       "      <td></td>\n",
       "      <td></td>\n",
       "      <td></td>\n",
       "    </tr>\n",
       "  </tbody>\n",
       "</table>\n",
       "</div>"
      ],
      "text/plain": [
       "   year                                          statement      \n",
       "0  1997  The FBI information included that al-Mairi's b...      \n",
       "1  1997  The FBI information included that al-Mairi's b...      \n",
       "2  1997  For example, on October 12, 2004, another CIA ...      \n",
       "3  1997  On October 16, 2001, an email from a CTC offic...      \n",
       "4  1997  For example, on October 12, 2004, another CIA ...      "
      ]
     },
     "execution_count": 56,
     "metadata": {},
     "output_type": "execute_result"
    }
   ],
   "source": [
    "sentences_cia.head()"
   ]
  },
  {
   "cell_type": "markdown",
   "metadata": {},
   "source": [
    "#### Clean up sentences"
   ]
  },
  {
   "cell_type": "code",
   "execution_count": 57,
   "metadata": {},
   "outputs": [],
   "source": [
    "# The integer codes for all the characters we want to keep\n",
    "\n",
    "good_characters = [48, 49, 50, 51, 52, 53, 54, 55, 56, 57, 65, 66, 67, 68, 69, 70, 71, 72, 73, 74, 75, 76, 77, 78, 79, 80, 81, 82, 83, 84, 85, 86, 87, 88, 89, 90, 97, 98, 99, 100, 101, 102, 103, 104, 105, 106, 107, 108, 109, 110, 111, 112, 113, 114, 115, 116, 117, 118, 119, 120, 121, 122, 32]"
   ]
  },
  {
   "cell_type": "code",
   "execution_count": 58,
   "metadata": {},
   "outputs": [
    {
     "data": {
      "text/plain": [
       "'\"^^\\'\\'^ There was also CIA reporting in 1998 that KSM was \"very close\" to On June 12, 2001, it was reported that \"Khaled\" was actively recruiting people to travel outside Afghanistan, including to the United States where colleagues were reportedly already in the country to meet them, to carry out terrorist-related activities for UBL.'"
      ]
     },
     "execution_count": 58,
     "metadata": {},
     "output_type": "execute_result"
    }
   ],
   "source": [
    "sentence_15 = sentences_cia[\"statement\"][14]\n",
    "sentence_15"
   ]
  },
  {
   "cell_type": "code",
   "execution_count": 60,
   "metadata": {},
   "outputs": [
    {
     "data": {
      "text/plain": [
       "[' ', 'T', 'h', 'e', 'r', 'e', ' ', 'w', 'a', 's']"
      ]
     },
     "execution_count": 60,
     "metadata": {},
     "output_type": "execute_result"
    }
   ],
   "source": [
    "cleaned_sentence_15_list = [s for s in sentence_15 if ord(s) in good_characters]\n",
    "cleaned_sentence_15_list[:10]"
   ]
  },
  {
   "cell_type": "code",
   "execution_count": 61,
   "metadata": {},
   "outputs": [
    {
     "data": {
      "text/plain": [
       "' There was also CIA reporting in 1998 that KSM was very close to On June 12 2001 it was reported that Khaled was actively recruiting people to travel outside Afghanistan including to the United States where colleagues were reportedly already in the country to meet them to carry out terroristrelated activities for UBL'"
      ]
     },
     "execution_count": 61,
     "metadata": {},
     "output_type": "execute_result"
    }
   ],
   "source": [
    "cleaned_sentence_15 = \"\".join(cleaned_sentence_15_list)\n",
    "cleaned_sentence_15"
   ]
  },
  {
   "cell_type": "code",
   "execution_count": 62,
   "metadata": {},
   "outputs": [],
   "source": [
    "def clean_statement(row):\n",
    "    good_characters = [48, 49, 50, 51, 52, 53, 54, 55, 56, 57, 65, 66, 67, 68, 69, 70, 71, 72, 73, 74, 75, 76, 77, 78, 79, 80, 81, 82, 83, 84, 85, 86, 87, 88, 89, 90, 97, 98, 99, 100, 101, 102, 103, 104, 105, 106, 107, 108, 109, 110, 111, 112, 113, 114, 115, 116, 117, 118, 119, 120, 121, 122, 32]\n",
    "    s = row[\"statement\"]\n",
    "    clean = [st for st in s if ord(st) in good_characters]\n",
    "    return \"\".join(clean)"
   ]
  },
  {
   "cell_type": "code",
   "execution_count": 63,
   "metadata": {},
   "outputs": [
    {
     "data": {
      "text/plain": [
       "0    The FBI information included that alMairis bro...\n",
       "1    The FBI information included that alMairis bro...\n",
       "2    For example on October 12 2004 another CIA det...\n",
       "3    On October 16 2001 an email from a CTC officer...\n",
       "4    For example on October 12 2004 another CIA det...\n",
       "Name: cleaned_statement, dtype: object"
      ]
     },
     "execution_count": 63,
     "metadata": {},
     "output_type": "execute_result"
    }
   ],
   "source": [
    "sentences_cia[\"cleaned_statement\"] = sentences_cia.apply(clean_statement, axis=1)\n",
    "sentences_cia[\"cleaned_statement\"].head()"
   ]
  },
  {
   "cell_type": "code",
   "execution_count": 64,
   "metadata": {},
   "outputs": [
    {
     "data": {
      "text/html": [
       "<div>\n",
       "<style scoped>\n",
       "    .dataframe tbody tr th:only-of-type {\n",
       "        vertical-align: middle;\n",
       "    }\n",
       "\n",
       "    .dataframe tbody tr th {\n",
       "        vertical-align: top;\n",
       "    }\n",
       "\n",
       "    .dataframe thead th {\n",
       "        text-align: right;\n",
       "    }\n",
       "</style>\n",
       "<table border=\"1\" class=\"dataframe\">\n",
       "  <thead>\n",
       "    <tr style=\"text-align: right;\">\n",
       "      <th></th>\n",
       "      <th>year</th>\n",
       "      <th>statement</th>\n",
       "      <th></th>\n",
       "      <th></th>\n",
       "      <th></th>\n",
       "      <th>cleaned_statement</th>\n",
       "    </tr>\n",
       "  </thead>\n",
       "  <tbody>\n",
       "    <tr>\n",
       "      <th>0</th>\n",
       "      <td>1997</td>\n",
       "      <td>The FBI information included that al-Mairi's b...</td>\n",
       "      <td></td>\n",
       "      <td></td>\n",
       "      <td></td>\n",
       "      <td>The FBI information included that alMairis bro...</td>\n",
       "    </tr>\n",
       "    <tr>\n",
       "      <th>1</th>\n",
       "      <td>1997</td>\n",
       "      <td>The FBI information included that al-Mairi's b...</td>\n",
       "      <td></td>\n",
       "      <td></td>\n",
       "      <td></td>\n",
       "      <td>The FBI information included that alMairis bro...</td>\n",
       "    </tr>\n",
       "    <tr>\n",
       "      <th>2</th>\n",
       "      <td>1997</td>\n",
       "      <td>For example, on October 12, 2004, another CIA ...</td>\n",
       "      <td></td>\n",
       "      <td></td>\n",
       "      <td></td>\n",
       "      <td>For example on October 12 2004 another CIA det...</td>\n",
       "    </tr>\n",
       "    <tr>\n",
       "      <th>3</th>\n",
       "      <td>1997</td>\n",
       "      <td>On October 16, 2001, an email from a CTC offic...</td>\n",
       "      <td></td>\n",
       "      <td></td>\n",
       "      <td></td>\n",
       "      <td>On October 16 2001 an email from a CTC officer...</td>\n",
       "    </tr>\n",
       "    <tr>\n",
       "      <th>4</th>\n",
       "      <td>1997</td>\n",
       "      <td>For example, on October 12, 2004, another CIA ...</td>\n",
       "      <td></td>\n",
       "      <td></td>\n",
       "      <td></td>\n",
       "      <td>For example on October 12 2004 another CIA det...</td>\n",
       "    </tr>\n",
       "  </tbody>\n",
       "</table>\n",
       "</div>"
      ],
      "text/plain": [
       "   year                                          statement        \\\n",
       "0  1997  The FBI information included that al-Mairi's b...         \n",
       "1  1997  The FBI information included that al-Mairi's b...         \n",
       "2  1997  For example, on October 12, 2004, another CIA ...         \n",
       "3  1997  On October 16, 2001, an email from a CTC offic...         \n",
       "4  1997  For example, on October 12, 2004, another CIA ...         \n",
       "\n",
       "                                   cleaned_statement  \n",
       "0  The FBI information included that alMairis bro...  \n",
       "1  The FBI information included that alMairis bro...  \n",
       "2  For example on October 12 2004 another CIA det...  \n",
       "3  On October 16 2001 an email from a CTC officer...  \n",
       "4  For example on October 12 2004 another CIA det...  "
      ]
     },
     "execution_count": 64,
     "metadata": {},
     "output_type": "execute_result"
    }
   ],
   "source": [
    "sentences_cia.head()"
   ]
  },
  {
   "cell_type": "markdown",
   "metadata": {},
   "source": [
    "#### Converting statements to tokens"
   ]
  },
  {
   "cell_type": "code",
   "execution_count": 66,
   "metadata": {},
   "outputs": [
    {
     "data": {
      "text/plain": [
       "['The',\n",
       " 'FBI',\n",
       " 'information',\n",
       " 'included',\n",
       " 'that',\n",
       " 'alMairis',\n",
       " 'brother',\n",
       " 'traveled',\n",
       " 'to',\n",
       " 'Afghanistan']"
      ]
     },
     "execution_count": 66,
     "metadata": {},
     "output_type": "execute_result"
    }
   ],
   "source": [
    "combined_statements = \" \".join(sentences_cia[\"cleaned_statement\"])\n",
    "\n",
    "statement_tokens = combined_statements.split(\" \")\n",
    "statement_tokens[:10]"
   ]
  },
  {
   "cell_type": "markdown",
   "metadata": {},
   "source": [
    "#### Filtering the tokens"
   ]
  },
  {
   "cell_type": "code",
   "execution_count": 67,
   "metadata": {},
   "outputs": [
    {
     "data": {
      "text/plain": [
       "['information',\n",
       " 'included',\n",
       " 'alMairis',\n",
       " 'brother',\n",
       " 'traveled',\n",
       " 'Afghanistan',\n",
       " '19971998',\n",
       " 'train',\n",
       " 'Ladencamps',\n",
       " 'information']"
      ]
     },
     "execution_count": 67,
     "metadata": {},
     "output_type": "execute_result"
    }
   ],
   "source": [
    "filtered_tokens = [s for s in statement_tokens if len(s)>=5]\n",
    "filtered_tokens[:10]"
   ]
  },
  {
   "cell_type": "markdown",
   "metadata": {},
   "source": [
    "#### Counting the tokens"
   ]
  },
  {
   "cell_type": "code",
   "execution_count": 70,
   "metadata": {},
   "outputs": [
    {
     "data": {
      "text/plain": [
       "Counter({'information': 375,\n",
       "         'included': 49,\n",
       "         'alMairis': 4,\n",
       "         'brother': 9,\n",
       "         'traveled': 25,\n",
       "         'Afghanistan': 39,\n",
       "         '19971998': 4,\n",
       "         'train': 6,\n",
       "         'Ladencamps': 4,\n",
       "         'example': 41,\n",
       "         'October': 138,\n",
       "         'another': 22,\n",
       "         'detainee': 128,\n",
       "         'explained': 6,\n",
       "         'alKuwaiti': 177,\n",
       "         'guesthouse': 2,\n",
       "         'operated': 4,\n",
       "         'Shaykh': 27,\n",
       "         'alLibi': 6,\n",
       "         'Zubaydah': 328,\n",
       "         'email': 104,\n",
       "         'officer': 39,\n",
       "         'tracking': 5,\n",
       "         'since': 26,\n",
       "         'stated': 96,\n",
       "         'although': 13,\n",
       "         'proof': 4,\n",
       "         'needed': 9,\n",
       "         'believe': 24,\n",
       "         'mastermind': 14,\n",
       "         'behind': 7,\n",
       "         'attacks': 66,\n",
       "         'Interrogators': 13,\n",
       "         'Disagree': 3,\n",
       "         'Headquarters': 72,\n",
       "         'About': 13,\n",
       "         'AlNashiris': 3,\n",
       "         'Level': 4,\n",
       "         'Cooperation': 3,\n",
       "         'Oppose': 3,\n",
       "         'Continued': 3,\n",
       "         'Enhanced': 33,\n",
       "         'Interrogation': 207,\n",
       "         'Techniques': 49,\n",
       "         'alRahim': 17,\n",
       "         'alNashiri': 26,\n",
       "         'assessed': 22,\n",
       "         'Qaida': 8,\n",
       "         'terrorist': 84,\n",
       "         'operations': 30,\n",
       "         'planner': 3,\n",
       "         'intimately': 3,\n",
       "         'involved': 39,\n",
       "         'planning': 24,\n",
       "         'bombing': 5,\n",
       "         'Africa': 3,\n",
       "         'Embassy': 4,\n",
       "         'bombings': 6,\n",
       "         'captured': 39,\n",
       "         'United': 101,\n",
       "         'ArabEmiratesinmidOctober2002': 3,\n",
       "         'Heprovidedinformationwhileinthecustodyofa': 3,\n",
       "         'foreign': 99,\n",
       "         'government': 101,\n",
       "         'including': 90,\n",
       "         'plotting': 29,\n",
       "         'Persian': 3,\n",
       "         'rendered': 27,\n",
       "         'which': 131,\n",
       "         'expressed': 11,\n",
       "         'concern': 6,\n",
       "         'SWIGERT': 12,\n",
       "         'DUNBAR': 22,\n",
       "         'would': 87,\n",
       "         'interfere': 3,\n",
       "         'onsite': 6,\n",
       "         'psychologists': 5,\n",
       "         'these': 55,\n",
       "         'their': 53,\n",
       "         'there': 53,\n",
       "         'should': 16,\n",
       "         'effort': 13,\n",
       "         'define': 3,\n",
       "         'roles': 4,\n",
       "         'responsibilitieeforharrogancniarcisivolvntounpro': 3,\n",
       "         'contlic': 3,\n",
       "         'field': 7,\n",
       "         'There': 6,\n",
       "         'reporting': 209,\n",
       "         'close': 27,\n",
       "         'reported': 29,\n",
       "         'Khaled': 5,\n",
       "         'actively': 7,\n",
       "         'recruiting': 8,\n",
       "         'people': 10,\n",
       "         'travel': 14,\n",
       "         'outside': 9,\n",
       "         'States': 55,\n",
       "         'where': 14,\n",
       "         'colleagues': 7,\n",
       "         'reportedly': 8,\n",
       "         'already': 32,\n",
       "         'country': 5,\n",
       "         'carry': 4,\n",
       "         'terroristrelated': 4,\n",
       "         'activities': 36,\n",
       "         'Prior': 15,\n",
       "         'Zubaydahs': 66,\n",
       "         'capture': 66,\n",
       "         'considered': 5,\n",
       "         'Hassan': 76,\n",
       "         'First': 9,\n",
       "         'Priority': 1,\n",
       "         'Target': 9,\n",
       "         'based': 30,\n",
       "         '97470281317ZMAR02InNovember1998': 1,\n",
       "         'Muhammad': 36,\n",
       "         'Ramzi': 50,\n",
       "         'Binalshibh': 1,\n",
       "         'Bahaji': 1,\n",
       "         'moved': 4,\n",
       "         'Marienstrasse': 1,\n",
       "         'apartment': 11,\n",
       "         'Hamburg': 3,\n",
       "         'became': 19,\n",
       "         '0213I9ZQCT04HEADQUARTERSlHm40023ZNOV05': 2,\n",
       "         '171225Z': 4,\n",
       "         '140915Z': 2,\n",
       "         '06I620Z': 2,\n",
       "         '22071113I9Z': 2,\n",
       "         '05IHl2210a7Z': 2,\n",
       "         'APR05H2535': 2,\n",
       "         '051805Z': 4,\n",
       "         'JUL05': 2,\n",
       "         '120857ZJUL05n2830': 2,\n",
       "         '29I304Z': 2,\n",
       "         '040rB89300831Z': 2,\n",
       "         'document': 77,\n",
       "         'entitled': 80,\n",
       "         'Detainee': 72,\n",
       "         'Talking': 6,\n",
       "         'Points': 4,\n",
       "         'Rebuttal': 2,\n",
       "         'April2007TBIB2210141507Z': 2,\n",
       "         '25051805Z': 2,\n",
       "         '141507Z': 4,\n",
       "         'APR05rHB225': 2,\n",
       "         '291304Z': 2,\n",
       "         '061620Z': 2,\n",
       "         '2210141507Z': 2,\n",
       "         '081609Z': 2,\n",
       "         'SEP04': 3,\n",
       "         '151735Z': 2,\n",
       "         '282019Z': 2,\n",
       "         '291750Z': 4,\n",
       "         '17I6180742Z': 2,\n",
       "         '051805ZJUL05': 2,\n",
       "         '1716180742Z': 2,\n",
       "         '301946Z': 2,\n",
       "         '041358Z': 2,\n",
       "         '301235Z': 2,\n",
       "         '29i304Z': 2,\n",
       "         '020752Z': 2,\n",
       "         '111600Z': 2,\n",
       "         'AUG04': 2,\n",
       "         '111700Z': 2,\n",
       "         '211558ZJAN05BPHIHi': 2,\n",
       "         '031835Z': 2,\n",
       "         '052309Z': 2,\n",
       "         'Reportingfrom1998indicatedthatSheikhKhalidKSM': 1,\n",
       "         'along': 5,\n",
       "         'switched': 1,\n",
       "         'allegiance': 1,\n",
       "         'Ladin': 61,\n",
       "         'organization': 4,\n",
       "         'lHm09': 1,\n",
       "         '022030ZJUN03': 1,\n",
       "         'ALECB': 1,\n",
       "         '052206ZJUN': 1,\n",
       "         'REDACTED': 375,\n",
       "         '94931': 1,\n",
       "         'individual': 32,\n",
       "         'IssaprovidedMoazz': 1,\n",
       "         'vyith': 1,\n",
       "         'telephone': 8,\n",
       "         'numbers': 3,\n",
       "         'lawyer': 1,\n",
       "         'known': 31,\n",
       "         'Sulyman': 4,\n",
       "         'Dhiren': 8,\n",
       "         'Barot': 8,\n",
       "         'other': 84,\n",
       "         'anested': 6,\n",
       "         'August': 307,\n",
       "         'found': 45,\n",
       "         'especially': 4,\n",
       "         'wellknown': 32,\n",
       "         'among': 24,\n",
       "         'extremist': 13,\n",
       "         'community': 4,\n",
       "         'having': 14,\n",
       "         'written': 14,\n",
       "         'popular': 4,\n",
       "         'expounding': 4,\n",
       "         'virtues': 4,\n",
       "         'jihad': 6,\n",
       "         'Kashmir': 8,\n",
       "         'under': 35,\n",
       "         'alias': 8,\n",
       "         'alHindi': 11,\n",
       "         'Intelligence': 188,\n",
       "         'Community': 26,\n",
       "         'review': 45,\n",
       "         'Buildings': 5,\n",
       "         'records': 117,\n",
       "         'references': 7,\n",
       "         'Russia': 3,\n",
       "         'September': 299,\n",
       "         'against': 62,\n",
       "         'buildings': 4,\n",
       "         'using': 47,\n",
       "         'traditionsd': 1,\n",
       "         'explosives': 18,\n",
       "         'VBIEDs': 3,\n",
       "         'Accordingtoopensourcesthe1999bookadvocatedworldwidejihadinordertobringnationsto': 1,\n",
       "         'SSIFIED': 37,\n",
       "         'InformationconcerningaboowritteiyDhirenBarot': 1,\n",
       "         'appeared': 5,\n",
       "         'intelligence': 169,\n",
       "         'early': 87,\n",
       "         'December': 189,\n",
       "         'authorities': 52,\n",
       "         'number': 71,\n",
       "         'UKbased': 7,\n",
       "         'extremists': 12,\n",
       "         'investigation': 27,\n",
       "         'Moazzem': 7,\n",
       "         'Ahmed': 22,\n",
       "         'Ressam': 9,\n",
       "         'federal': 4,\n",
       "         'prison': 8,\n",
       "         'arrested': 24,\n",
       "         'border': 1,\n",
       "         'patrol': 1,\n",
       "         'vehicle': 1,\n",
       "         'national': 19,\n",
       "         'named': 29,\n",
       "         'attended': 7,\n",
       "         'training': 72,\n",
       "         'associated': 32,\n",
       "         'alQaida': 126,\n",
       "         'attorney': 26,\n",
       "         'described': 74,\n",
       "         'striking': 3,\n",
       "         'similarities': 4,\n",
       "         'between': 53,\n",
       "         'public': 17,\n",
       "         'debate': 3,\n",
       "         'surrounding': 2,\n",
       "         'McCain': 10,\n",
       "         'amendment': 2,\n",
       "         'situation': 5,\n",
       "         'Israel': 2,\n",
       "         'Israeli': 8,\n",
       "         'Supreme': 2,\n",
       "         'Court': 8,\n",
       "         'ruled': 3,\n",
       "         'several': 41,\n",
       "         'techniques': 322,\n",
       "         'possibly': 12,\n",
       "         'permissible': 4,\n",
       "         'require': 4,\n",
       "         'legislative': 2,\n",
       "         'sanction': 3,\n",
       "         'INTERROGATION': 2,\n",
       "         'PROGRAM': 2,\n",
       "         'DRAFT': 5,\n",
       "         'PRESS': 2,\n",
       "         'BRIEFING': 2,\n",
       "         'April': 175,\n",
       "         'Rizzo': 57,\n",
       "         'ProgramGoing': 2,\n",
       "         'Public': 7,\n",
       "         'Draft': 10,\n",
       "         'PointsCommentsDuetoBiTie': 2,\n",
       "         'TODAY': 2,\n",
       "         'Thanks': 2,\n",
       "         '51010': 2,\n",
       "         'CIJ62213Z': 1,\n",
       "         'cable': 72,\n",
       "         'referencing': 8,\n",
       "         'collected': 26,\n",
       "         '49612': 1,\n",
       "         '281213Z': 1,\n",
       "         'JUL03': 1,\n",
       "         'REDACTED72330': 1,\n",
       "         'tablediscusseshistoricalreporting': 1,\n",
       "         'assessments': 6,\n",
       "         'called': 8,\n",
       "         'question': 3,\n",
       "         'loosely': 1,\n",
       "         'conducted': 24,\n",
       "         'Moscow': 1,\n",
       "         'conventional': 1,\n",
       "         'traditional': 2,\n",
       "         'jaarly': 1,\n",
       "         'alGhuraba': 2,\n",
       "         'student': 1,\n",
       "         'group': 11,\n",
       "         'established': 13,\n",
       "         'Jemaah': 8,\n",
       "         'Islamiyah': 8,\n",
       "         'leaders': 11,\n",
       "         'primarily': 7,\n",
       "         'educate': 1,\n",
       "         'jailed': 1,\n",
       "         'groom': 1,\n",
       "         'studentsforpotentialleadershipandoperationalrolesinJI': 1,\n",
       "         'include': 39,\n",
       "         'reference': 11,\n",
       "         'description': 25,\n",
       "         'author': 3,\n",
       "         'England': 1,\n",
       "         'Hindu': 1,\n",
       "         'MuslimwhooUraininihanistaiails': 1,\n",
       "         'disseminated': 66,\n",
       "         '123199': 1,\n",
       "         'pailner': 1,\n",
       "         'later': 64,\n",
       "         'report': 31,\n",
       "         'tliat': 40,\n",
       "         'frequently': 17,\n",
       "         'involvement': 8,\n",
       "         'Jihad': 1,\n",
       "         'occupied': 2,\n",
       "         'Pakistan': 50,\n",
       "         'Malaysia': 1,\n",
       "         'tliroughout': 1,\n",
       "         '1990s': 1,\n",
       "         'OnMarch': 5,\n",
       "         '2001theFBI': 4,\n",
       "         'openedaninternationalterrorisminvestigationtargetinglymanFaris': 4,\n",
       "         'AccordingtoCIA': 4,\n",
       "         'predication': 4,\n",
       "         'Faris': 14,\n",
       "         'provided': 241,\n",
       "         'revealed': 15,\n",
       "         'Islamic': 8,\n",
       "         'operating': 5,\n",
       "         'France': 7,\n",
       "         'Belgium': 8,\n",
       "         'Turkey': 4,\n",
       "         'Canada': 4,\n",
       "         'millennium': 4,\n",
       "         'bomber': 6,\n",
       "         'Ahmad': 229,\n",
       "         'currently': 4,\n",
       "         'serving': 4,\n",
       "         '65year': 4,\n",
       "         'route': 4,\n",
       "         'Angeles': 5,\n",
       "         'International': 12,\n",
       "         'Airport': 9,\n",
       "         'trunk': 4,\n",
       "         'tiaditional': 1,\n",
       "         'According': 28,\n",
       "         'reports': 17,\n",
       "         'stayed': 1,\n",
       "         'Maktabah': 2,\n",
       "         'alAnsar': 1,\n",
       "         'bookstore': 4,\n",
       "         'Birmingham': 1,\n",
       "         'contact': 25,\n",
       "         'extremistsAccording': 1,\n",
       "         'operatives': 31,\n",
       "         'AlMuhajirs': 1,\n",
       "         'formdated': 1,\n",
       "         '2000listed': 1,\n",
       "         'identifying': 16,\n",
       "         '101870': 1,\n",
       "         'birth': 8,\n",
       "         'language': 9,\n",
       "         'skills': 1,\n",
       "         'English': 3,\n",
       "         'Spanish': 1,\n",
       "         'Arabic': 2,\n",
       "         'travels': 1,\n",
       "         'Egypt': 1,\n",
       "         'Saudi': 3,\n",
       "         'Arabia': 3,\n",
       "         'individuals': 38,\n",
       "         'marital': 1,\n",
       "         'status': 16,\n",
       "         'Padilla': 93,\n",
       "         'codefendants': 6,\n",
       "         'Adham': 6,\n",
       "         'Hassoun': 6,\n",
       "         'Kifah': 6,\n",
       "         'Jayyousi': 6,\n",
       "         'guilty': 6,\n",
       "         'three': 33,\n",
       "         'criminal': 21,\n",
       "         'offenses': 7,\n",
       "         'relating': 17,\n",
       "         'support': 34,\n",
       "         'November': 127,\n",
       "         'centered': 6,\n",
       "         'attendance': 6,\n",
       "         '2000specifically': 6,\n",
       "         'application': 13,\n",
       "         'acquired': 59,\n",
       "         'providedtotheFBIinDecember2001': 6,\n",
       "         'least': 42,\n",
       "         'occasion': 2,\n",
       "         'Maosooan': 2,\n",
       "         'Karachi': 24,\n",
       "         'approximatelyl999or2000his': 2,\n",
       "         'alsosentonMarch182003inALECHH180200ZMAR03': 2,\n",
       "         'raided': 5,\n",
       "         'Beggs': 3,\n",
       "         'invoice': 1,\n",
       "         'copies': 1,\n",
       "         'Madina': 1,\n",
       "         'product': 6,\n",
       "         'AlQaida': 15,\n",
       "         'Watch': 7,\n",
       "         'title': 7,\n",
       "         'Probable': 6,\n",
       "         'Identification': 26,\n",
       "         'Suspected': 7,\n",
       "         'Facilitator': 39,\n",
       "         'details': 26,\n",
       "         'debriefings': 10,\n",
       "         'claimed': 21,\n",
       "         'Kuwait': 6,\n",
       "         'Kuwaiti': 22,\n",
       "         'breakthrough': 6,\n",
       "         'leading': 6,\n",
       "         'likely': 24,\n",
       "         'identification': 12,\n",
       "         'Habib': 14,\n",
       "         'alRahman': 9,\n",
       "         'SeealsoopensourcereportingonUKraids': 1,\n",
       "         'subsequentraids': 1,\n",
       "         'referenced': 18,\n",
       "         'House': 40,\n",
       "         'Permanent': 16,\n",
       "         'Select': 102,\n",
       "         'Committee': 327,\n",
       "         'Senate': 109,\n",
       "         'investigations': 11,\n",
       "         'Twelfth': 2,\n",
       "         'Hearing': 2,\n",
       "         'National': 32,\n",
       "         'Commission': 10,\n",
       "         'Terrorist': 29,\n",
       "         'Attacks': 36,\n",
       "         'Zacarias': 4,\n",
       "         'Moussaoui': 7,\n",
       "         '162001': 1,\n",
       "         'Faruq': 4,\n",
       "         'alTunisi': 3,\n",
       "         'remains': 3,\n",
       "         '151618Z': 1,\n",
       "         'Although': 5,\n",
       "         'operation': 55,\n",
       "         'disrupted': 9,\n",
       "         'arrest': 20,\n",
       "         'Arshad': 25,\n",
       "         'officers': 61,\n",
       "         'halted': 1,\n",
       "         'prior': 145,\n",
       "         'detention': 129,\n",
       "         'specifically': 13,\n",
       "         'Richard': 48,\n",
       "         'Reids': 3,\n",
       "         'shoebomb': 6,\n",
       "         'explosive': 7,\n",
       "         'concealment': 1,\n",
       "         'method': 1,\n",
       "         'uncovered': 2,\n",
       "         'Hambaliwho': 1,\n",
       "         'Malaysiansstated': 1,\n",
       "         'cancelled': 1,\n",
       "         'surmised': 2,\n",
       "         'might': 10,\n",
       "         'because': 23,\n",
       "         'becauseZainiZakariagotcoldfeet': 1,\n",
       "         'During': 13,\n",
       "         'interrogation': 391,\n",
       "         'debriefer': 2,\n",
       "         'suggesting': 7,\n",
       "         'Zakaria': 8,\n",
       "         'funded': 2,\n",
       "         'flight': 5,\n",
       "         'lessons': 2,\n",
       "         'Backgrounder': 4,\n",
       "         'Chronology': 4,\n",
       "         'Approvals': 5,\n",
       "         '20012003': 8,\n",
       "         'noting': 21,\n",
       "         'documentation': 4,\n",
       "         'discussions': 11,\n",
       "         'Presidential': 15,\n",
       "         'briefers': 4,\n",
       "         'program': 50,\n",
       "         'suggest': 6,\n",
       "         'enhanced': 241,\n",
       "         'shared': 7,\n",
       "         'President': 57,\n",
       "         'timeframe': 4,\n",
       "         'Topic': 4,\n",
       "         'Waterboarding': 5,\n",
       "         'indicates': 10,\n",
       "         'briefed': 26,\n",
       "         'regarding': 84,\n",
       "         'specific': 27,\n",
       "         'until': 49,\n",
       "         'himonthesevenEITsproposedatthattimeforthepostDetaineeTreatmentActCIAinterrogationprogram': 4,\n",
       "         'UnderquestioningHjjjHPerson1': 4,\n",
       "         'Gunawan': 4,\n",
       "         'encouraged': 4,\n",
       "         'Person': 4,\n",
       "         'pursue': 5,\n",
       "         'interest': 11,\n",
       "         'aucraft': 4,\n",
       "         'attempted': 12,\n",
       "         'recruit': 5,\n",
       "         'pilot': 10,\n",
       "         'trainingeMhecablejBPer': 4,\n",
       "         'deflected': 4,\n",
       "         'requests': 6,\n",
       "         'UNCLASSIFIED': 221,\n",
       "         'heawareofwhetherthePresidenthadbeenbriefedbyhisstaff': 2,\n",
       "         'TheMay2004CIA': 2,\n",
       "         'Inspector': 73,\n",
       "         'General': 175,\n",
       "         'Special': 38,\n",
       "         'Review': 46,\n",
       "         'recommendation': 3,\n",
       "         'Brief': 4,\n",
       "         'implementation': 2,\n",
       "         'Agencys': 4,\n",
       "         'intenogation': 33,\n",
       "         'pursuant': 3,\n",
       "         'detainees': 224,\n",
       "         'While': 25,\n",
       "         'indicate': 52,\n",
       "         'provide': 32,\n",
       "         'initial': 20,\n",
       "         'Issas': 4,\n",
       "         'tasking': 2,\n",
       "         'conduct': 20,\n",
       "         'casings': 1,\n",
       "         'address': 23,\n",
       "         'related': 35,\n",
       "         'wasprovidedwithinalargerbodyoffabricatedreportingKSMprovidedonIssa': 1,\n",
       "         'SECRET': 122,\n",
       "         'NOFORN': 105,\n",
       "         'again': 10,\n",
       "         'March': 127,\n",
       "         'tasked': 17,\n",
       "         'collect': 3,\n",
       "         'economic': 2,\n",
       "         'targets': 7,\n",
       "         'Assessment': 16,\n",
       "         'Countering': 8,\n",
       "         'Misconceptions': 8,\n",
       "         'Training': 28,\n",
       "         'Camps': 8,\n",
       "         '19902001': 8,\n",
       "         'Office': 89,\n",
       "         'Countertenorism': 3,\n",
       "         'Detention': 147,\n",
       "         'Inteixogation': 6,\n",
       "         'Activities': 51,\n",
       "         '20037123IG': 24,\n",
       "         '20042710': 12,\n",
       "         'KSMthen': 1,\n",
       "         'statedthathehadtalkedwith': 1,\n",
       "         'aboutcontactingAfricanAmericanMuslimgroupspriorto': 1,\n",
       "         'waterboarded': 8,\n",
       "         'failing': 1,\n",
       "         'recruitment': 2,\n",
       "         'African': 1,\n",
       "         'American': 11,\n",
       "         'Muslims': 6,\n",
       "         'draft': 5,\n",
       "         'memorandum': 58,\n",
       "         'addressed': 15,\n",
       "         'Israeh': 1,\n",
       "         'lyman': 5,\n",
       "         'Paris': 3,\n",
       "         'IntelligenceCommunitypriortotheattacksofSeptember112001': 1,\n",
       "         'Legal': 83,\n",
       "         'Appendix': 8,\n",
       "         'Hostile': 5,\n",
       "         'Interrogations': 20,\n",
       "         'Considerations': 6,\n",
       "         'Officers': 6,\n",
       "         'result': 15,\n",
       "         'interviewed': 8,\n",
       "         'shortlyafterdieattacksofSeptember112001': 1,\n",
       "         'OnNovember': 2,\n",
       "         '2001theFBIclosedits': 1,\n",
       "         'invesrigation': 1,\n",
       "         'unknown': 4,\n",
       "         'reasons': 1,\n",
       "         'iSECRET': 2,\n",
       "         'Further': 8,\n",
       "         'Details': 14,\n",
       "         'Sajid': 38,\n",
       "         'selected': 3,\n",
       "         'alMasri': 8,\n",
       "         'alAdl': 1,\n",
       "         'attack': 32,\n",
       "         'Western': 1,\n",
       "         'airliner': 7,\n",
       "         'withRichardReidusingashoebombexplosivedeviceinDecember2001': 1,\n",
       "         'SajidBadat': 1,\n",
       "         'returned': 6,\n",
       "         'Kingdom': 30,\n",
       "         'message': 2,\n",
       "         'handler': 1,\n",
       "         'Ammar': 31,\n",
       "         'alBaluchi': 11,\n",
       "         'stating': 33,\n",
       "         'withdrawing': 1,\n",
       "         'Kingdombased': 1,\n",
       "         'associates': 18,\n",
       "         'Badat': 53,\n",
       "         'common': 3,\n",
       "         'aliases': 1,\n",
       "         'alBritani': 3,\n",
       "         'Britain': 2,\n",
       "         'andor': 3,\n",
       "         'alPakistanl': 1,\n",
       "         'prepared': 14,\n",
       "         'president': 11,\n",
       "         'highlighted': 12,\n",
       "         'waterboard': 18,\n",
       "         'technique': 12,\n",
       "         'enabling': 1,\n",
       "         'learn': 3,\n",
       "         'operative': 25,\n",
       "         'slated': 9,\n",
       "         'launch': 12,\n",
       "         'simultaneous': 7,\n",
       "         '50November72001DraftofLegalAppendixHandlingIntenogationSeealsoVolumeI': 1,\n",
       "         'Counterterrorism': 36,\n",
       "         'AccordingtoaCIAoperationalupdateinearlyDecember2001aunilateralCIAsourcereported': 1,\n",
       "         'aknown': 1,\n",
       "         'indicated': 13,\n",
       "         'either': 5,\n",
       "         'British': 3,\n",
       "         'originating': 2,\n",
       "         'FranceGermanyorBritainwiththeuseofexplosivesconcealedinshoes': 1,\n",
       "         'AccordingtoCIArecordsan': 1,\n",
       "         'unclassified': 4,\n",
       "         'notice': 1,\n",
       "         'distnbuted': 1,\n",
       "         'airlines': 1,\n",
       "         'concerning': 20,\n",
       "         'source': 27,\n",
       "         'credited': 5,\n",
       "         'alerted': 6,\n",
       "         'personnel': 51,\n",
       "         'theii': 1,\n",
       "         'reacted': 1,\n",
       "         'swiftly': 1,\n",
       "         'actions': 7,\n",
       "         'aboard': 1,\n",
       "         'Flight': 1,\n",
       "         'states': 176,\n",
       "         'after': 114,\n",
       "         'applying': 1,\n",
       "         'learned': 13,\n",
       "         'proposed': 18,\n",
       "         'partner': 11,\n",
       "         'backed': 7,\n",
       "         'launchashoebombattacksimultaneouslywithRichardReidinDecember2001': 1,\n",
       "         'Conomittee': 2,\n",
       "         'Study': 123,\n",
       "         'documents': 36,\n",
       "         'abuses': 2,\n",
       "         'countless': 2,\n",
       "         'mistakes': 3,\n",
       "         'alPakistanias': 1,\n",
       "         'volume': 2,\n",
       "         'addresses': 6,\n",
       "         'programs': 4,\n",
       "         'authorization': 6,\n",
       "         'official': 16,\n",
       "         'January': 98,\n",
       "         'conditions': 11,\n",
       "         'confinement': 15,\n",
       "         'Briefingfor': 3,\n",
       "         'Obama': 3,\n",
       "         'Security': 29,\n",
       "         'Renditions': 18,\n",
       "         'Detentions': 7,\n",
       "         'Intenogations': 7,\n",
       "         'Briefing': 12,\n",
       "         'Program': 89,\n",
       "         'Leads': 5,\n",
       "         'directly': 9,\n",
       "         'anest': 8,\n",
       "         'SeeCIAInspectorGeneralSpecialReviewCounterteriorismDetention': 3,\n",
       "         'Bolten': 3,\n",
       "         'Rendition': 9,\n",
       "         'Programs': 3,\n",
       "         'dated': 95,\n",
       "         'TalkingPointsfor': 3,\n",
       "         '10March2005DCIMeeting': 3,\n",
       "         'PCEffectiveness': 3,\n",
       "         'theHighValue': 3,\n",
       "         'Clecord': 4,\n",
       "         'Incoming': 10,\n",
       "         'Outgoing': 10,\n",
       "         'calling': 11,\n",
       "         'activity': 15,\n",
       "         'phone': 44,\n",
       "         'orcer': 4,\n",
       "         '20133152': 20,\n",
       "         'collecting': 6,\n",
       "         'alKuwaitis': 25,\n",
       "         'collection': 14,\n",
       "         'voice': 17,\n",
       "         'comparisons': 4,\n",
       "         'targeting': 28,\n",
       "         'briefing': 60,\n",
       "         'Bomber': 3,\n",
       "         'identified': 54,\n",
       "         'Zubaydali': 8,\n",
       "         'wltli': 4,\n",
       "         'aiTested': 4,\n",
       "         'matched': 7,\n",
       "         'previous': 9,\n",
       "         'European': 4,\n",
       "         'Saajid': 6,\n",
       "         'Gloucester': 4,\n",
       "         'person': 9,\n",
       "         'suspected': 25,\n",
       "         'being': 69,\n",
       "         'activityAdditional': 4,\n",
       "         'analysis': 17,\n",
       "         'connecting': 4,\n",
       "         'Reidas': 4,\n",
       "         'intelligenceplaced': 4,\n",
       "         'together': 6,\n",
       "         'linked': 8,\n",
       "         'transcript': 19,\n",
       "         '20020611': 4,\n",
       "         'Intelligenctabriefing': 4,\n",
       "         '20020615': 4,\n",
       "         'Germany': 1,\n",
       "         'concealed': 2,\n",
       "         'shoes': 2,\n",
       "         'notified': 4,\n",
       "         'about': 84,\n",
       "         'understanding': 5,\n",
       "         'location': 13,\n",
       "         'lines': 4,\n",
       "         'divulgedtotheCommittee': 4,\n",
       "         'Thenotificationandsubsequentinformationprovidedtothe': 4,\n",
       "         'Transcript': 19,\n",
       "         'staff': 38,\n",
       "         '20020629': 7,\n",
       "         'investigators': 2,\n",
       "         'confirmed': 17,\n",
       "         'withdrew': 3,\n",
       "         'detailed': 40,\n",
       "         'account': 7,\n",
       "         'investigative': 2,\n",
       "         'efforts': 12,\n",
       "         'aspects': 5,\n",
       "         'ofreportincquircronIAS': 2,\n",
       "         'attorneys': 14,\n",
       "         'Counsel': 105,\n",
       "         'circulated': 2,\n",
       "         'legal': 41,\n",
       "         'describing': 10,\n",
       "         'prohibition': 5,\n",
       "         'torture': 13,\n",
       "         'potential': 15,\n",
       "         'novel': 2,\n",
       "         'defense': 11,\n",
       "         'engaged': 10,\n",
       "         'foreignpartnerreportliighlightshowtheanamedforeign': 1,\n",
       "         'Nizar': 1,\n",
       "         'Trabelsi': 2,\n",
       "         'alleged': 1,\n",
       "         'connected': 6,\n",
       "         'recovered': 6,\n",
       "         'Colvin': 1,\n",
       "         'After': 33,\n",
       "         'sought': 13,\n",
       "         'target': 6,\n",
       "         'hijacked': 1,\n",
       "         'aircraft': 5,\n",
       "         'Heathrow': 15,\n",
       "         'building': 3,\n",
       "         'Canary': 3,\n",
       "         'Wharf': 3,\n",
       "         'major': 5,\n",
       "         'business': 14,\n",
       "         'district': 1,\n",
       "         'London': 3,\n",
       "         'powerfuleconomicsymbols': 1,\n",
       "         'TheinitialplanwasforalQaidaoperativestohijackmultiple': 1,\n",
       "         'airplanes': 1,\n",
       "         'departing': 2,\n",
       "         'around': 2,\n",
       "         'crash': 1,\n",
       "         'airport': 1,\n",
       "         'itself': 2,\n",
       "         'Hambali': 19,\n",
       "         'played': 13,\n",
       "         'supporting': 9,\n",
       "         'Yousef': 7,\n",
       "         'Bojinka': 1,\n",
       "         'place': 11,\n",
       "         'Statesflagged': 2,\n",
       "         'destroy': 2,\n",
       "         'midflightBy': 1,\n",
       "         'playing': 7,\n",
       "         'helping': 8,\n",
       "         'enroll': 1,\n",
       "         'Zacaiias': 1,\n",
       "         'ofAppealsAugustTe': 1,\n",
       "         'vRamzi': 2,\n",
       "         'DIRECTOR': 69,\n",
       "         'JAN02': 1,\n",
       "         'Document': 3,\n",
       "         'Highlights': 1,\n",
       "         'custody': 156,\n",
       "         'Mohammed': 14,\n",
       "         'Mansour': 7,\n",
       "         'Jabarah': 6,\n",
       "         '50000': 12,\n",
       "         'Hambalidirected': 4,\n",
       "         'interests': 14,\n",
       "         '10000': 4,\n",
       "         'contrast': 7,\n",
       "         'proposals': 2,\n",
       "         'expected': 2,\n",
       "         'facility': 29,\n",
       "         'standards': 10,\n",
       "         'guidelines': 11,\n",
       "         'signed': 13,\n",
       "         'forth': 2,\n",
       "         'minimal': 2,\n",
       "         'Questions': 11,\n",
       "         'ofDetainee': 2,\n",
       "         'Recommends': 2,\n",
       "         'Release': 21,\n",
       "         'Transferred': 2,\n",
       "         'Military': 12,\n",
       "         'Custody': 20,\n",
       "         'Heldfor': 2,\n",
       "         'Additional': 6,\n",
       "         'Years': 2,\n",
       "         'interrogated': 9,\n",
       "         'Arsala': 5,\n",
       "         'Afghan': 8,\n",
       "         'midfifties': 2,\n",
       "         'believed': 17,\n",
       "         'assisted': 2,\n",
       "         'Usama': 16,\n",
       "         'Laden': 5,\n",
       "         'escape': 4,\n",
       "         'throughtheToraBoraMountainsinlate2001': 2,\n",
       "         'After56hoursofstandingsleepdeprivation': 2,\n",
       "         'barely': 2,\n",
       "         'enunciate': 2,\n",
       "         'visibly': 3,\n",
       "         'shaken': 2,\n",
       "         'hallucinations': 2,\n",
       "         'depicting': 2,\n",
       "         'mauling': 2,\n",
       "         'killing': 4,\n",
       "         'family': 27,\n",
       "         'Masran': 9,\n",
       "         'while': 42,\n",
       "         'connections': 9,\n",
       "         'Second': 20,\n",
       "         'abandoned': 4,\n",
       "         'deliver': 5,\n",
       "         'HambaH': 4,\n",
       "         'cables': 28,\n",
       "         'explain': 8,\n",
       "         'basis': 3,\n",
       "         'detaining': 2,\n",
       "         'requirements': 7,\n",
       "         'oftheSeptember172001MON': 1,\n",
       "         'These': 4,\n",
       "         'representations': 53,\n",
       "         'listed': 13,\n",
       "         'below': 5,\n",
       "         'Attributed': 5,\n",
       "         'Effectiveness': 14,\n",
       "         'ofthe': 37,\n",
       "         'Khalid': 26,\n",
       "         'Mohammad': 25,\n",
       "         'Mastermind': 10,\n",
       "         'Mukhtar': 15,\n",
       "         'Alias': 4,\n",
       "         'Capture': 16,\n",
       "         'alShibh': 73,\n",
       "         'Majid': 28,\n",
       "         'Thwarting': 5,\n",
       "         'Lemonier': 15,\n",
       "         'Plotting': 4,\n",
       "         'Assertion': 4,\n",
       "         'Validate': 4,\n",
       "         'Sources': 4,\n",
       "         'Arrests': 6,\n",
       "         'Uzhair': 5,\n",
       "         'Saifullah': 10,\n",
       "         'Paracha': 12,\n",
       "         'Critical': 8,\n",
       "         'Alerting': 4,\n",
       "         'Jaffar': 18,\n",
       "         'alTayyar': 22,\n",
       "         'Arrest': 8,\n",
       "         'Saleh': 9,\n",
       "         'alMarri': 13,\n",
       "         'Collection': 4,\n",
       "         'Tactical': 4,\n",
       "         'Shkai': 25,\n",
       "         'Information': 54,\n",
       "         'Operation': 11,\n",
       "         '050744Z': 4,\n",
       "         '051248Z': 4,\n",
       "         'Response': 237,\n",
       "         'showed': 5,\n",
       "         'failed': 10,\n",
       "         'examples': 6,\n",
       "         'important': 25,\n",
       "         'cited': 24,\n",
       "         'prominently': 6,\n",
       "         'cases': 12,\n",
       "         'autliors': 4,\n",
       "         'chose': 4,\n",
       "         'Despite': 16,\n",
       "         'statements': 10,\n",
       "         'coercive': 13,\n",
       "         'physical': 15,\n",
       "         'psychological': 2,\n",
       "         'false': 2,\n",
       "         'answers': 7,\n",
       "         'proven': 2,\n",
       "         'ineffective': 2,\n",
       "         'aforementioned': 2,\n",
       "         'eaily': 2,\n",
       "         'determination': 8,\n",
       "         'sjpecific': 1,\n",
       "         'methods': 10,\n",
       "         'generally': 3,\n",
       "         'comport': 2,\n",
       "         'commonly': 2,\n",
       "         'accepted': 2,\n",
       "         'practices': 4,\n",
       "         'deemed': 3,\n",
       "         'lawful': 5,\n",
       "         'courts': 2,\n",
       "         'begun': 5,\n",
       "         'researching': 1,\n",
       "         'defenses': 2,\n",
       "         'governments': 6,\n",
       "         'nongovernmental': 1,\n",
       "         'Mastennind': 2,\n",
       "         'represented': 21,\n",
       "         'vital': 4,\n",
       "         'Director': 49,\n",
       "         'Hayden': 18,\n",
       "         'IIIIIEP': 2,\n",
       "         'Report': 59,\n",
       "         'Central': 52,\n",
       "         'Agency': 51,\n",
       "         'Accountability': 7,\n",
       "         'Regarding': 10,\n",
       "         'Findings': 16,\n",
       "         'Conclusions': 16,\n",
       "         'Joint': 18,\n",
       "         'Inquiry': 19,\n",
       "         'Before': 13,\n",
       "         '20053477': 4,\n",
       "         'Final': 3,\n",
       "         'StatesT': 2,\n",
       "         '64626': 2,\n",
       "         '131842Z': 2,\n",
       "         '64627': 2,\n",
       "         '131843Z': 2,\n",
       "         'Respect': 5,\n",
       "         'fromHPI': 2,\n",
       "         'mHfREDACTED': 2,\n",
       "         'subject': 147,\n",
       "         'RAMZI': 3,\n",
       "         'LEADS': 3,\n",
       "         ...})"
      ]
     },
     "execution_count": 70,
     "metadata": {},
     "output_type": "execute_result"
    }
   ],
   "source": [
    "filtered_token_counts = Counter(filtered_tokens)\n",
    "filtered_token_counts"
   ]
  },
  {
   "cell_type": "markdown",
   "metadata": {},
   "source": [
    "#### Finding the most common tokens"
   ]
  },
  {
   "cell_type": "code",
   "execution_count": 73,
   "metadata": {},
   "outputs": [
    {
     "data": {
      "text/plain": [
       "[('interrogation', 391), ('information', 375), ('REDACTED', 375)]"
      ]
     },
     "execution_count": 73,
     "metadata": {},
     "output_type": "execute_result"
    }
   ],
   "source": [
    "common_tokens = filtered_token_counts.most_common(3)\n",
    "common_tokens"
   ]
  },
  {
   "cell_type": "markdown",
   "metadata": {},
   "source": [
    "#### Finding the most common tokens by year"
   ]
  },
  {
   "cell_type": "code",
   "execution_count": 74,
   "metadata": {},
   "outputs": [],
   "source": [
    "def find_most_common_by_year(year, sentences_cia):\n",
    "    data = sentences_cia[sentences_cia[\"year\"] == year]\n",
    "    combined_statement = \" \".join(data[\"cleaned_statement\"])\n",
    "    statement_split = combined_statement.split(\" \")\n",
    "    counter = Counter([s for s in statement_split if len(s) > 4])\n",
    "    return counter.most_common(2)"
   ]
  },
  {
   "cell_type": "code",
   "execution_count": 75,
   "metadata": {},
   "outputs": [
    {
     "data": {
      "text/plain": [
       "[('terrorist', 9), ('Ahmad', 9)]"
      ]
     },
     "execution_count": 75,
     "metadata": {},
     "output_type": "execute_result"
    }
   ],
   "source": [
    "common_2000 = find_most_common_by_year(\"2000\", sentences_cia)\n",
    "common_2000"
   ]
  },
  {
   "cell_type": "code",
   "execution_count": 76,
   "metadata": {},
   "outputs": [
    {
     "data": {
      "text/plain": [
       "[('interrogation', 275), ('Zubaydah', 252)]"
      ]
     },
     "execution_count": 76,
     "metadata": {},
     "output_type": "execute_result"
    }
   ],
   "source": [
    "common_2002 = find_most_common_by_year(\"2002\", sentences_cia)\n",
    "common_2002"
   ]
  },
  {
   "cell_type": "code",
   "execution_count": 77,
   "metadata": {},
   "outputs": [
    {
     "data": {
      "text/plain": [
       "[('Response', 196), ('states', 111)]"
      ]
     },
     "execution_count": 77,
     "metadata": {},
     "output_type": "execute_result"
    }
   ],
   "source": [
    "common_2013 = find_most_common_by_year(\"2013\", sentences_cia)\n",
    "common_2013"
   ]
  }
 ],
 "metadata": {
  "kernelspec": {
   "display_name": "Python 3",
   "language": "python",
   "name": "python3"
  },
  "language_info": {
   "codemirror_mode": {
    "name": "ipython",
    "version": 3
   },
   "file_extension": ".py",
   "mimetype": "text/x-python",
   "name": "python",
   "nbconvert_exporter": "python",
   "pygments_lexer": "ipython3",
   "version": "3.6.5"
  }
 },
 "nbformat": 4,
 "nbformat_minor": 2
}
