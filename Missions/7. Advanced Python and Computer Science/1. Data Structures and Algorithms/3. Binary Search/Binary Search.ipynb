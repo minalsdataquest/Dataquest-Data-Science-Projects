{
 "cells": [
  {
   "cell_type": "markdown",
   "metadata": {},
   "source": [
    "# Binary Search"
   ]
  },
  {
   "cell_type": "markdown",
   "metadata": {},
   "source": [
    "We'll be working with nba, a data set containing the names and ages of National Basketball Association (NBA) players from 2013, along with some statistics."
   ]
  },
  {
   "cell_type": "code",
   "execution_count": 1,
   "metadata": {},
   "outputs": [],
   "source": [
    "import pandas as pd\n",
    "import math"
   ]
  },
  {
   "cell_type": "code",
   "execution_count": 2,
   "metadata": {},
   "outputs": [],
   "source": [
    "nba = pd.read_csv(\"nba_2013.csv\")"
   ]
  },
  {
   "cell_type": "code",
   "execution_count": 3,
   "metadata": {},
   "outputs": [
    {
     "data": {
      "text/html": [
       "<div>\n",
       "<style scoped>\n",
       "    .dataframe tbody tr th:only-of-type {\n",
       "        vertical-align: middle;\n",
       "    }\n",
       "\n",
       "    .dataframe tbody tr th {\n",
       "        vertical-align: top;\n",
       "    }\n",
       "\n",
       "    .dataframe thead th {\n",
       "        text-align: right;\n",
       "    }\n",
       "</style>\n",
       "<table border=\"1\" class=\"dataframe\">\n",
       "  <thead>\n",
       "    <tr style=\"text-align: right;\">\n",
       "      <th></th>\n",
       "      <th>player</th>\n",
       "      <th>pos</th>\n",
       "      <th>age</th>\n",
       "      <th>bref_team_id</th>\n",
       "      <th>g</th>\n",
       "      <th>gs</th>\n",
       "      <th>mp</th>\n",
       "      <th>fg</th>\n",
       "      <th>fga</th>\n",
       "      <th>fg.</th>\n",
       "      <th>...</th>\n",
       "      <th>drb</th>\n",
       "      <th>trb</th>\n",
       "      <th>ast</th>\n",
       "      <th>stl</th>\n",
       "      <th>blk</th>\n",
       "      <th>tov</th>\n",
       "      <th>pf</th>\n",
       "      <th>pts</th>\n",
       "      <th>season</th>\n",
       "      <th>season_end</th>\n",
       "    </tr>\n",
       "  </thead>\n",
       "  <tbody>\n",
       "    <tr>\n",
       "      <th>0</th>\n",
       "      <td>Quincy Acy</td>\n",
       "      <td>SF</td>\n",
       "      <td>23</td>\n",
       "      <td>TOT</td>\n",
       "      <td>63</td>\n",
       "      <td>0</td>\n",
       "      <td>847</td>\n",
       "      <td>66</td>\n",
       "      <td>141</td>\n",
       "      <td>0.468</td>\n",
       "      <td>...</td>\n",
       "      <td>144</td>\n",
       "      <td>216</td>\n",
       "      <td>28</td>\n",
       "      <td>23</td>\n",
       "      <td>26</td>\n",
       "      <td>30</td>\n",
       "      <td>122</td>\n",
       "      <td>171</td>\n",
       "      <td>2013-2014</td>\n",
       "      <td>2013</td>\n",
       "    </tr>\n",
       "    <tr>\n",
       "      <th>1</th>\n",
       "      <td>Steven Adams</td>\n",
       "      <td>C</td>\n",
       "      <td>20</td>\n",
       "      <td>OKC</td>\n",
       "      <td>81</td>\n",
       "      <td>20</td>\n",
       "      <td>1197</td>\n",
       "      <td>93</td>\n",
       "      <td>185</td>\n",
       "      <td>0.503</td>\n",
       "      <td>...</td>\n",
       "      <td>190</td>\n",
       "      <td>332</td>\n",
       "      <td>43</td>\n",
       "      <td>40</td>\n",
       "      <td>57</td>\n",
       "      <td>71</td>\n",
       "      <td>203</td>\n",
       "      <td>265</td>\n",
       "      <td>2013-2014</td>\n",
       "      <td>2013</td>\n",
       "    </tr>\n",
       "    <tr>\n",
       "      <th>2</th>\n",
       "      <td>Jeff Adrien</td>\n",
       "      <td>PF</td>\n",
       "      <td>27</td>\n",
       "      <td>TOT</td>\n",
       "      <td>53</td>\n",
       "      <td>12</td>\n",
       "      <td>961</td>\n",
       "      <td>143</td>\n",
       "      <td>275</td>\n",
       "      <td>0.520</td>\n",
       "      <td>...</td>\n",
       "      <td>204</td>\n",
       "      <td>306</td>\n",
       "      <td>38</td>\n",
       "      <td>24</td>\n",
       "      <td>36</td>\n",
       "      <td>39</td>\n",
       "      <td>108</td>\n",
       "      <td>362</td>\n",
       "      <td>2013-2014</td>\n",
       "      <td>2013</td>\n",
       "    </tr>\n",
       "    <tr>\n",
       "      <th>3</th>\n",
       "      <td>Arron Afflalo</td>\n",
       "      <td>SG</td>\n",
       "      <td>28</td>\n",
       "      <td>ORL</td>\n",
       "      <td>73</td>\n",
       "      <td>73</td>\n",
       "      <td>2552</td>\n",
       "      <td>464</td>\n",
       "      <td>1011</td>\n",
       "      <td>0.459</td>\n",
       "      <td>...</td>\n",
       "      <td>230</td>\n",
       "      <td>262</td>\n",
       "      <td>248</td>\n",
       "      <td>35</td>\n",
       "      <td>3</td>\n",
       "      <td>146</td>\n",
       "      <td>136</td>\n",
       "      <td>1330</td>\n",
       "      <td>2013-2014</td>\n",
       "      <td>2013</td>\n",
       "    </tr>\n",
       "    <tr>\n",
       "      <th>4</th>\n",
       "      <td>Alexis Ajinca</td>\n",
       "      <td>C</td>\n",
       "      <td>25</td>\n",
       "      <td>NOP</td>\n",
       "      <td>56</td>\n",
       "      <td>30</td>\n",
       "      <td>951</td>\n",
       "      <td>136</td>\n",
       "      <td>249</td>\n",
       "      <td>0.546</td>\n",
       "      <td>...</td>\n",
       "      <td>183</td>\n",
       "      <td>277</td>\n",
       "      <td>40</td>\n",
       "      <td>23</td>\n",
       "      <td>46</td>\n",
       "      <td>63</td>\n",
       "      <td>187</td>\n",
       "      <td>328</td>\n",
       "      <td>2013-2014</td>\n",
       "      <td>2013</td>\n",
       "    </tr>\n",
       "  </tbody>\n",
       "</table>\n",
       "<p>5 rows × 31 columns</p>\n",
       "</div>"
      ],
      "text/plain": [
       "          player pos  age bref_team_id   g  gs    mp   fg   fga    fg.  \\\n",
       "0     Quincy Acy  SF   23          TOT  63   0   847   66   141  0.468   \n",
       "1   Steven Adams   C   20          OKC  81  20  1197   93   185  0.503   \n",
       "2    Jeff Adrien  PF   27          TOT  53  12   961  143   275  0.520   \n",
       "3  Arron Afflalo  SG   28          ORL  73  73  2552  464  1011  0.459   \n",
       "4  Alexis Ajinca   C   25          NOP  56  30   951  136   249  0.546   \n",
       "\n",
       "      ...      drb  trb  ast  stl  blk  tov   pf   pts     season  season_end  \n",
       "0     ...      144  216   28   23   26   30  122   171  2013-2014        2013  \n",
       "1     ...      190  332   43   40   57   71  203   265  2013-2014        2013  \n",
       "2     ...      204  306   38   24   36   39  108   362  2013-2014        2013  \n",
       "3     ...      230  262  248   35    3  146  136  1330  2013-2014        2013  \n",
       "4     ...      183  277   40   23   46   63  187   328  2013-2014        2013  \n",
       "\n",
       "[5 rows x 31 columns]"
      ]
     },
     "execution_count": 3,
     "metadata": {},
     "output_type": "execute_result"
    }
   ],
   "source": [
    "nba.head()"
   ]
  },
  {
   "cell_type": "markdown",
   "metadata": {},
   "source": [
    "### Implementing Binary Search - Part 1"
   ]
  },
  {
   "cell_type": "code",
   "execution_count": 4,
   "metadata": {},
   "outputs": [],
   "source": [
    "# A function to extract a player's last name\n",
    "\n",
    "def format_name(name):\n",
    "    return name.split(\" \")[1] + \", \" + name.split(\" \")[0]"
   ]
  },
  {
   "cell_type": "code",
   "execution_count": 9,
   "metadata": {},
   "outputs": [],
   "source": [
    "length = len(nba)\n",
    "    \n",
    "def player_age(name):\n",
    "    idx = math.floor(length/2)\n",
    "    guess = format_name(nba.loc[idx][0])\n",
    "    \n",
    "    if format_name(name) < guess:\n",
    "        return \"Earlier\"\n",
    "    elif format_name(name) > guess:\n",
    "        return \"Later\"\n",
    "    else:\n",
    "        return \"Found\""
   ]
  },
  {
   "cell_type": "code",
   "execution_count": 10,
   "metadata": {},
   "outputs": [
    {
     "data": {
      "text/plain": [
       "'Found'"
      ]
     },
     "execution_count": 10,
     "metadata": {},
     "output_type": "execute_result"
    }
   ],
   "source": [
    "johnson_odom_age = player_age(\"Darius Johnson-Odom\")\n",
    "johnson_odom_age"
   ]
  },
  {
   "cell_type": "code",
   "execution_count": 11,
   "metadata": {},
   "outputs": [
    {
     "data": {
      "text/plain": [
       "'Later'"
      ]
     },
     "execution_count": 11,
     "metadata": {},
     "output_type": "execute_result"
    }
   ],
   "source": [
    "young_age = player_age(\"Nick Young\")\n",
    "young_age"
   ]
  },
  {
   "cell_type": "code",
   "execution_count": 12,
   "metadata": {},
   "outputs": [
    {
     "data": {
      "text/plain": [
       "'Earlier'"
      ]
     },
     "execution_count": 12,
     "metadata": {},
     "output_type": "execute_result"
    }
   ],
   "source": [
    "adrien_age = player_age(\"Jeff Adrien\")\n",
    "adrien_age"
   ]
  },
  {
   "cell_type": "markdown",
   "metadata": {},
   "source": [
    "### Implementing Binary Search - Part 2"
   ]
  },
  {
   "cell_type": "code",
   "execution_count": 19,
   "metadata": {},
   "outputs": [],
   "source": [
    "def player_age(name):\n",
    "\n",
    "    up = length - 1\n",
    "    low = 0\n",
    "    \n",
    "    idx_1 = math.floor(length/2)\n",
    "    guess_1 = format_name(nba.loc[idx_1][0])\n",
    "\n",
    "    if format_name(name) < guess_1:\n",
    "        up = idx_1 - 1\n",
    "    elif format_name(name) > guess_1:\n",
    "        low = idx_1 + 1\n",
    "    else:\n",
    "        return guess_1\n",
    "    \n",
    "    idx_2 = math.floor((low + up) / 2)\n",
    "    guess_2 = format_name(nba.loc[idx_2][0])\n",
    "    return guess_2"
   ]
  },
  {
   "cell_type": "code",
   "execution_count": 20,
   "metadata": {},
   "outputs": [
    {
     "data": {
      "text/plain": [
       "'De, Nando'"
      ]
     },
     "execution_count": 20,
     "metadata": {},
     "output_type": "execute_result"
    }
   ],
   "source": [
    "gasol_age = player_age(\"Pau Gasol\")\n",
    "gasol_age"
   ]
  },
  {
   "cell_type": "code",
   "execution_count": 21,
   "metadata": {},
   "outputs": [
    {
     "data": {
      "text/plain": [
       "'Prigioni, Pablo'"
      ]
     },
     "execution_count": 21,
     "metadata": {},
     "output_type": "execute_result"
    }
   ],
   "source": [
    "pierce_age = player_age(\"Paul Pierce\")\n",
    "pierce_age"
   ]
  },
  {
   "cell_type": "markdown",
   "metadata": {},
   "source": [
    "### Implementing Binary Search - Part 3"
   ]
  },
  {
   "cell_type": "code",
   "execution_count": 28,
   "metadata": {},
   "outputs": [],
   "source": [
    "def player_age(name):\n",
    "    \n",
    "    up = length - 1\n",
    "    low = 0\n",
    "    idx = math.floor((up + low) / 2)\n",
    "    guess = format_name(nba.loc[idx][0])\n",
    "\n",
    "    while format_name(name) != guess:\n",
    "        if format_name(name) < guess:\n",
    "            up = idx - 1\n",
    "        else:\n",
    "            low = idx + 1\n",
    "        idx = math.floor((low + up) / 2)\n",
    "        guess = format_name(nba.loc[idx][0])\n",
    "        \n",
    "    return \"Found\""
   ]
  },
  {
   "cell_type": "code",
   "execution_count": 29,
   "metadata": {},
   "outputs": [
    {
     "data": {
      "text/plain": [
       "'Found'"
      ]
     },
     "execution_count": 29,
     "metadata": {},
     "output_type": "execute_result"
    }
   ],
   "source": [
    "carmelo_age = player_age(\"Carmelo Anthony\")\n",
    "carmelo_age"
   ]
  },
  {
   "cell_type": "markdown",
   "metadata": {},
   "source": [
    "### Implementing Binary Search - Part 4"
   ]
  },
  {
   "cell_type": "code",
   "execution_count": 38,
   "metadata": {},
   "outputs": [],
   "source": [
    "def player_age(name):\n",
    "\n",
    "    up = length - 1\n",
    "    low = 0\n",
    "    idx = math.floor((up + low) / 2)\n",
    "    \n",
    "    guess = format_name(nba.loc[idx][0])\n",
    "    while format_name(name) != guess and up >= low:\n",
    "        if format_name(name) < guess:\n",
    "            up = idx - 1\n",
    "        else:\n",
    "            low = idx + 1\n",
    "        idx = math.floor((low + up) / 2)\n",
    "        guess = format_name(nba.loc[idx][0])\n",
    "    if format_name(name) == guess:\n",
    "        return nba.loc[idx][2]\n",
    "    else:\n",
    "        return \"Player Not Found\""
   ]
  },
  {
   "cell_type": "code",
   "execution_count": 39,
   "metadata": {},
   "outputs": [
    {
     "data": {
      "text/plain": [
       "25"
      ]
     },
     "execution_count": 39,
     "metadata": {},
     "output_type": "execute_result"
    }
   ],
   "source": [
    "curry_age = player_age(\"Stephen Curry\")\n",
    "curry_age"
   ]
  },
  {
   "cell_type": "code",
   "execution_count": 40,
   "metadata": {},
   "outputs": [
    {
     "data": {
      "text/plain": [
       "24"
      ]
     },
     "execution_count": 40,
     "metadata": {},
     "output_type": "execute_result"
    }
   ],
   "source": [
    "griffin_age = player_age(\"Blake Griffin\")\n",
    "griffin_age"
   ]
  },
  {
   "cell_type": "code",
   "execution_count": 41,
   "metadata": {},
   "outputs": [
    {
     "data": {
      "text/plain": [
       "'Player Not Found'"
      ]
     },
     "execution_count": 41,
     "metadata": {},
     "output_type": "execute_result"
    }
   ],
   "source": [
    "jordan_age = player_age(\"Michael Jordan\")\n",
    "jordan_age"
   ]
  }
 ],
 "metadata": {
  "kernelspec": {
   "display_name": "Python 3",
   "language": "python",
   "name": "python3"
  },
  "language_info": {
   "codemirror_mode": {
    "name": "ipython",
    "version": 3
   },
   "file_extension": ".py",
   "mimetype": "text/x-python",
   "name": "python",
   "nbconvert_exporter": "python",
   "pygments_lexer": "ipython3",
   "version": "3.6.4"
  }
 },
 "nbformat": 4,
 "nbformat_minor": 2
}
