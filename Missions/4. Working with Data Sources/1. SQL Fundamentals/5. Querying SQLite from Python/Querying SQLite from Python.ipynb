{
 "cells": [
  {
   "cell_type": "markdown",
   "metadata": {},
   "source": [
    "# Querying SQLite from Python"
   ]
  },
  {
   "cell_type": "markdown",
   "metadata": {},
   "source": [
    "We'll work with the American Community Survey data on college majors and job outcomes. The database file we'll be working with is called jobs.db. Here are the columns descriptions:\n",
    "\n",
    "- `Rank` - The major's rank by median earnings\n",
    "- `Major_code` - The major's code or ID\n",
    "- `Major` - The name of the major\n",
    "- `Major_category` - The broader category the major belongs to\n",
    "- `Total` - The total number of people who studied the major\n",
    "- `Sample_size` - The sample size (unweighted) of graduates with full time jobs\n",
    "- `Men` - The number of male graduates\n",
    "- `Women` - The number of female graduates\n",
    "- `ShareWomen` - Women as a proportion of the total number of graduates (a number ranging from 0 to 1)\n",
    "- `Employed` - The number of employed graduates\n",
    "\n",
    "A subset of the data is loaded into a table named recent_grads in a database. The subset contains the 2010-2012 data for recent college grads only. \n"
   ]
  },
  {
   "cell_type": "code",
   "execution_count": 1,
   "metadata": {},
   "outputs": [],
   "source": [
    "import sqlite3"
   ]
  },
  {
   "cell_type": "code",
   "execution_count": 2,
   "metadata": {},
   "outputs": [],
   "source": [
    "# connect to the database we want to query\n",
    "conn = sqlite3.connect(\"jobs.db\")"
   ]
  },
  {
   "cell_type": "code",
   "execution_count": 3,
   "metadata": {},
   "outputs": [],
   "source": [
    "# return a Cursor instance corresponding to the database\n",
    "cursor = conn.cursor()"
   ]
  },
  {
   "cell_type": "code",
   "execution_count": 4,
   "metadata": {},
   "outputs": [],
   "source": [
    "# write a query that returns all of the values in the Major column from the recent_grads table\n",
    "query = \"select Major from recent_grads;\""
   ]
  },
  {
   "cell_type": "code",
   "execution_count": 5,
   "metadata": {},
   "outputs": [
    {
     "data": {
      "text/plain": [
       "<sqlite3.Cursor at 0x1935b6a5ce0>"
      ]
     },
     "execution_count": 5,
     "metadata": {},
     "output_type": "execute_result"
    }
   ],
   "source": [
    "# execute the query\n",
    "cursor.execute(query)"
   ]
  },
  {
   "cell_type": "code",
   "execution_count": 6,
   "metadata": {},
   "outputs": [],
   "source": [
    "# store the full results set (a list of tuples) in majors\n",
    "majors = cursor.fetchall()"
   ]
  },
  {
   "cell_type": "code",
   "execution_count": 7,
   "metadata": {},
   "outputs": [
    {
     "name": "stdout",
     "output_type": "stream",
     "text": [
      "[('PETROLEUM ENGINEERING',), ('MINING AND MINERAL ENGINEERING',), ('METALLURGICAL ENGINEERING',)]\n"
     ]
    }
   ],
   "source": [
    "# print the first three tuples in majors\n",
    "print(majors[0:3])"
   ]
  },
  {
   "cell_type": "code",
   "execution_count": 8,
   "metadata": {},
   "outputs": [
    {
     "name": "stdout",
     "output_type": "stream",
     "text": [
      "[('PETROLEUM ENGINEERING',), ('MINING AND MINERAL ENGINEERING',), ('METALLURGICAL ENGINEERING',)]\n"
     ]
    }
   ],
   "source": [
    "# skip creating a Cursor\n",
    "conn = sqlite3.connect(\"jobs.db\")\n",
    "query = \"select Major from recent_grads;\"\n",
    "majors = conn.execute(query).fetchall()\n",
    "print(majors[0:3])"
   ]
  },
  {
   "cell_type": "code",
   "execution_count": 9,
   "metadata": {},
   "outputs": [],
   "source": [
    "# write and run a query that returns the Major and Major_category columns from recent_grads\n",
    "query = \"select Major, Major_category from recent_grads;\""
   ]
  },
  {
   "cell_type": "code",
   "execution_count": 10,
   "metadata": {},
   "outputs": [
    {
     "name": "stdout",
     "output_type": "stream",
     "text": [
      "[('PETROLEUM ENGINEERING', 'Engineering'), ('MINING AND MINERAL ENGINEERING', 'Engineering'), ('METALLURGICAL ENGINEERING', 'Engineering'), ('NAVAL ARCHITECTURE AND MARINE ENGINEERING', 'Engineering'), ('CHEMICAL ENGINEERING', 'Engineering')]\n"
     ]
    }
   ],
   "source": [
    "# fetch the first five results and store them as five_results\n",
    "five_results = conn.execute(query).fetchmany(5)\n",
    "print(five_results)"
   ]
  },
  {
   "cell_type": "code",
   "execution_count": 11,
   "metadata": {},
   "outputs": [],
   "source": [
    "# close the connection to the database\n",
    "conn.close()"
   ]
  },
  {
   "cell_type": "code",
   "execution_count": 12,
   "metadata": {},
   "outputs": [],
   "source": [
    "# connect to the database jobs2.db, which contains the same data as jobs.db\n",
    "conn = sqlite3.connect(\"jobs2.db\")"
   ]
  },
  {
   "cell_type": "code",
   "execution_count": 13,
   "metadata": {},
   "outputs": [
    {
     "data": {
      "text/plain": [
       "<sqlite3.Cursor at 0x1935b6a5d50>"
      ]
     },
     "execution_count": 13,
     "metadata": {},
     "output_type": "execute_result"
    }
   ],
   "source": [
    "# write and execute a query that returns all of the majors (Major) in reverse alphabetical order\n",
    "query = \"select Major from recent_grads order by Major desc;\"\n",
    "conn.execute(query)"
   ]
  },
  {
   "cell_type": "code",
   "execution_count": 14,
   "metadata": {},
   "outputs": [],
   "source": [
    "# assign the full result set to reverse_alphabetical\n",
    "reverse_alphabetical = conn.execute(query).fetchall()"
   ]
  },
  {
   "cell_type": "code",
   "execution_count": 16,
   "metadata": {},
   "outputs": [
    {
     "name": "stdout",
     "output_type": "stream",
     "text": [
      "[('ZOOLOGY',), ('VISUAL AND PERFORMING ARTS',), ('UNITED STATES HISTORY',), ('TREATMENT THERAPY PROFESSIONS',), ('TRANSPORTATION SCIENCES AND TECHNOLOGIES',)]\n"
     ]
    }
   ],
   "source": [
    "print(reverse_alphabetical[0:5])"
   ]
  },
  {
   "cell_type": "code",
   "execution_count": 17,
   "metadata": {},
   "outputs": [],
   "source": [
    "# close the connection to the database\n",
    "conn.close()"
   ]
  }
 ],
 "metadata": {
  "kernelspec": {
   "display_name": "Python 3",
   "language": "python",
   "name": "python3"
  },
  "language_info": {
   "codemirror_mode": {
    "name": "ipython",
    "version": 3
   },
   "file_extension": ".py",
   "mimetype": "text/x-python",
   "name": "python",
   "nbconvert_exporter": "python",
   "pygments_lexer": "ipython3",
   "version": "3.6.5"
  }
 },
 "nbformat": 4,
 "nbformat_minor": 2
}
