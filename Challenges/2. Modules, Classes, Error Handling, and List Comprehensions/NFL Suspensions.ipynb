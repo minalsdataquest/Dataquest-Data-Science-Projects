{
 "cells": [
  {
   "cell_type": "markdown",
   "metadata": {},
   "source": [
    "# NFL Suspensions"
   ]
  },
  {
   "cell_type": "code",
   "execution_count": 1,
   "metadata": {},
   "outputs": [],
   "source": [
    "import csv"
   ]
  },
  {
   "cell_type": "code",
   "execution_count": 3,
   "metadata": {},
   "outputs": [
    {
     "data": {
      "text/plain": [
       "[['name', 'team', 'games', 'category', 'desc.', 'year', 'source'],\n",
       " ['F. Davis',\n",
       "  'WAS',\n",
       "  'Indef.',\n",
       "  'Substance abuse, repeated offense',\n",
       "  'Marijuana-related',\n",
       "  '2014',\n",
       "  'http://www.cbssports.com/nfl/eye-on-football/24448694/redskins-te-fred-davis-suspended-Indefiniteinitely-by-nfl']]"
      ]
     },
     "execution_count": 3,
     "metadata": {},
     "output_type": "execute_result"
    }
   ],
   "source": [
    "f = open('nfl-suspensions-data.csv')\n",
    "csvread = csv.reader(f)\n",
    "nfl_suspensions = list(csvread)\n",
    "\n",
    "nfl_suspensions[0:2]"
   ]
  },
  {
   "cell_type": "code",
   "execution_count": 4,
   "metadata": {},
   "outputs": [],
   "source": [
    "nfl_suspensions = nfl_suspensions[1:]"
   ]
  },
  {
   "cell_type": "code",
   "execution_count": 6,
   "metadata": {},
   "outputs": [
    {
     "name": "stdout",
     "output_type": "stream",
     "text": [
      "{'2014': 29, '1946': 1, '1947': 1, '2010': 21, '2008': 10, '2007': 17, '1983': 1, '2009': 10, '2005': 8, '2000': 1, '2012': 45, '2001': 3, '2006': 11, '1989': 17, '   ': 1, '1963': 1, '2013': 40, '1990': 3, '2011': 13, '2004': 6, '2002': 7, '2003': 9, '1997': 3, '1999': 5, '1993': 1, '1995': 1, '1998': 2, '1994': 1, '1986': 1}\n"
     ]
    }
   ],
   "source": [
    "years = {}\n",
    "for row in nfl_suspensions:\n",
    "    if row[5] in years:\n",
    "        years[row[5]] += 1\n",
    "    else:\n",
    "        years[row[5]] = 1\n",
    "\n",
    "print(years)"
   ]
  },
  {
   "cell_type": "code",
   "execution_count": 7,
   "metadata": {},
   "outputs": [
    {
     "name": "stdout",
     "output_type": "stream",
     "text": [
      "{'KC', 'STL', 'NYG', 'PHI', 'FREE', 'TEN', 'ATL', 'GB', 'DEN', 'IND', 'NO', 'PIT', 'SEA', 'NE', 'CAR', 'WAS', 'BAL', 'SF', 'JAX', 'TB', 'SD', 'OAK', 'LA', 'BUF', 'MIN', 'ARI', 'DAL', 'HOU', 'DET', 'CHI', 'CIN', 'CLE', 'MIA', 'NYJ'}\n"
     ]
    }
   ],
   "source": [
    "unique_teams = set([row[1] for row in nfl_suspensions])\n",
    "print(unique_teams)"
   ]
  },
  {
   "cell_type": "code",
   "execution_count": 9,
   "metadata": {},
   "outputs": [
    {
     "name": "stdout",
     "output_type": "stream",
     "text": [
      "{'36', '8', '32', '3', '5', '16', '10', '1', '14', 'Indef.', '2', '20', '4', '6'}\n"
     ]
    }
   ],
   "source": [
    "unique_games = set([row[2] for row in nfl_suspensions])\n",
    "print(unique_games)"
   ]
  },
  {
   "cell_type": "code",
   "execution_count": 10,
   "metadata": {},
   "outputs": [],
   "source": [
    "class Suspensions():\n",
    "    def __init__(self,row):\n",
    "        self.name = row[0]\n",
    "        self.team = row[1]\n",
    "        self.game = row[2]\n",
    "        self.year = row[3]\n",
    "\n",
    "third_suspension = Suspensions(nfl_suspensions[2]) "
   ]
  },
  {
   "cell_type": "code",
   "execution_count": 11,
   "metadata": {},
   "outputs": [],
   "source": [
    "class Suspensions():\n",
    "    def __init__(self,row):\n",
    "        self.name = row[0]\n",
    "        self.team = row[1]\n",
    "        self.game = row[2]\n",
    "        try:\n",
    "            self.year = int(row[3])\n",
    "        except Exception:\n",
    "            self.year = 0\n",
    "            \n",
    "    def get_year(self):\n",
    "        return self.year\n",
    "\n",
    "missing_year = Suspensions(nfl_suspensions[22])\n",
    "twenty_third_year = missing_year.get_year()"
   ]
  },
  {
   "cell_type": "code",
   "execution_count": 12,
   "metadata": {},
   "outputs": [
    {
     "name": "stdout",
     "output_type": "stream",
     "text": [
      "0\n"
     ]
    }
   ],
   "source": [
    "print(twenty_third_year)"
   ]
  }
 ],
 "metadata": {
  "kernelspec": {
   "display_name": "Python 3",
   "language": "python",
   "name": "python3"
  },
  "language_info": {
   "codemirror_mode": {
    "name": "ipython",
    "version": 3
   },
   "file_extension": ".py",
   "mimetype": "text/x-python",
   "name": "python",
   "nbconvert_exporter": "python",
   "pygments_lexer": "ipython3",
   "version": "3.6.5"
  }
 },
 "nbformat": 4,
 "nbformat_minor": 2
}
