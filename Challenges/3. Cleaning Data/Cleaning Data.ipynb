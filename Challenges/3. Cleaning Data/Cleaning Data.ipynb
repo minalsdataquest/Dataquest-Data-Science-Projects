{
 "cells": [
  {
   "cell_type": "markdown",
   "metadata": {},
   "source": [
    "# Cleaning Data"
   ]
  },
  {
   "cell_type": "markdown",
   "metadata": {},
   "source": [
    "### Introduction"
   ]
  },
  {
   "cell_type": "markdown",
   "metadata": {},
   "source": [
    "The data set contains information about [the avengers](https://en.wikipedia.org/wiki/Avengers_(comics)."
   ]
  },
  {
   "cell_type": "markdown",
   "metadata": {},
   "source": [
    "### Exploring the Data"
   ]
  },
  {
   "cell_type": "code",
   "execution_count": 4,
   "metadata": {},
   "outputs": [
    {
     "data": {
      "text/html": [
       "<div>\n",
       "<style scoped>\n",
       "    .dataframe tbody tr th:only-of-type {\n",
       "        vertical-align: middle;\n",
       "    }\n",
       "\n",
       "    .dataframe tbody tr th {\n",
       "        vertical-align: top;\n",
       "    }\n",
       "\n",
       "    .dataframe thead th {\n",
       "        text-align: right;\n",
       "    }\n",
       "</style>\n",
       "<table border=\"1\" class=\"dataframe\">\n",
       "  <thead>\n",
       "    <tr style=\"text-align: right;\">\n",
       "      <th></th>\n",
       "      <th>URL</th>\n",
       "      <th>Name/Alias</th>\n",
       "      <th>Appearances</th>\n",
       "      <th>Current?</th>\n",
       "      <th>Gender</th>\n",
       "      <th>Probationary Introl</th>\n",
       "      <th>Full/Reserve Avengers Intro</th>\n",
       "      <th>Year</th>\n",
       "      <th>Years since joining</th>\n",
       "      <th>Honorary</th>\n",
       "      <th>...</th>\n",
       "      <th>Return1</th>\n",
       "      <th>Death2</th>\n",
       "      <th>Return2</th>\n",
       "      <th>Death3</th>\n",
       "      <th>Return3</th>\n",
       "      <th>Death4</th>\n",
       "      <th>Return4</th>\n",
       "      <th>Death5</th>\n",
       "      <th>Return5</th>\n",
       "      <th>Notes</th>\n",
       "    </tr>\n",
       "  </thead>\n",
       "  <tbody>\n",
       "    <tr>\n",
       "      <th>0</th>\n",
       "      <td>http://marvel.wikia.com/Henry_Pym_(Earth-616)</td>\n",
       "      <td>Henry Jonathan \"Hank\" Pym</td>\n",
       "      <td>1269</td>\n",
       "      <td>YES</td>\n",
       "      <td>MALE</td>\n",
       "      <td>NaN</td>\n",
       "      <td>Sep-63</td>\n",
       "      <td>1963</td>\n",
       "      <td>52</td>\n",
       "      <td>Full</td>\n",
       "      <td>...</td>\n",
       "      <td>NO</td>\n",
       "      <td>NaN</td>\n",
       "      <td>NaN</td>\n",
       "      <td>NaN</td>\n",
       "      <td>NaN</td>\n",
       "      <td>NaN</td>\n",
       "      <td>NaN</td>\n",
       "      <td>NaN</td>\n",
       "      <td>NaN</td>\n",
       "      <td>Merged with Ultron in Rage of Ultron Vol. 1. A...</td>\n",
       "    </tr>\n",
       "    <tr>\n",
       "      <th>1</th>\n",
       "      <td>http://marvel.wikia.com/Janet_van_Dyne_(Earth-...</td>\n",
       "      <td>Janet van Dyne</td>\n",
       "      <td>1165</td>\n",
       "      <td>YES</td>\n",
       "      <td>FEMALE</td>\n",
       "      <td>NaN</td>\n",
       "      <td>Sep-63</td>\n",
       "      <td>1963</td>\n",
       "      <td>52</td>\n",
       "      <td>Full</td>\n",
       "      <td>...</td>\n",
       "      <td>YES</td>\n",
       "      <td>NaN</td>\n",
       "      <td>NaN</td>\n",
       "      <td>NaN</td>\n",
       "      <td>NaN</td>\n",
       "      <td>NaN</td>\n",
       "      <td>NaN</td>\n",
       "      <td>NaN</td>\n",
       "      <td>NaN</td>\n",
       "      <td>Dies in Secret Invasion V1:I8. Actually was se...</td>\n",
       "    </tr>\n",
       "    <tr>\n",
       "      <th>2</th>\n",
       "      <td>http://marvel.wikia.com/Anthony_Stark_(Earth-616)</td>\n",
       "      <td>Anthony Edward \"Tony\" Stark</td>\n",
       "      <td>3068</td>\n",
       "      <td>YES</td>\n",
       "      <td>MALE</td>\n",
       "      <td>NaN</td>\n",
       "      <td>Sep-63</td>\n",
       "      <td>1963</td>\n",
       "      <td>52</td>\n",
       "      <td>Full</td>\n",
       "      <td>...</td>\n",
       "      <td>YES</td>\n",
       "      <td>NaN</td>\n",
       "      <td>NaN</td>\n",
       "      <td>NaN</td>\n",
       "      <td>NaN</td>\n",
       "      <td>NaN</td>\n",
       "      <td>NaN</td>\n",
       "      <td>NaN</td>\n",
       "      <td>NaN</td>\n",
       "      <td>Death: \"Later while under the influence of Imm...</td>\n",
       "    </tr>\n",
       "    <tr>\n",
       "      <th>3</th>\n",
       "      <td>http://marvel.wikia.com/Robert_Bruce_Banner_(E...</td>\n",
       "      <td>Robert Bruce Banner</td>\n",
       "      <td>2089</td>\n",
       "      <td>YES</td>\n",
       "      <td>MALE</td>\n",
       "      <td>NaN</td>\n",
       "      <td>Sep-63</td>\n",
       "      <td>1963</td>\n",
       "      <td>52</td>\n",
       "      <td>Full</td>\n",
       "      <td>...</td>\n",
       "      <td>YES</td>\n",
       "      <td>NaN</td>\n",
       "      <td>NaN</td>\n",
       "      <td>NaN</td>\n",
       "      <td>NaN</td>\n",
       "      <td>NaN</td>\n",
       "      <td>NaN</td>\n",
       "      <td>NaN</td>\n",
       "      <td>NaN</td>\n",
       "      <td>Dies in Ghosts of the Future arc. However \"he ...</td>\n",
       "    </tr>\n",
       "    <tr>\n",
       "      <th>4</th>\n",
       "      <td>http://marvel.wikia.com/Thor_Odinson_(Earth-616)</td>\n",
       "      <td>Thor Odinson</td>\n",
       "      <td>2402</td>\n",
       "      <td>YES</td>\n",
       "      <td>MALE</td>\n",
       "      <td>NaN</td>\n",
       "      <td>Sep-63</td>\n",
       "      <td>1963</td>\n",
       "      <td>52</td>\n",
       "      <td>Full</td>\n",
       "      <td>...</td>\n",
       "      <td>YES</td>\n",
       "      <td>YES</td>\n",
       "      <td>NO</td>\n",
       "      <td>NaN</td>\n",
       "      <td>NaN</td>\n",
       "      <td>NaN</td>\n",
       "      <td>NaN</td>\n",
       "      <td>NaN</td>\n",
       "      <td>NaN</td>\n",
       "      <td>Dies in Fear Itself brought back because that'...</td>\n",
       "    </tr>\n",
       "  </tbody>\n",
       "</table>\n",
       "<p>5 rows × 21 columns</p>\n",
       "</div>"
      ],
      "text/plain": [
       "                                                 URL  \\\n",
       "0      http://marvel.wikia.com/Henry_Pym_(Earth-616)   \n",
       "1  http://marvel.wikia.com/Janet_van_Dyne_(Earth-...   \n",
       "2  http://marvel.wikia.com/Anthony_Stark_(Earth-616)   \n",
       "3  http://marvel.wikia.com/Robert_Bruce_Banner_(E...   \n",
       "4   http://marvel.wikia.com/Thor_Odinson_(Earth-616)   \n",
       "\n",
       "                    Name/Alias  Appearances Current?  Gender  \\\n",
       "0    Henry Jonathan \"Hank\" Pym         1269      YES    MALE   \n",
       "1               Janet van Dyne         1165      YES  FEMALE   \n",
       "2  Anthony Edward \"Tony\" Stark         3068      YES    MALE   \n",
       "3          Robert Bruce Banner         2089      YES    MALE   \n",
       "4                 Thor Odinson         2402      YES    MALE   \n",
       "\n",
       "  Probationary Introl Full/Reserve Avengers Intro  Year  Years since joining  \\\n",
       "0                 NaN                      Sep-63  1963                   52   \n",
       "1                 NaN                      Sep-63  1963                   52   \n",
       "2                 NaN                      Sep-63  1963                   52   \n",
       "3                 NaN                      Sep-63  1963                   52   \n",
       "4                 NaN                      Sep-63  1963                   52   \n",
       "\n",
       "  Honorary                        ...                         Return1 Death2  \\\n",
       "0     Full                        ...                              NO    NaN   \n",
       "1     Full                        ...                             YES    NaN   \n",
       "2     Full                        ...                             YES    NaN   \n",
       "3     Full                        ...                             YES    NaN   \n",
       "4     Full                        ...                             YES    YES   \n",
       "\n",
       "  Return2 Death3 Return3 Death4 Return4 Death5 Return5  \\\n",
       "0     NaN    NaN     NaN    NaN     NaN    NaN     NaN   \n",
       "1     NaN    NaN     NaN    NaN     NaN    NaN     NaN   \n",
       "2     NaN    NaN     NaN    NaN     NaN    NaN     NaN   \n",
       "3     NaN    NaN     NaN    NaN     NaN    NaN     NaN   \n",
       "4      NO    NaN     NaN    NaN     NaN    NaN     NaN   \n",
       "\n",
       "                                               Notes  \n",
       "0  Merged with Ultron in Rage of Ultron Vol. 1. A...  \n",
       "1  Dies in Secret Invasion V1:I8. Actually was se...  \n",
       "2  Death: \"Later while under the influence of Imm...  \n",
       "3  Dies in Ghosts of the Future arc. However \"he ...  \n",
       "4  Dies in Fear Itself brought back because that'...  \n",
       "\n",
       "[5 rows x 21 columns]"
      ]
     },
     "execution_count": 4,
     "metadata": {},
     "output_type": "execute_result"
    }
   ],
   "source": [
    "import pandas as pd\n",
    "\n",
    "avengers = pd.read_csv(\"avengers.csv\",encoding='latin-1')\n",
    "avengers.head()"
   ]
  },
  {
   "cell_type": "markdown",
   "metadata": {},
   "source": [
    "### Filtering Out Bad Data"
   ]
  },
  {
   "cell_type": "code",
   "execution_count": 6,
   "metadata": {},
   "outputs": [
    {
     "data": {
      "text/plain": [
       "<matplotlib.axes._subplots.AxesSubplot at 0x2aa70960278>"
      ]
     },
     "execution_count": 6,
     "metadata": {},
     "output_type": "execute_result"
    },
    {
     "data": {
      "image/png": "[encoded data removed]",
      "text/plain": [
       "<matplotlib.figure.Figure at 0x2aa7091bac8>"
      ]
     },
     "metadata": {},
     "output_type": "display_data"
    }
   ],
   "source": [
    "import matplotlib.pyplot as plt\n",
    "\n",
    "avengers[\"Year\"].hist()"
   ]
  },
  {
   "cell_type": "code",
   "execution_count": 12,
   "metadata": {},
   "outputs": [],
   "source": [
    "true_avengers = pd.DataFrame()\n",
    "true_avengers = avengers[avengers[\"Year\"] > 1959]"
   ]
  },
  {
   "cell_type": "markdown",
   "metadata": {},
   "source": [
    "### Consolidating Deaths"
   ]
  },
  {
   "cell_type": "code",
   "execution_count": 21,
   "metadata": {},
   "outputs": [
    {
     "data": {
      "text/plain": [
       "0    1\n",
       "1    1\n",
       "2    1\n",
       "3    1\n",
       "4    2\n",
       "Name: Death, dtype: int64"
      ]
     },
     "execution_count": 21,
     "metadata": {},
     "output_type": "execute_result"
    }
   ],
   "source": [
    "# Finging the total number of deaths each character experienced\n",
    "import warnings\n",
    "warnings.filterwarnings('ignore')\n",
    "\n",
    "def num_of_deaths(row):\n",
    "    cols = ['Death1', 'Death2','Death3','Death4','Death5']\n",
    "    death_num = 0\n",
    "    \n",
    "    for col in cols:\n",
    "        death = row[col]\n",
    "        if death == 'NO' or pd.isnull(death):\n",
    "            continue\n",
    "        elif death == 'YES':\n",
    "            death_num += 1\n",
    "            \n",
    "    return death_num\n",
    "\n",
    "true_avengers[\"Death\"] = true_avengers.apply(num_of_deaths, axis=1)\n",
    "true_avengers[\"Death\"].head()"
   ]
  },
  {
   "cell_type": "markdown",
   "metadata": {},
   "source": [
    "### Verifying Years Since Joining"
   ]
  },
  {
   "cell_type": "code",
   "execution_count": 25,
   "metadata": {},
   "outputs": [
    {
     "data": {
      "text/plain": [
       "159"
      ]
     },
     "execution_count": 25,
     "metadata": {},
     "output_type": "execute_result"
    }
   ],
   "source": [
    "# Assuming 2015 as the reference year, verify that the \"Years since joining\" field accurately reflects the Year column.\n",
    "\n",
    "correct_joined_year = true_avengers[\"Years since joining\"] ==  2015 - true_avengers[\"Year\"]\n",
    "correct_joined_year.sum()"
   ]
  }
 ],
 "metadata": {
  "kernelspec": {
   "display_name": "Python 3",
   "language": "python",
   "name": "python3"
  },
  "language_info": {
   "codemirror_mode": {
    "name": "ipython",
    "version": 3
   },
   "file_extension": ".py",
   "mimetype": "text/x-python",
   "name": "python",
   "nbconvert_exporter": "python",
   "pygments_lexer": "ipython3",
   "version": "3.6.5"
  }
 },
 "nbformat": 4,
 "nbformat_minor": 2
}
