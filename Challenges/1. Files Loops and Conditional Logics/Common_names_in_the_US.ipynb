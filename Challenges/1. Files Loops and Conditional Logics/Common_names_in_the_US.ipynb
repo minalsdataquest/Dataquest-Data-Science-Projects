{
 "cells": [
  {
   "cell_type": "markdown",
   "metadata": {},
   "source": [
    "# Common names in the U.S."
   ]
  },
  {
   "cell_type": "code",
   "execution_count": 1,
   "metadata": {},
   "outputs": [],
   "source": [
    "f = open(\"dq_unisex_names.csv\",\"r\")\n",
    "names = f.read()"
   ]
  },
  {
   "cell_type": "code",
   "execution_count": 6,
   "metadata": {},
   "outputs": [],
   "source": [
    "names_list = names.split(\"\\n\")"
   ]
  },
  {
   "cell_type": "code",
   "execution_count": 7,
   "metadata": {},
   "outputs": [
    {
     "data": {
      "text/plain": [
       "['Casey,176544.328149',\n",
       " 'Riley,154860.66517300002',\n",
       " 'Jessie,136381.830656',\n",
       " 'Jackie,132928.78874000002',\n",
       " 'Avery,121797.41951600001']"
      ]
     },
     "execution_count": 7,
     "metadata": {},
     "output_type": "execute_result"
    }
   ],
   "source": [
    "names_list[0:5]"
   ]
  },
  {
   "cell_type": "code",
   "execution_count": 9,
   "metadata": {},
   "outputs": [],
   "source": [
    "nested_list = []\n",
    "for row in names_list:\n",
    "    nested_list.append(row.split(','))"
   ]
  },
  {
   "cell_type": "code",
   "execution_count": 11,
   "metadata": {},
   "outputs": [
    {
     "data": {
      "text/plain": [
       "[['Casey', '176544.328149'],\n",
       " ['Riley', '154860.66517300002'],\n",
       " ['Jessie', '136381.830656'],\n",
       " ['Jackie', '132928.78874000002'],\n",
       " ['Avery', '121797.41951600001']]"
      ]
     },
     "execution_count": 11,
     "metadata": {},
     "output_type": "execute_result"
    }
   ],
   "source": [
    "nested_list[0:5]"
   ]
  },
  {
   "cell_type": "code",
   "execution_count": 12,
   "metadata": {},
   "outputs": [],
   "source": [
    "numerical_list = []\n",
    "for row in nested_list:\n",
    "    numerical_list.append([row[0],float(row[1])])"
   ]
  },
  {
   "cell_type": "code",
   "execution_count": 13,
   "metadata": {},
   "outputs": [
    {
     "data": {
      "text/plain": [
       "[['Casey', 176544.328149],\n",
       " ['Riley', 154860.66517300002],\n",
       " ['Jessie', 136381.830656],\n",
       " ['Jackie', 132928.78874000002],\n",
       " ['Avery', 121797.41951600001]]"
      ]
     },
     "execution_count": 13,
     "metadata": {},
     "output_type": "execute_result"
    }
   ],
   "source": [
    "numerical_list[0:5]"
   ]
  },
  {
   "cell_type": "code",
   "execution_count": 15,
   "metadata": {},
   "outputs": [],
   "source": [
    "thousand_or_greater = []\n",
    "for row in numerical_list:\n",
    "    if row[1] >= 1000:\n",
    "        thousand_or_greater.append(row[0])"
   ]
  },
  {
   "cell_type": "code",
   "execution_count": 16,
   "metadata": {},
   "outputs": [
    {
     "data": {
      "text/plain": [
       "['Casey', 'Riley', 'Jessie', 'Jackie', 'Avery']"
      ]
     },
     "execution_count": 16,
     "metadata": {},
     "output_type": "execute_result"
    }
   ],
   "source": [
    "thousand_or_greater[0:5]"
   ]
  }
 ],
 "metadata": {
  "kernelspec": {
   "display_name": "Python 3",
   "language": "python",
   "name": "python3"
  },
  "language_info": {
   "codemirror_mode": {
    "name": "ipython",
    "version": 3
   },
   "file_extension": ".py",
   "mimetype": "text/x-python",
   "name": "python",
   "nbconvert_exporter": "python",
   "pygments_lexer": "ipython3",
   "version": "3.6.4"
  }
 },
 "nbformat": 4,
 "nbformat_minor": 2
}
